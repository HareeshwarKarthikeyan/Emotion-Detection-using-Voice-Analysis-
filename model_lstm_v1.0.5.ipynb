{
  "nbformat": 4,
  "nbformat_minor": 0,
  "metadata": {
    "kernelspec": {
      "display_name": "Python 3",
      "language": "python",
      "name": "python3"
    },
    "language_info": {
      "codemirror_mode": {
        "name": "ipython",
        "version": 3
      },
      "file_extension": ".py",
      "mimetype": "text/x-python",
      "name": "python",
      "nbconvert_exporter": "python",
      "pygments_lexer": "ipython3",
      "version": "3.7.0"
    },
    "colab": {
      "name": "model_lstm_v1.0.4.ipynb",
      "provenance": []
    }
  },
  "cells": [
    {
      "cell_type": "markdown",
      "metadata": {
        "id": "bAY0e6kiRq7A",
        "colab_type": "text"
      },
      "source": [
        "### Importing the requried libraries"
      ]
    },
    {
      "cell_type": "code",
      "metadata": {
        "id": "AZXvezxHRq7C",
        "colab_type": "code",
        "colab": {}
      },
      "source": [
        "import tensorflow as tf\n",
        "import pandas as pd\n",
        "import numpy as np\n",
        "import csv\n",
        "import tensorflow.keras\n",
        "from tensorflow.keras.preprocessing.text import Tokenizer\n",
        "from tensorflow.keras.preprocessing.sequence import pad_sequences\n",
        "from keras.models import Model\n",
        "from keras.models import Sequential\n",
        "from keras.layers import Input\n",
        "from keras.layers import LSTM\n",
        "from keras.layers import Dense\n",
        "from keras.utils import plot_model\n",
        "from sklearn.model_selection import train_test_split\n",
        "from numpy import array\n",
        "from numpy import asarray\n",
        "from numpy import zeros\n",
        "from keras.layers.embeddings import Embedding\n",
        "from keras.layers import Dropout\n"
      ],
      "execution_count": 0,
      "outputs": []
    },
    {
      "cell_type": "markdown",
      "metadata": {
        "id": "h0MqYZFARq7G",
        "colab_type": "text"
      },
      "source": [
        "### Mounting the Google Drive"
      ]
    },
    {
      "cell_type": "code",
      "metadata": {
        "id": "EPsOLnCKRq7G",
        "colab_type": "code",
        "colab": {
          "base_uri": "https://localhost:8080/",
          "height": 125
        },
        "outputId": "5afef089-0b9c-4bfa-9d13-33f9c3b22473"
      },
      "source": [
        "from google.colab import drive\n",
        "drive.mount('/content/drive')"
      ],
      "execution_count": 4,
      "outputs": [
        {
          "output_type": "stream",
          "text": [
            "Go to this URL in a browser: https://accounts.google.com/o/oauth2/auth?client_id=947318989803-6bn6qk8qdgf4n4g3pfee6491hc0brc4i.apps.googleusercontent.com&redirect_uri=urn%3aietf%3awg%3aoauth%3a2.0%3aoob&response_type=code&scope=email%20https%3a%2f%2fwww.googleapis.com%2fauth%2fdocs.test%20https%3a%2f%2fwww.googleapis.com%2fauth%2fdrive%20https%3a%2f%2fwww.googleapis.com%2fauth%2fdrive.photos.readonly%20https%3a%2f%2fwww.googleapis.com%2fauth%2fpeopleapi.readonly\n",
            "\n",
            "Enter your authorization code:\n",
            "··········\n",
            "Mounted at /content/drive\n"
          ],
          "name": "stdout"
        }
      ]
    },
    {
      "cell_type": "markdown",
      "metadata": {
        "id": "wqtyfivnRq7J",
        "colab_type": "text"
      },
      "source": [
        "### Reading the data from csv file"
      ]
    },
    {
      "cell_type": "code",
      "metadata": {
        "id": "VpGZze3mRq7J",
        "colab_type": "code",
        "colab": {}
      },
      "source": [
        "df = pd.read_csv('/content/drive/My Drive/finalcleandataTraining.csv')\n",
        "#print(df.head())\n",
        "xdata = df['message']\n",
        "y_label = df[[\"toxic\", \"obscene\", \"insult\", \"racism\", \"sexism\"]]\n",
        "ydata = y_label.values"
      ],
      "execution_count": 0,
      "outputs": []
    },
    {
      "cell_type": "markdown",
      "metadata": {
        "id": "jq5HRSmQRq7M",
        "colab_type": "text"
      },
      "source": [
        "### Splitting the data into Training & Testing"
      ]
    },
    {
      "cell_type": "code",
      "metadata": {
        "id": "lRWTmBWjRq7M",
        "colab_type": "code",
        "colab": {}
      },
      "source": [
        "xtrain,xtest,y_train,ytest = train_test_split(xdata,ydata,test_size=0.2) "
      ],
      "execution_count": 0,
      "outputs": []
    },
    {
      "cell_type": "markdown",
      "metadata": {
        "id": "OxNBmboQRq7O",
        "colab_type": "text"
      },
      "source": [
        "### Creating the embedding dictionary"
      ]
    },
    {
      "cell_type": "code",
      "metadata": {
        "id": "ixMiYEtlRq7P",
        "colab_type": "code",
        "colab": {}
      },
      "source": [
        "maxlen = 64\n",
        "tokenizer = Tokenizer(num_words=10000)\n",
        "tokenizer.fit_on_texts(xtrain)\n",
        "vocab_size = len(tokenizer.word_index) + 1\n",
        "\n",
        "embeddings_dictionary = dict()\n",
        "glove_file = open('/content/drive/My Drive/Prj/glove.twitter.27B.200d.txt', encoding=\"utf8\")\n",
        "for line in glove_file:\n",
        "    records = line.split()\n",
        "    word = records[0]\n",
        "    vector_dimensions = asarray(records[1:])\n",
        "    embeddings_dictionary[word] = vector_dimensions\n",
        "glove_file.close()"
      ],
      "execution_count": 0,
      "outputs": []
    },
    {
      "cell_type": "markdown",
      "metadata": {
        "id": "PoTpHVTnRq7R",
        "colab_type": "text"
      },
      "source": [
        "### Creating the embedding matrix from embedding dictionary"
      ]
    },
    {
      "cell_type": "code",
      "metadata": {
        "id": "ozrQAxvORq7S",
        "colab_type": "code",
        "colab": {}
      },
      "source": [
        "embedding_matrix = zeros((vocab_size, 200))\n",
        "for word, index in tokenizer.word_index.items():\n",
        "    embedding_vector = embeddings_dictionary.get(word)\n",
        "    if embedding_vector is not None:\n",
        "        embedding_matrix[index] = embedding_vector"
      ],
      "execution_count": 0,
      "outputs": []
    },
    {
      "cell_type": "markdown",
      "metadata": {
        "id": "y4yQjPQmRq7V",
        "colab_type": "text"
      },
      "source": [
        "### Creating the model"
      ]
    },
    {
      "cell_type": "code",
      "metadata": {
        "id": "EChTozUwRq7V",
        "colab_type": "code",
        "colab": {}
      },
      "source": [
        "deep_inputs = Input(shape=(maxlen,))\n",
        "embedding_layer = Embedding(vocab_size, 200, weights=[embedding_matrix], trainable=False)(deep_inputs)\n",
        "LSTM_Layer_1 = LSTM(32, return_sequences=True)(embedding_layer)\n",
        "LSTM_Layer_2 = LSTM(32, return_sequences=True)(LSTM_Layer_1)\n",
        "Dropout_Layer = Dropout(0.5)(LSTM_Layer_2)\n",
        "LSTM_Layer_3 = LSTM(32)(Dropout_Layer)\n",
        "dense_layer_1 = Dense(5, activation='sigmoid')(LSTM_Layer_3)\n",
        "model = Model(inputs=deep_inputs, outputs=dense_layer_1)"
      ],
      "execution_count": 0,
      "outputs": []
    },
    {
      "cell_type": "code",
      "metadata": {
        "id": "FXwONio1URjg",
        "colab_type": "code",
        "colab": {
          "base_uri": "https://localhost:8080/",
          "height": 1000
        },
        "outputId": "8bf96f44-4b09-4a33-e10c-4435edc720bb"
      },
      "source": [
        "model.summary()\n",
        "plot_model(model, to_file='model.png')"
      ],
      "execution_count": 27,
      "outputs": [
        {
          "output_type": "stream",
          "text": [
            "Model: \"model_2\"\n",
            "_________________________________________________________________\n",
            "Layer (type)                 Output Shape              Param #   \n",
            "=================================================================\n",
            "input_9 (InputLayer)         (None, 64)                0         \n",
            "_________________________________________________________________\n",
            "embedding_5 (Embedding)      (None, 64, 200)           7374000   \n",
            "_________________________________________________________________\n",
            "lstm_7 (LSTM)                (None, 64, 32)            29824     \n",
            "_________________________________________________________________\n",
            "lstm_8 (LSTM)                (None, 64, 32)            8320      \n",
            "_________________________________________________________________\n",
            "dropout_3 (Dropout)          (None, 64, 32)            0         \n",
            "_________________________________________________________________\n",
            "lstm_9 (LSTM)                (None, 32)                8320      \n",
            "_________________________________________________________________\n",
            "dense_2 (Dense)              (None, 5)                 165       \n",
            "=================================================================\n",
            "Total params: 7,420,629\n",
            "Trainable params: 46,629\n",
            "Non-trainable params: 7,374,000\n",
            "_________________________________________________________________\n"
          ],
          "name": "stdout"
        },
        {
          "output_type": "execute_result",
          "data": {
            "image/png": "[encoded data removed]",
            "text/plain": [
              "<IPython.core.display.Image object>"
            ]
          },
          "metadata": {
            "tags": []
          },
          "execution_count": 27
        }
      ]
    },
    {
      "cell_type": "markdown",
      "metadata": {
        "id": "dV2qJspCRq7X",
        "colab_type": "text"
      },
      "source": [
        "### Training the model"
      ]
    },
    {
      "cell_type": "code",
      "metadata": {
        "id": "RQAIBSTbRq7Y",
        "colab_type": "code",
        "colab": {
          "base_uri": "https://localhost:8080/",
          "height": 816
        },
        "outputId": "3636d20d-c6fa-4d22-97f3-647d904e2c62"
      },
      "source": [
        "X_train = tokenizer.texts_to_sequences(xtrain)\n",
        "X_train = pad_sequences(X_train, padding='post', maxlen=maxlen)\n",
        "history = model.fit(X_train, y_train, batch_size=256, epochs=20, validation_split=0.2)"
      ],
      "execution_count": 14,
      "outputs": [
        {
          "output_type": "stream",
          "text": [
            "WARNING:tensorflow:From /usr/local/lib/python3.6/dist-packages/keras/backend/tensorflow_backend.py:1033: The name tf.assign_add is deprecated. Please use tf.compat.v1.assign_add instead.\n",
            "\n",
            "WARNING:tensorflow:From /usr/local/lib/python3.6/dist-packages/keras/backend/tensorflow_backend.py:1020: The name tf.assign is deprecated. Please use tf.compat.v1.assign instead.\n",
            "\n",
            "Train on 8988 samples, validate on 2248 samples\n",
            "Epoch 1/20\n",
            "8988/8988 [==============================] - 15s 2ms/step - loss: 0.5699 - acc: 0.8010 - val_loss: 0.4790 - val_acc: 0.8112\n",
            "Epoch 2/20\n",
            "8988/8988 [==============================] - 12s 1ms/step - loss: 0.4715 - acc: 0.8134 - val_loss: 0.4730 - val_acc: 0.8112\n",
            "Epoch 3/20\n",
            "8988/8988 [==============================] - 12s 1ms/step - loss: 0.4614 - acc: 0.8134 - val_loss: 0.4579 - val_acc: 0.8112\n",
            "Epoch 4/20\n",
            "8988/8988 [==============================] - 13s 1ms/step - loss: 0.4460 - acc: 0.8134 - val_loss: 0.4412 - val_acc: 0.8112\n",
            "Epoch 5/20\n",
            "8988/8988 [==============================] - 13s 1ms/step - loss: 0.4227 - acc: 0.8156 - val_loss: 0.3992 - val_acc: 0.8234\n",
            "Epoch 6/20\n",
            "8988/8988 [==============================] - 13s 1ms/step - loss: 0.3778 - acc: 0.8298 - val_loss: 0.3501 - val_acc: 0.8424\n",
            "Epoch 7/20\n",
            "8988/8988 [==============================] - 13s 1ms/step - loss: 0.3255 - acc: 0.8572 - val_loss: 0.3122 - val_acc: 0.8698\n",
            "Epoch 8/20\n",
            "8988/8988 [==============================] - 13s 1ms/step - loss: 0.2955 - acc: 0.8781 - val_loss: 0.2879 - val_acc: 0.8813\n",
            "Epoch 9/20\n",
            "8988/8988 [==============================] - 13s 1ms/step - loss: 0.2783 - acc: 0.8891 - val_loss: 0.2845 - val_acc: 0.8867\n",
            "Epoch 10/20\n",
            "8988/8988 [==============================] - 13s 1ms/step - loss: 0.2781 - acc: 0.8923 - val_loss: 0.2704 - val_acc: 0.8954\n",
            "Epoch 11/20\n",
            "8988/8988 [==============================] - 12s 1ms/step - loss: 0.2489 - acc: 0.9018 - val_loss: 0.2515 - val_acc: 0.8989\n",
            "Epoch 12/20\n",
            "8988/8988 [==============================] - 12s 1ms/step - loss: 0.2351 - acc: 0.9063 - val_loss: 0.2434 - val_acc: 0.9084\n",
            "Epoch 13/20\n",
            "8988/8988 [==============================] - 12s 1ms/step - loss: 0.2340 - acc: 0.9076 - val_loss: 0.2467 - val_acc: 0.9028\n",
            "Epoch 14/20\n",
            "8988/8988 [==============================] - 13s 1ms/step - loss: 0.2455 - acc: 0.9012 - val_loss: 0.2376 - val_acc: 0.9032\n",
            "Epoch 15/20\n",
            "8988/8988 [==============================] - 13s 1ms/step - loss: 0.2222 - acc: 0.9123 - val_loss: 0.2262 - val_acc: 0.9125\n",
            "Epoch 16/20\n",
            "8988/8988 [==============================] - 13s 1ms/step - loss: 0.2140 - acc: 0.9140 - val_loss: 0.2260 - val_acc: 0.9131\n",
            "Epoch 17/20\n",
            "8988/8988 [==============================] - 13s 1ms/step - loss: 0.2137 - acc: 0.9153 - val_loss: 0.2171 - val_acc: 0.9141\n",
            "Epoch 18/20\n",
            "8988/8988 [==============================] - 13s 1ms/step - loss: 0.2105 - acc: 0.9160 - val_loss: 0.2201 - val_acc: 0.9147\n",
            "Epoch 19/20\n",
            "8988/8988 [==============================] - 13s 1ms/step - loss: 0.2042 - acc: 0.9202 - val_loss: 0.2158 - val_acc: 0.9169\n",
            "Epoch 20/20\n",
            "8988/8988 [==============================] - 13s 1ms/step - loss: 0.2006 - acc: 0.9199 - val_loss: 0.2161 - val_acc: 0.9171\n"
          ],
          "name": "stdout"
        }
      ]
    },
    {
      "cell_type": "markdown",
      "metadata": {
        "id": "EC_bJQA4Rq7a",
        "colab_type": "text"
      },
      "source": [
        "### Testing and evaluating the model"
      ]
    },
    {
      "cell_type": "code",
      "metadata": {
        "id": "TSjUMhMwRq7b",
        "colab_type": "code",
        "colab": {}
      },
      "source": [
        "X_test = tokenizer.texts_to_sequences(xtest)\n",
        "X_test = pad_sequences(X_test, padding='post', maxlen=maxlen)\n",
        "print(X_test)\n",
        "print(model.metrics_names)\n",
        "model.evaluate(X_test,ytest, batch_size=128)"
      ],
      "execution_count": 0,
      "outputs": []
    }
  ]
}