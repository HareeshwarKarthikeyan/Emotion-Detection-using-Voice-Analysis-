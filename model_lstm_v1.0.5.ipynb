{
  "nbformat": 4,
  "nbformat_minor": 0,
  "metadata": {
    "kernelspec": {
      "display_name": "Python 3",
      "language": "python",
      "name": "python3"
    },
    "language_info": {
      "codemirror_mode": {
        "name": "ipython",
        "version": 3
      },
      "file_extension": ".py",
      "mimetype": "text/x-python",
      "name": "python",
      "nbconvert_exporter": "python",
      "pygments_lexer": "ipython3",
      "version": "3.7.0"
    },
    "colab": {
      "name": "model_lstm_v1.0.4.ipynb",
      "provenance": [],
      "toc_visible": true
    }
  },
  "cells": [
    {
      "cell_type": "markdown",
      "metadata": {
        "id": "bAY0e6kiRq7A",
        "colab_type": "text"
      },
      "source": [
        "### Importing the requried libraries"
      ]
    },
    {
      "cell_type": "code",
      "metadata": {
        "id": "AZXvezxHRq7C",
        "colab_type": "code",
        "colab": {
          "base_uri": "https://localhost:8080/",
          "height": 81
        },
        "outputId": "b8f78a67-5b31-4ce3-b5ca-dcd2568f4c08"
      },
      "source": [
        "import tensorflow as tf\n",
        "import pandas as pd\n",
        "import numpy as np\n",
        "import csv\n",
        "import tensorflow.keras\n",
        "from tensorflow.keras.preprocessing.text import Tokenizer\n",
        "from tensorflow.keras.preprocessing.sequence import pad_sequences\n",
        "from keras.models import Model\n",
        "from keras.models import Sequential\n",
        "from keras.layers import Input\n",
        "from keras.layers import LSTM\n",
        "from keras.layers import Dense\n",
        "from keras.utils import plot_model\n",
        "from sklearn.model_selection import train_test_split\n",
        "from numpy import array\n",
        "from numpy import asarray\n",
        "from numpy import zeros\n",
        "from keras.layers.embeddings import Embedding\n",
        "from keras.layers import Dropout\n"
      ],
      "execution_count": 2,
      "outputs": [
        {
          "output_type": "display_data",
          "data": {
            "text/html": [
              "<p style=\"color: red;\">\n",
              "The default version of TensorFlow in Colab will soon switch to TensorFlow 2.x.<br>\n",
              "We recommend you <a href=\"https://www.tensorflow.org/guide/migrate\" target=\"_blank\">upgrade</a> now \n",
              "or ensure your notebook will continue to use TensorFlow 1.x via the <code>%tensorflow_version 1.x</code> magic:\n",
              "<a href=\"https://colab.research.google.com/notebooks/tensorflow_version.ipynb\" target=\"_blank\">more info</a>.</p>\n"
            ],
            "text/plain": [
              "<IPython.core.display.HTML object>"
            ]
          },
          "metadata": {
            "tags": []
          }
        },
        {
          "output_type": "stream",
          "text": [
            "Using TensorFlow backend.\n"
          ],
          "name": "stderr"
        }
      ]
    },
    {
      "cell_type": "markdown",
      "metadata": {
        "id": "h0MqYZFARq7G",
        "colab_type": "text"
      },
      "source": [
        "### Mounting the Google Drive"
      ]
    },
    {
      "cell_type": "code",
      "metadata": {
        "id": "EPsOLnCKRq7G",
        "colab_type": "code",
        "outputId": "036c6bc2-9cb0-4635-db39-3b26d8aaceab",
        "colab": {
          "base_uri": "https://localhost:8080/",
          "height": 125
        }
      },
      "source": [
        "from google.colab import drive\n",
        "drive.mount('/content/drive')"
      ],
      "execution_count": 4,
      "outputs": [
        {
          "output_type": "stream",
          "text": [
            "Go to this URL in a browser: https://accounts.google.com/o/oauth2/auth?client_id=947318989803-6bn6qk8qdgf4n4g3pfee6491hc0brc4i.apps.googleusercontent.com&redirect_uri=urn%3aietf%3awg%3aoauth%3a2.0%3aoob&response_type=code&scope=email%20https%3a%2f%2fwww.googleapis.com%2fauth%2fdocs.test%20https%3a%2f%2fwww.googleapis.com%2fauth%2fdrive%20https%3a%2f%2fwww.googleapis.com%2fauth%2fdrive.photos.readonly%20https%3a%2f%2fwww.googleapis.com%2fauth%2fpeopleapi.readonly\n",
            "\n",
            "Enter your authorization code:\n",
            "··········\n",
            "Mounted at /content/drive\n"
          ],
          "name": "stdout"
        }
      ]
    },
    {
      "cell_type": "markdown",
      "metadata": {
        "id": "wqtyfivnRq7J",
        "colab_type": "text"
      },
      "source": [
        "### Reading the data from csv file"
      ]
    },
    {
      "cell_type": "code",
      "metadata": {
        "id": "VpGZze3mRq7J",
        "colab_type": "code",
        "colab": {}
      },
      "source": [
        "df = pd.read_csv('/content/drive/My Drive/finalcleandataTraining.csv')\n",
        "#print(df.head())\n",
        "xdata = df['message']\n",
        "y_label = df[[\"toxic\", \"obscene\", \"insult\", \"racism\", \"sexism\"]]\n",
        "ydata = y_label.values"
      ],
      "execution_count": 0,
      "outputs": []
    },
    {
      "cell_type": "markdown",
      "metadata": {
        "id": "jq5HRSmQRq7M",
        "colab_type": "text"
      },
      "source": [
        "### Splitting the data into Training & Testing"
      ]
    },
    {
      "cell_type": "code",
      "metadata": {
        "id": "lRWTmBWjRq7M",
        "colab_type": "code",
        "colab": {}
      },
      "source": [
        "xtrain,xtest,y_train,ytest = train_test_split(xdata,ydata,test_size=0.2) "
      ],
      "execution_count": 0,
      "outputs": []
    },
    {
      "cell_type": "markdown",
      "metadata": {
        "id": "OxNBmboQRq7O",
        "colab_type": "text"
      },
      "source": [
        "### Creating the embedding dictionary"
      ]
    },
    {
      "cell_type": "code",
      "metadata": {
        "id": "ixMiYEtlRq7P",
        "colab_type": "code",
        "colab": {}
      },
      "source": [
        "maxlen = 64\n",
        "tokenizer = Tokenizer(num_words=10000)\n",
        "tokenizer.fit_on_texts(xtrain)\n",
        "vocab_size = len(tokenizer.word_index) + 1\n",
        "\n",
        "embeddings_dictionary = dict()\n",
        "glove_file = open('/content/drive/My Drive/Prj/glove.twitter.27B.200d.txt', encoding=\"utf8\")\n",
        "for line in glove_file:\n",
        "    records = line.split()\n",
        "    word = records[0]\n",
        "    vector_dimensions = asarray(records[1:])\n",
        "    embeddings_dictionary[word] = vector_dimensions\n",
        "glove_file.close()"
      ],
      "execution_count": 0,
      "outputs": []
    },
    {
      "cell_type": "markdown",
      "metadata": {
        "id": "PoTpHVTnRq7R",
        "colab_type": "text"
      },
      "source": [
        "### Creating the embedding matrix from embedding dictionary"
      ]
    },
    {
      "cell_type": "code",
      "metadata": {
        "id": "ozrQAxvORq7S",
        "colab_type": "code",
        "colab": {}
      },
      "source": [
        "embedding_matrix = zeros((vocab_size, 200))\n",
        "for word, index in tokenizer.word_index.items():\n",
        "    embedding_vector = embeddings_dictionary.get(word)\n",
        "    if embedding_vector is not None:\n",
        "        embedding_matrix[index] = embedding_vector"
      ],
      "execution_count": 0,
      "outputs": []
    },
    {
      "cell_type": "markdown",
      "metadata": {
        "id": "y4yQjPQmRq7V",
        "colab_type": "text"
      },
      "source": [
        "### Creating the model"
      ]
    },
    {
      "cell_type": "code",
      "metadata": {
        "id": "EChTozUwRq7V",
        "colab_type": "code",
        "colab": {
          "base_uri": "https://localhost:8080/",
          "height": 161
        },
        "outputId": "ef50b254-7bbd-46c4-d2b3-e50c08130e34"
      },
      "source": [
        "deep_inputs = Input(shape=(maxlen,))\n",
        "embedding_layer = Embedding(vocab_size, 200, weights=[embedding_matrix], trainable=False)(deep_inputs)\n",
        "LSTM_Layer_1 = LSTM(32, return_sequences=True)(embedding_layer)\n",
        "LSTM_Layer_2 = LSTM(32, return_sequences=True)(LSTM_Layer_1)\n",
        "Dropout_Layer = Dropout(0.5)(LSTM_Layer_2)\n",
        "LSTM_Layer_3 = LSTM(32)(Dropout_Layer)\n",
        "dense_layer_1 = Dense(5, activation='sigmoid')(LSTM_Layer_3)\n",
        "model = Model(inputs=deep_inputs, outputs=dense_layer_1)\n",
        "model.compile(loss='binary_crossentropy', optimizer='adam', metrics=['acc'])"
      ],
      "execution_count": 12,
      "outputs": [
        {
          "output_type": "stream",
          "text": [
            "WARNING:tensorflow:From /usr/local/lib/python3.6/dist-packages/keras/optimizers.py:793: The name tf.train.Optimizer is deprecated. Please use tf.compat.v1.train.Optimizer instead.\n",
            "\n",
            "WARNING:tensorflow:From /usr/local/lib/python3.6/dist-packages/keras/backend/tensorflow_backend.py:3657: The name tf.log is deprecated. Please use tf.math.log instead.\n",
            "\n",
            "WARNING:tensorflow:From /usr/local/lib/python3.6/dist-packages/tensorflow_core/python/ops/nn_impl.py:183: where (from tensorflow.python.ops.array_ops) is deprecated and will be removed in a future version.\n",
            "Instructions for updating:\n",
            "Use tf.where in 2.0, which has the same broadcast rule as np.where\n"
          ],
          "name": "stdout"
        }
      ]
    },
    {
      "cell_type": "code",
      "metadata": {
        "id": "FXwONio1URjg",
        "colab_type": "code",
        "outputId": "603362cc-12c0-480b-85e1-5f7a84c1aeea",
        "colab": {
          "base_uri": "https://localhost:8080/",
          "height": 1000
        }
      },
      "source": [
        "model.summary()\n",
        "plot_model(model, to_file='model.png')"
      ],
      "execution_count": 13,
      "outputs": [
        {
          "output_type": "stream",
          "text": [
            "Model: \"model_2\"\n",
            "_________________________________________________________________\n",
            "Layer (type)                 Output Shape              Param #   \n",
            "=================================================================\n",
            "input_2 (InputLayer)         (None, 64)                0         \n",
            "_________________________________________________________________\n",
            "embedding_2 (Embedding)      (None, 64, 200)           7338400   \n",
            "_________________________________________________________________\n",
            "lstm_4 (LSTM)                (None, 64, 32)            29824     \n",
            "_________________________________________________________________\n",
            "lstm_5 (LSTM)                (None, 64, 32)            8320      \n",
            "_________________________________________________________________\n",
            "dropout_2 (Dropout)          (None, 64, 32)            0         \n",
            "_________________________________________________________________\n",
            "lstm_6 (LSTM)                (None, 32)                8320      \n",
            "_________________________________________________________________\n",
            "dense_2 (Dense)              (None, 5)                 165       \n",
            "=================================================================\n",
            "Total params: 7,385,029\n",
            "Trainable params: 46,629\n",
            "Non-trainable params: 7,338,400\n",
            "_________________________________________________________________\n"
          ],
          "name": "stdout"
        },
        {
          "output_type": "execute_result",
          "data": {
            "image/png": "[encoded data removed]",
            "text/plain": [
              "<IPython.core.display.Image object>"
            ]
          },
          "metadata": {
            "tags": []
          },
          "execution_count": 13
        }
      ]
    },
    {
      "cell_type": "markdown",
      "metadata": {
        "id": "dV2qJspCRq7X",
        "colab_type": "text"
      },
      "source": [
        "### Training the model"
      ]
    },
    {
      "cell_type": "code",
      "metadata": {
        "id": "RQAIBSTbRq7Y",
        "colab_type": "code",
        "outputId": "3bf00e13-37df-483e-9c49-adcce3cc6441",
        "colab": {
          "base_uri": "https://localhost:8080/",
          "height": 816
        }
      },
      "source": [
        "X_train = tokenizer.texts_to_sequences(xtrain)\n",
        "X_train = pad_sequences(X_train, padding='post', maxlen=maxlen)\n",
        "history = model.fit(X_train, y_train, batch_size=256, epochs=20, validation_split=0.2)"
      ],
      "execution_count": 14,
      "outputs": [
        {
          "output_type": "stream",
          "text": [
            "WARNING:tensorflow:From /usr/local/lib/python3.6/dist-packages/keras/backend/tensorflow_backend.py:1033: The name tf.assign_add is deprecated. Please use tf.compat.v1.assign_add instead.\n",
            "\n",
            "WARNING:tensorflow:From /usr/local/lib/python3.6/dist-packages/keras/backend/tensorflow_backend.py:1020: The name tf.assign is deprecated. Please use tf.compat.v1.assign instead.\n",
            "\n",
            "Train on 8988 samples, validate on 2248 samples\n",
            "Epoch 1/20\n",
            "8988/8988 [==============================] - 15s 2ms/step - loss: 0.5677 - acc: 0.8022 - val_loss: 0.4711 - val_acc: 0.8133\n",
            "Epoch 2/20\n",
            "8988/8988 [==============================] - 12s 1ms/step - loss: 0.4705 - acc: 0.8145 - val_loss: 0.4664 - val_acc: 0.8133\n",
            "Epoch 3/20\n",
            "8988/8988 [==============================] - 12s 1ms/step - loss: 0.4621 - acc: 0.8145 - val_loss: 0.4515 - val_acc: 0.8133\n",
            "Epoch 4/20\n",
            "8988/8988 [==============================] - 12s 1ms/step - loss: 0.4431 - acc: 0.8145 - val_loss: 0.4300 - val_acc: 0.8133\n",
            "Epoch 5/20\n",
            "8988/8988 [==============================] - 13s 1ms/step - loss: 0.4166 - acc: 0.8164 - val_loss: 0.3869 - val_acc: 0.8265\n",
            "Epoch 6/20\n",
            "8988/8988 [==============================] - 13s 1ms/step - loss: 0.3496 - acc: 0.8419 - val_loss: 0.3602 - val_acc: 0.8362\n",
            "Epoch 7/20\n",
            "8988/8988 [==============================] - 13s 1ms/step - loss: 0.3138 - acc: 0.8626 - val_loss: 0.3072 - val_acc: 0.8651\n",
            "Epoch 8/20\n",
            "8988/8988 [==============================] - 13s 1ms/step - loss: 0.2929 - acc: 0.8725 - val_loss: 0.2961 - val_acc: 0.8649\n",
            "Epoch 9/20\n",
            "8988/8988 [==============================] - 13s 1ms/step - loss: 0.2712 - acc: 0.8883 - val_loss: 0.2800 - val_acc: 0.8794\n",
            "Epoch 10/20\n",
            "8988/8988 [==============================] - 13s 1ms/step - loss: 0.2534 - acc: 0.9008 - val_loss: 0.2570 - val_acc: 0.8964\n",
            "Epoch 11/20\n",
            "8988/8988 [==============================] - 13s 1ms/step - loss: 0.2373 - acc: 0.9097 - val_loss: 0.2418 - val_acc: 0.9015\n",
            "Epoch 12/20\n",
            "8988/8988 [==============================] - 12s 1ms/step - loss: 0.2206 - acc: 0.9159 - val_loss: 0.2307 - val_acc: 0.9087\n",
            "Epoch 13/20\n",
            "8988/8988 [==============================] - 12s 1ms/step - loss: 0.2090 - acc: 0.9207 - val_loss: 0.2212 - val_acc: 0.9129\n",
            "Epoch 14/20\n",
            "8988/8988 [==============================] - 12s 1ms/step - loss: 0.2010 - acc: 0.9229 - val_loss: 0.2172 - val_acc: 0.9116\n",
            "Epoch 15/20\n",
            "8988/8988 [==============================] - 13s 1ms/step - loss: 0.1935 - acc: 0.9252 - val_loss: 0.2151 - val_acc: 0.9133\n",
            "Epoch 16/20\n",
            "8988/8988 [==============================] - 13s 1ms/step - loss: 0.1883 - acc: 0.9270 - val_loss: 0.2113 - val_acc: 0.9149\n",
            "Epoch 17/20\n",
            "8988/8988 [==============================] - 12s 1ms/step - loss: 0.1874 - acc: 0.9265 - val_loss: 0.2283 - val_acc: 0.9135\n",
            "Epoch 18/20\n",
            "8988/8988 [==============================] - 13s 1ms/step - loss: 0.1857 - acc: 0.9271 - val_loss: 0.2068 - val_acc: 0.9174\n",
            "Epoch 19/20\n",
            "8988/8988 [==============================] - 12s 1ms/step - loss: 0.1773 - acc: 0.9302 - val_loss: 0.2093 - val_acc: 0.9186\n",
            "Epoch 20/20\n",
            "8988/8988 [==============================] - 12s 1ms/step - loss: 0.1734 - acc: 0.9314 - val_loss: 0.2104 - val_acc: 0.9181\n"
          ],
          "name": "stdout"
        }
      ]
    },
    {
      "cell_type": "markdown",
      "metadata": {
        "id": "hrgBJ5KAW0nb",
        "colab_type": "text"
      },
      "source": [
        "Saving the Model"
      ]
    },
    {
      "cell_type": "code",
      "metadata": {
        "id": "rXcaOHPxW0PI",
        "colab_type": "code",
        "colab": {}
      },
      "source": [
        "model.save('Model_final.h5')"
      ],
      "execution_count": 0,
      "outputs": []
    },
    {
      "cell_type": "markdown",
      "metadata": {
        "id": "EC_bJQA4Rq7a",
        "colab_type": "text"
      },
      "source": [
        "### Testing and evaluating the model"
      ]
    },
    {
      "cell_type": "code",
      "metadata": {
        "id": "TSjUMhMwRq7b",
        "colab_type": "code",
        "colab": {
          "base_uri": "https://localhost:8080/",
          "height": 194
        },
        "outputId": "423f6c6b-e25c-4940-a94c-cb1ce1921ebc"
      },
      "source": [
        "X_test = tokenizer.texts_to_sequences(xtest)\n",
        "X_test = pad_sequences(X_test, padding='post', maxlen=maxlen)\n",
        "print(X_test)\n",
        "print(model.metrics_names)\n",
        "model.evaluate(X_test,ytest, batch_size=128)"
      ],
      "execution_count": 16,
      "outputs": [
        {
          "output_type": "stream",
          "text": [
            "[[  84  893  339 ...    0    0    0]\n",
            " [   1  437 3234 ...    0    0    0]\n",
            " [3975 4701 6520 ...  210  619  210]\n",
            " ...\n",
            " [  34    8    1 ...    0    0    0]\n",
            " [  24  231  296 ...    1  625 3245]\n",
            " [  24    7   12 ...    0    0    0]]\n",
            "['loss', 'acc']\n",
            "2810/2810 [==============================] - 1s 394us/step\n"
          ],
          "name": "stdout"
        },
        {
          "output_type": "execute_result",
          "data": {
            "text/plain": [
              "[0.22030713183811976, 0.9129537628638786]"
            ]
          },
          "metadata": {
            "tags": []
          },
          "execution_count": 16
        }
      ]
    }
  ]
}