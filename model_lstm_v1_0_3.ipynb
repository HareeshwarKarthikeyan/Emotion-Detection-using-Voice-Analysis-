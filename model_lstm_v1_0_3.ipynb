{
  "nbformat": 4,
  "nbformat_minor": 0,
  "metadata": {
    "colab": {
      "name": "model_lstm_v1.0.3.ipynb",
      "provenance": [],
      "collapsed_sections": [],
      "machine_shape": "hm",
      "include_colab_link": true
    },
    "kernelspec": {
      "name": "python3",
      "display_name": "Python 3"
    },
    "accelerator": "GPU"
  },
  "cells": [
    {
      "cell_type": "markdown",
      "metadata": {
        "id": "view-in-github",
        "colab_type": "text"
      },
      "source": [
        "<a href=\"https://colab.research.google.com/github/HareeshwarKarthikeyan/Strong-Language-Hate-Speech-Filter/blob/Nirav-Agarwal/model_lstm_v1_0_3.ipynb\" target=\"_parent\"><img src=\"https://colab.research.google.com/assets/colab-badge.svg\" alt=\"Open In Colab\"/></a>"
      ]
    },
    {
      "cell_type": "code",
      "metadata": {
        "id": "ugOk7GeNzQ9n",
        "colab_type": "code",
        "outputId": "2c7b4906-a276-4290-b839-8f4bf14a5f6a",
        "colab": {
          "base_uri": "https://localhost:8080/",
          "height": 63
        }
      },
      "source": [
        "import tensorflow as tf\n",
        "import pandas as pd\n",
        "import numpy as np\n",
        "import csv\n",
        "import tensorflow.keras\n",
        "from tensorflow.keras.preprocessing.text import Tokenizer\n",
        "from tensorflow.keras.preprocessing.sequence import pad_sequences"
      ],
      "execution_count": 1,
      "outputs": [
        {
          "output_type": "display_data",
          "data": {
            "text/html": [
              "<p style=\"color: red;\">\n",
              "The default version of TensorFlow in Colab will soon switch to TensorFlow 2.x.<br>\n",
              "We recommend you <a href=\"https://www.tensorflow.org/guide/migrate\" target=\"_blank\">upgrade</a> now \n",
              "or ensure your notebook will continue to use TensorFlow 1.x via the <code>%tensorflow_version 1.x</code> magic:\n",
              "<a href=\"https://colab.research.google.com/notebooks/tensorflow_version.ipynb\" target=\"_blank\">more info</a>.</p>\n"
            ],
            "text/plain": [
              "<IPython.core.display.HTML object>"
            ]
          },
          "metadata": {
            "tags": []
          }
        }
      ]
    },
    {
      "cell_type": "code",
      "metadata": {
        "id": "-ziA6hCdLgr7",
        "colab_type": "code",
        "colab": {
          "base_uri": "https://localhost:8080/",
          "height": 125
        },
        "outputId": "56ec1c0c-fb51-4d79-9f42-e86273cfe206"
      },
      "source": [
        "from google.colab import drive\n",
        "drive.mount('/content/drive')"
      ],
      "execution_count": 2,
      "outputs": [
        {
          "output_type": "stream",
          "text": [
            "Go to this URL in a browser: https://accounts.google.com/o/oauth2/auth?client_id=947318989803-6bn6qk8qdgf4n4g3pfee6491hc0brc4i.apps.googleusercontent.com&redirect_uri=urn%3aietf%3awg%3aoauth%3a2.0%3aoob&response_type=code&scope=email%20https%3a%2f%2fwww.googleapis.com%2fauth%2fdocs.test%20https%3a%2f%2fwww.googleapis.com%2fauth%2fdrive%20https%3a%2f%2fwww.googleapis.com%2fauth%2fdrive.photos.readonly%20https%3a%2f%2fwww.googleapis.com%2fauth%2fpeopleapi.readonly\n",
            "\n",
            "Enter your authorization code:\n",
            "··········\n",
            "Mounted at /content/drive\n"
          ],
          "name": "stdout"
        }
      ]
    },
    {
      "cell_type": "code",
      "metadata": {
        "id": "9GD4Zbnez6eW",
        "colab_type": "code",
        "outputId": "8a102311-0b23-4bdb-b628-d5438fc9cae3",
        "colab": {
          "base_uri": "https://localhost:8080/",
          "height": 52
        }
      },
      "source": [
        "!pip install nltk\n",
        "import nltk\n",
        "from nltk.corpus import stopwords"
      ],
      "execution_count": 3,
      "outputs": [
        {
          "output_type": "stream",
          "text": [
            "Requirement already satisfied: nltk in /usr/local/lib/python3.6/dist-packages (3.2.5)\n",
            "Requirement already satisfied: six in /usr/local/lib/python3.6/dist-packages (from nltk) (1.12.0)\n"
          ],
          "name": "stdout"
        }
      ]
    },
    {
      "cell_type": "code",
      "metadata": {
        "id": "VhWM2HcOzbKO",
        "colab_type": "code",
        "outputId": "cb457c39-bad2-4948-a7e3-6cf63dd8171f",
        "colab": {
          "base_uri": "https://localhost:8080/",
          "height": 52
        }
      },
      "source": [
        "nltk.download('stopwords')\n",
        "STOPWORDS = set(stopwords.words('english'))"
      ],
      "execution_count": 4,
      "outputs": [
        {
          "output_type": "stream",
          "text": [
            "[nltk_data] Downloading package stopwords to /root/nltk_data...\n",
            "[nltk_data]   Unzipping corpora/stopwords.zip.\n"
          ],
          "name": "stdout"
        }
      ]
    },
    {
      "cell_type": "code",
      "metadata": {
        "id": "rI5J50WRzeR9",
        "colab_type": "code",
        "outputId": "2fcbd017-8283-4330-ee3a-6d46d75ade2d",
        "colab": {
          "base_uri": "https://localhost:8080/",
          "height": 197
        }
      },
      "source": [
        "df = pd.read_csv('/content/drive/My Drive/finalcleandataTraining.csv')\n",
        "df.head()"
      ],
      "execution_count": 5,
      "outputs": [
        {
          "output_type": "execute_result",
          "data": {
            "text/html": [
              "<div>\n",
              "<style scoped>\n",
              "    .dataframe tbody tr th:only-of-type {\n",
              "        vertical-align: middle;\n",
              "    }\n",
              "\n",
              "    .dataframe tbody tr th {\n",
              "        vertical-align: top;\n",
              "    }\n",
              "\n",
              "    .dataframe thead th {\n",
              "        text-align: right;\n",
              "    }\n",
              "</style>\n",
              "<table border=\"1\" class=\"dataframe\">\n",
              "  <thead>\n",
              "    <tr style=\"text-align: right;\">\n",
              "      <th></th>\n",
              "      <th>message</th>\n",
              "      <th>toxic</th>\n",
              "      <th>obscene</th>\n",
              "      <th>insult</th>\n",
              "      <th>racism</th>\n",
              "      <th>sexism</th>\n",
              "    </tr>\n",
              "  </thead>\n",
              "  <tbody>\n",
              "    <tr>\n",
              "      <th>0</th>\n",
              "      <td>b'fuck you you red scumbag fuck you you red sc...</td>\n",
              "      <td>1</td>\n",
              "      <td>1</td>\n",
              "      <td>1</td>\n",
              "      <td>0</td>\n",
              "      <td>0</td>\n",
              "    </tr>\n",
              "    <tr>\n",
              "      <th>1</th>\n",
              "      <td>odeh is actions in the us proves that she is a...</td>\n",
              "      <td>0</td>\n",
              "      <td>0</td>\n",
              "      <td>0</td>\n",
              "      <td>1</td>\n",
              "      <td>0</td>\n",
              "    </tr>\n",
              "    <tr>\n",
              "      <th>2</th>\n",
              "      <td>b'clifton bristol the clifton ward also includ...</td>\n",
              "      <td>0</td>\n",
              "      <td>0</td>\n",
              "      <td>0</td>\n",
              "      <td>0</td>\n",
              "      <td>0</td>\n",
              "    </tr>\n",
              "    <tr>\n",
              "      <th>3</th>\n",
              "      <td>b' im not sexist but this is one seriously stu...</td>\n",
              "      <td>0</td>\n",
              "      <td>0</td>\n",
              "      <td>0</td>\n",
              "      <td>0</td>\n",
              "      <td>1</td>\n",
              "    </tr>\n",
              "    <tr>\n",
              "      <th>4</th>\n",
              "      <td>b'love a subtle menu sausage spatchcock tart p...</td>\n",
              "      <td>0</td>\n",
              "      <td>0</td>\n",
              "      <td>0</td>\n",
              "      <td>0</td>\n",
              "      <td>1</td>\n",
              "    </tr>\n",
              "  </tbody>\n",
              "</table>\n",
              "</div>"
            ],
            "text/plain": [
              "                                             message  toxic  ...  racism  sexism\n",
              "0  b'fuck you you red scumbag fuck you you red sc...      1  ...       0       0\n",
              "1  odeh is actions in the us proves that she is a...      0  ...       1       0\n",
              "2  b'clifton bristol the clifton ward also includ...      0  ...       0       0\n",
              "3  b' im not sexist but this is one seriously stu...      0  ...       0       1\n",
              "4  b'love a subtle menu sausage spatchcock tart p...      0  ...       0       1\n",
              "\n",
              "[5 rows x 6 columns]"
            ]
          },
          "metadata": {
            "tags": []
          },
          "execution_count": 5
        }
      ]
    },
    {
      "cell_type": "code",
      "metadata": {
        "id": "XMUND7ho07e6",
        "colab_type": "code",
        "colab": {}
      },
      "source": [
        "# Hyper-Parameters\n",
        "\n",
        "MAX_NB_WORDS = 100000    # max no. of words for tokenizer\n",
        "MAX_SEQUENCE_LENGTH = 200 # max length of each entry (sentence), including padding\n",
        "VALIDATION_SPLIT = 0.2   # data for validation (not used in training)\n",
        "EMBEDDING_DIM = 100      # embedding dimensions for word vectors (word2vec/GloVe)\n",
        "\n"
      ],
      "execution_count": 0,
      "outputs": []
    },
    {
      "cell_type": "code",
      "metadata": {
        "id": "-Xr26NcU1KjN",
        "colab_type": "code",
        "colab": {}
      },
      "source": [
        "label = ['toxic','obscene','insult','racism','sexism']"
      ],
      "execution_count": 0,
      "outputs": []
    },
    {
      "cell_type": "code",
      "metadata": {
        "id": "6Fo1Prs02R9J",
        "colab_type": "code",
        "colab": {}
      },
      "source": [
        "message = 'message'"
      ],
      "execution_count": 0,
      "outputs": []
    },
    {
      "cell_type": "code",
      "metadata": {
        "id": "a7CNiwW63bDP",
        "colab_type": "code",
        "colab": {}
      },
      "source": [
        "def get_list(data):\n",
        "    data = data.fillna(\"unknown\")\n",
        "    return data.tolist()"
      ],
      "execution_count": 0,
      "outputs": []
    },
    {
      "cell_type": "code",
      "metadata": {
        "id": "qIIrq4Dc3lxg",
        "colab_type": "code",
        "colab": {}
      },
      "source": [
        "def tokenize_reshape(data):\n",
        "    data = tok.texts_to_matrix(data)\n",
        "    return np.reshape(data, (data.shape[0], 1, data.shape[1]))"
      ],
      "execution_count": 0,
      "outputs": []
    },
    {
      "cell_type": "code",
      "metadata": {
        "id": "hZZF0aj5374h",
        "colab_type": "code",
        "colab": {}
      },
      "source": [
        "x_train = get_list(df[message])\n"
      ],
      "execution_count": 0,
      "outputs": []
    },
    {
      "cell_type": "code",
      "metadata": {
        "id": "H_11dCe_3-63",
        "colab_type": "code",
        "colab": {}
      },
      "source": [
        "tok = Tokenizer(num_words=1000)\n",
        "tok.fit_on_texts(x_train)"
      ],
      "execution_count": 0,
      "outputs": []
    },
    {
      "cell_type": "code",
      "metadata": {
        "id": "SiRTbri34HZ5",
        "colab_type": "code",
        "colab": {}
      },
      "source": [
        "x_train = tokenize_reshape(x_train)"
      ],
      "execution_count": 0,
      "outputs": []
    },
    {
      "cell_type": "code",
      "metadata": {
        "id": "Q9UpDnwo4KDN",
        "colab_type": "code",
        "outputId": "a05f63ca-6361-470f-9c7f-019e22b35b3f",
        "colab": {
          "base_uri": "https://localhost:8080/",
          "height": 34
        }
      },
      "source": [
        "from keras.models import Sequential\n",
        "from keras.layers import Dense, LSTM, Flatten"
      ],
      "execution_count": 14,
      "outputs": [
        {
          "output_type": "stream",
          "text": [
            "Using TensorFlow backend.\n"
          ],
          "name": "stderr"
        }
      ]
    },
    {
      "cell_type": "code",
      "metadata": {
        "id": "ebs9dmKN4MrS",
        "colab_type": "code",
        "outputId": "a8064dea-6c0d-480d-836b-b995bbe17c0a",
        "colab": {
          "base_uri": "https://localhost:8080/",
          "height": 267
        }
      },
      "source": [
        "model = Sequential()\n",
        "model.add(LSTM(200, input_shape=(1, x_train.shape[2]), return_sequences=True))\n",
        "model.add(LSTM(200, return_sequences=True))\n",
        "model.add(Flatten())\n",
        "model.add(Dense(6, activation='sigmoid'))\n",
        "model.compile(loss='binary_crossentropy', optimizer='adam', metrics=['accuracy'])"
      ],
      "execution_count": 15,
      "outputs": [
        {
          "output_type": "stream",
          "text": [
            "WARNING:tensorflow:From /usr/local/lib/python3.6/dist-packages/keras/backend/tensorflow_backend.py:66: The name tf.get_default_graph is deprecated. Please use tf.compat.v1.get_default_graph instead.\n",
            "\n",
            "WARNING:tensorflow:From /usr/local/lib/python3.6/dist-packages/keras/backend/tensorflow_backend.py:541: The name tf.placeholder is deprecated. Please use tf.compat.v1.placeholder instead.\n",
            "\n",
            "WARNING:tensorflow:From /usr/local/lib/python3.6/dist-packages/keras/backend/tensorflow_backend.py:4432: The name tf.random_uniform is deprecated. Please use tf.random.uniform instead.\n",
            "\n",
            "WARNING:tensorflow:From /usr/local/lib/python3.6/dist-packages/keras/optimizers.py:793: The name tf.train.Optimizer is deprecated. Please use tf.compat.v1.train.Optimizer instead.\n",
            "\n",
            "WARNING:tensorflow:From /usr/local/lib/python3.6/dist-packages/keras/backend/tensorflow_backend.py:3657: The name tf.log is deprecated. Please use tf.math.log instead.\n",
            "\n",
            "WARNING:tensorflow:From /usr/local/lib/python3.6/dist-packages/tensorflow_core/python/ops/nn_impl.py:183: where (from tensorflow.python.ops.array_ops) is deprecated and will be removed in a future version.\n",
            "Instructions for updating:\n",
            "Use tf.where in 2.0, which has the same broadcast rule as np.where\n"
          ],
          "name": "stdout"
        }
      ]
    },
    {
      "cell_type": "code",
      "metadata": {
        "id": "3IcwY8rQ4PYi",
        "colab_type": "code",
        "outputId": "50f9ef5d-4782-4406-8eb1-feafe47416d3",
        "colab": {
          "base_uri": "https://localhost:8080/",
          "height": 301
        }
      },
      "source": [
        "model.summary()"
      ],
      "execution_count": 16,
      "outputs": [
        {
          "output_type": "stream",
          "text": [
            "Model: \"sequential_1\"\n",
            "_________________________________________________________________\n",
            "Layer (type)                 Output Shape              Param #   \n",
            "=================================================================\n",
            "lstm_1 (LSTM)                (None, 1, 200)            960800    \n",
            "_________________________________________________________________\n",
            "lstm_2 (LSTM)                (None, 1, 200)            320800    \n",
            "_________________________________________________________________\n",
            "flatten_1 (Flatten)          (None, 200)               0         \n",
            "_________________________________________________________________\n",
            "dense_1 (Dense)              (None, 6)                 1206      \n",
            "=================================================================\n",
            "Total params: 1,282,806\n",
            "Trainable params: 1,282,806\n",
            "Non-trainable params: 0\n",
            "_________________________________________________________________\n"
          ],
          "name": "stdout"
        }
      ]
    },
    {
      "cell_type": "code",
      "metadata": {
        "id": "9GfjBNrD4TCC",
        "colab_type": "code",
        "outputId": "a91a2661-448a-4a0f-a1ab-e6b1f3de7d41",
        "colab": {
          "base_uri": "https://localhost:8080/",
          "height": 465
        }
      },
      "source": [
        "from keras.utils import plot_model\n",
        "plot_model(model, to_file='model.png')"
      ],
      "execution_count": 17,
      "outputs": [
        {
          "output_type": "execute_result",
          "data": {
            "image/png": "[encoded data removed]",
            "text/plain": [
              "<IPython.core.display.Image object>"
            ]
          },
          "metadata": {
            "tags": []
          },
          "execution_count": 17
        }
      ]
    },
    {
      "cell_type": "code",
      "metadata": {
        "id": "rq1hnylG4z6O",
        "colab_type": "code",
        "colab": {}
      },
      "source": [
        "# for i, j in enumerate(label):\n",
        "#     print(\"Train \",j)\n",
        "#     y_train = df[j].values\n",
        "#     model.fit(x_train, y_train, epochs=10)"
      ],
      "execution_count": 0,
      "outputs": []
    },
    {
      "cell_type": "code",
      "metadata": {
        "id": "QvvHjzrz5Mjm",
        "colab_type": "code",
        "colab": {}
      },
      "source": [
        "# model1 = Sequential()\n",
        "# model1.add(LSTM(200, input_shape=(1, x_train.shape[2]), return_sequences=True))\n",
        "# model1.add(LSTM(200, return_sequences=True))\n",
        "# model1.add(Flatten())\n",
        "# model1.add(Dense(3, activation='softmax'))\n",
        "# model1.compile(loss='sparse_categorical_crossentropy', optimizer='adam', metrics=['accuracy'])\n",
        "\n",
        "from keras.layers import Input\n",
        "from keras.models import Model\n",
        "xdata = df['message']\n",
        "y_label = df[[\"toxic\", \"obscene\", \"insult\", \"racism\", \"sexism\"]]\n",
        "ydata = y_label.values\n",
        "\n",
        "\n",
        "from sklearn.model_selection import train_test_split\n",
        "\n",
        "xtrain,xtest,y_train,ytest = train_test_split(xdata,ydata,test_size=0.2) \n",
        "maxlen = 64\n",
        "tokenizer = Tokenizer(num_words=10000)\n",
        "tokenizer.fit_on_texts(xtrain)\n",
        "vocab_size = len(tokenizer.word_index) + 1\n",
        "\n",
        "from numpy import array\n",
        "from numpy import asarray\n",
        "from numpy import zeros\n",
        "embeddings_dictionary = dict()\n",
        "glove_file = open('/content/drive/My Drive/Prj/glove.twitter.27B.200d.txt', encoding=\"utf8\")\n",
        "for line in glove_file:\n",
        "    records = line.split()\n",
        "    word = records[0]\n",
        "    vector_dimensions = asarray(records[1:])\n",
        "    embeddings_dictionary[word] = vector_dimensions\n",
        "glove_file.close()\n",
        "embedding_matrix = zeros((vocab_size, 200))\n",
        "for word, index in tokenizer.word_index.items():\n",
        "    embedding_vector = embeddings_dictionary.get(word)\n",
        "    if embedding_vector is not None:\n",
        "        embedding_matrix[index] = embedding_vector\n",
        "\n"
      ],
      "execution_count": 0,
      "outputs": []
    },
    {
      "cell_type": "code",
      "metadata": {
        "id": "NnKsZaUqXjMr",
        "colab_type": "code",
        "colab": {
          "base_uri": "https://localhost:8080/",
          "height": 407
        },
        "outputId": "d1adadbc-e3c0-4b6c-8d9f-57a98c1f237a"
      },
      "source": [
        "from keras.layers.embeddings import Embedding\n",
        "from keras.layers import Dropout\n",
        "\n",
        "\n",
        "deep_inputs = Input(shape=(maxlen,))\n",
        "embedding_layer = Embedding(vocab_size, 200, weights=[embedding_matrix], trainable=False)(deep_inputs)\n",
        "LSTM_Layer_1 = LSTM(32, return_sequences=True)(embedding_layer)\n",
        "LSTM_Layer_2 = LSTM(32, return_sequences=True)(LSTM_Layer_1)\n",
        "Dropout_Layer = Dropout(0.5)(LSTM_Layer_2)\n",
        "#LSTM_Layer_3 = LSTM(128, return_sequences=True)(Dropout_Layer)\n",
        "#LSTM_Layer_4 = LSTM(128, return_sequences=True)(LSTM_Layer_3)\n",
        "LSTM_Layer_5 = LSTM(32)(Dropout_Layer)\n",
        "dense_layer_1 = Dense(5, activation='sigmoid')(LSTM_Layer_5)\n",
        "model = Model(inputs=deep_inputs, outputs=dense_layer_1)\n",
        "model.summary()\n",
        "model.compile(loss='binary_crossentropy', optimizer='adam', metrics=['acc'])"
      ],
      "execution_count": 72,
      "outputs": [
        {
          "output_type": "stream",
          "text": [
            "Model: \"model_18\"\n",
            "_________________________________________________________________\n",
            "Layer (type)                 Output Shape              Param #   \n",
            "=================================================================\n",
            "input_22 (InputLayer)        (None, 64)                0         \n",
            "_________________________________________________________________\n",
            "embedding_22 (Embedding)     (None, 64, 200)           7328200   \n",
            "_________________________________________________________________\n",
            "lstm_61 (LSTM)               (None, 64, 32)            29824     \n",
            "_________________________________________________________________\n",
            "lstm_62 (LSTM)               (None, 64, 32)            8320      \n",
            "_________________________________________________________________\n",
            "dropout_6 (Dropout)          (None, 64, 32)            0         \n",
            "_________________________________________________________________\n",
            "lstm_63 (LSTM)               (None, 32)                8320      \n",
            "_________________________________________________________________\n",
            "dense_19 (Dense)             (None, 5)                 165       \n",
            "=================================================================\n",
            "Total params: 7,374,829\n",
            "Trainable params: 46,629\n",
            "Non-trainable params: 7,328,200\n",
            "_________________________________________________________________\n"
          ],
          "name": "stdout"
        }
      ]
    },
    {
      "cell_type": "code",
      "metadata": {
        "id": "3ngr6tmu-FtD",
        "colab_type": "code",
        "colab": {}
      },
      "source": [
        "# for i, j in enumerate(label):\n",
        "#     print(\"Train \",j)\n",
        "#     y_train = df[j].values\n",
        "#     model1.fit(x_train, y_train, epochs=2)\n",
        "# df.head"
      ],
      "execution_count": 0,
      "outputs": []
    },
    {
      "cell_type": "code",
      "metadata": {
        "id": "Tlj2hxuk-Ioq",
        "colab_type": "code",
        "outputId": "6d193e2d-eb36-46ab-81a4-1f2d99b990fe",
        "colab": {
          "base_uri": "https://localhost:8080/",
          "height": 745
        }
      },
      "source": [
        "# for i, j in enumerate(label):\n",
        "#     # print(\"Train \",j)\n",
        "df.head()\n",
        "X_train = tokenizer.texts_to_sequences(xtrain)\n",
        "X_train = pad_sequences(X_train, padding='post', maxlen=maxlen)\n",
        "history = model.fit(X_train, y_train, batch_size=256, epochs=20, validation_split=0.2)"
      ],
      "execution_count": 75,
      "outputs": [
        {
          "output_type": "stream",
          "text": [
            "Train on 8988 samples, validate on 2248 samples\n",
            "Epoch 1/20\n",
            "8988/8988 [==============================] - 21s 2ms/step - loss: 0.5699 - acc: 0.7982 - val_loss: 0.4692 - val_acc: 0.8169\n",
            "Epoch 2/20\n",
            "8988/8988 [==============================] - 13s 1ms/step - loss: 0.4694 - acc: 0.8145 - val_loss: 0.4639 - val_acc: 0.8169\n",
            "Epoch 3/20\n",
            "8988/8988 [==============================] - 13s 1ms/step - loss: 0.4624 - acc: 0.8145 - val_loss: 0.4461 - val_acc: 0.8169\n",
            "Epoch 4/20\n",
            "8988/8988 [==============================] - 13s 1ms/step - loss: 0.4357 - acc: 0.8145 - val_loss: 0.4065 - val_acc: 0.8169\n",
            "Epoch 5/20\n",
            "8988/8988 [==============================] - 13s 1ms/step - loss: 0.3844 - acc: 0.8208 - val_loss: 0.3350 - val_acc: 0.8529\n",
            "Epoch 6/20\n",
            "8988/8988 [==============================] - 13s 1ms/step - loss: 0.3167 - acc: 0.8629 - val_loss: 0.2842 - val_acc: 0.8809\n",
            "Epoch 7/20\n",
            "8988/8988 [==============================] - 13s 1ms/step - loss: 0.2645 - acc: 0.8983 - val_loss: 0.2427 - val_acc: 0.9035\n",
            "Epoch 8/20\n",
            "8988/8988 [==============================] - 13s 1ms/step - loss: 0.2418 - acc: 0.9069 - val_loss: 0.2521 - val_acc: 0.9028\n",
            "Epoch 9/20\n",
            "8988/8988 [==============================] - 13s 1ms/step - loss: 0.2286 - acc: 0.9118 - val_loss: 0.2142 - val_acc: 0.9157\n",
            "Epoch 10/20\n",
            "8988/8988 [==============================] - 13s 1ms/step - loss: 0.2136 - acc: 0.9179 - val_loss: 0.2155 - val_acc: 0.9149\n",
            "Epoch 11/20\n",
            "8988/8988 [==============================] - 13s 1ms/step - loss: 0.2041 - acc: 0.9218 - val_loss: 0.2102 - val_acc: 0.9209\n",
            "Epoch 12/20\n",
            "8988/8988 [==============================] - 13s 1ms/step - loss: 0.2002 - acc: 0.9237 - val_loss: 0.2212 - val_acc: 0.9133\n",
            "Epoch 13/20\n",
            "8988/8988 [==============================] - 13s 1ms/step - loss: 0.2014 - acc: 0.9209 - val_loss: 0.2166 - val_acc: 0.9150\n",
            "Epoch 14/20\n",
            "8988/8988 [==============================] - 13s 1ms/step - loss: 0.1955 - acc: 0.9230 - val_loss: 0.2089 - val_acc: 0.9198\n",
            "Epoch 15/20\n",
            "8988/8988 [==============================] - 13s 1ms/step - loss: 0.1869 - acc: 0.9266 - val_loss: 0.2089 - val_acc: 0.9154\n",
            "Epoch 16/20\n",
            "8988/8988 [==============================] - 13s 1ms/step - loss: 0.1846 - acc: 0.9273 - val_loss: 0.2037 - val_acc: 0.9189\n",
            "Epoch 17/20\n",
            "8988/8988 [==============================] - 13s 1ms/step - loss: 0.1811 - acc: 0.9283 - val_loss: 0.2022 - val_acc: 0.9218\n",
            "Epoch 18/20\n",
            "8988/8988 [==============================] - 13s 1ms/step - loss: 0.1765 - acc: 0.9297 - val_loss: 0.1979 - val_acc: 0.9219\n",
            "Epoch 19/20\n",
            "8988/8988 [==============================] - 13s 1ms/step - loss: 0.1717 - acc: 0.9332 - val_loss: 0.2028 - val_acc: 0.9187\n",
            "Epoch 20/20\n",
            "8988/8988 [==============================] - 13s 1ms/step - loss: 0.1711 - acc: 0.9325 - val_loss: 0.2009 - val_acc: 0.9218\n"
          ],
          "name": "stdout"
        }
      ]
    },
    {
      "cell_type": "code",
      "metadata": {
        "id": "par1JLGk_A3G",
        "colab_type": "code",
        "colab": {
          "base_uri": "https://localhost:8080/",
          "height": 194
        },
        "outputId": "6792dde5-89fa-4d38-fd51-7a2d742038e1"
      },
      "source": [
        "# Time to test\n",
        "# Fingers crossed\n",
        "X_test = tokenizer.texts_to_sequences(xtest)\n",
        "X_test = pad_sequences(X_test, padding='post', maxlen=maxlen)\n",
        "print(X_test)\n",
        "print(model.metrics_names)\n",
        "model.evaluate(X_test,ytest, batch_size=128)\n"
      ],
      "execution_count": 93,
      "outputs": [
        {
          "output_type": "stream",
          "text": [
            "[[ 668 1572 1641 ... 1470    8  668]\n",
            " [1026   11    1 ...    0    0    0]\n",
            " [ 266   21  319 ...    0    0    0]\n",
            " ...\n",
            " [1724 5208  928 ...    0    0    0]\n",
            " [9700   44  778 ...    0    0    0]\n",
            " [   9    5  719 ...    0    0    0]]\n",
            "['loss', 'acc']\n",
            "2810/2810 [==============================] - 3s 962us/step\n"
          ],
          "name": "stdout"
        },
        {
          "output_type": "execute_result",
          "data": {
            "text/plain": [
              "[0.2200897848690956, 0.914092531916934]"
            ]
          },
          "metadata": {
            "tags": []
          },
          "execution_count": 93
        }
      ]
    },
    {
      "cell_type": "code",
      "metadata": {
        "id": "peFTscBkBZ5z",
        "colab_type": "code",
        "colab": {
          "base_uri": "https://localhost:8080/",
          "height": 603
        },
        "outputId": "b27071da-6dda-427f-f64a-76665eaaa111"
      },
      "source": [
        "test_data = pd.read_csv('/content/test22.csv')\n",
        "print(test_data)\n",
        "xtestdata = tokenizer.texts_to_sequences(test_data['message'])\n",
        "xtestdata = pad_sequences(xtestdata, padding='post', maxlen=maxlen)\n",
        "print(xtestdata)"
      ],
      "execution_count": 104,
      "outputs": [
        {
          "output_type": "stream",
          "text": [
            "                                             message  toxic  ...  racism  sexism\n",
            "0  b'fuck you you red scumbag fuck you you red sc...      1  ...       0       0\n",
            "1  odeh is actions in the us proves that she is a...      0  ...       1       0\n",
            "2  b'clifton bristol the clifton ward also includ...      0  ...       0       0\n",
            "3  b' im not sexist but this is one seriously stu...      0  ...       0       1\n",
            "4  b'love a subtle menu sausage spatchcock tart p...      0  ...       0       1\n",
            "\n",
            "[5 rows x 6 columns]\n",
            "[[ 406    2    2  965 3178   21    2    2  965 3852    0    0    0    0\n",
            "     0    0    0    0    0    0    0    0    0    0    0    0    0    0\n",
            "     0    0    0    0    0    0    0    0    0    0    0    0    0    0\n",
            "     0    0    0    0    0    0    0    0    0    0    0    0    0    0\n",
            "     0    0    0    0    0    0    0    0]\n",
            " [   4 1027   11    1  173 2030   10  151    4    5 1081 1976    7   37\n",
            "  6169 2660   39   33  833   11    0    0    0    0    0    0    0    0\n",
            "     0    0    0    0    0    0    0    0    0    0    0    0    0    0\n",
            "     0    0    0    0    0    0    0    0    0    0    0    0    0    0\n",
            "     0    0    0    0    0    0    0    0]\n",
            " [8030    1 6088   92 1844    1 1505    8    7   14  834 5567   24    1\n",
            "   716    8    7 1461  726    1 1536   92 1844    1 6552  741 9952    8\n",
            "     0    0    0    0    0    0    0    0    0    0    0    0    0    0\n",
            "     0    0    0    0    0    0    0    0    0    0    0    0    0    0\n",
            "     0    0    0    0    0    0    0    0]\n",
            " [  25  111    9  118   26   14    4   55  602  197  132    0    0    0\n",
            "     0    0    0    0    0    0    0    0    0    0    0    0    0    0\n",
            "     0    0    0    0    0    0    0    0    0    0    0    0    0    0\n",
            "     0    0    0    0    0    0    0    0    0    0    0    0    0    0\n",
            "     0    0    0    0    0    0    0    0]\n",
            " [   5 6280 8489 6311 2764 1105  149    0    0    0    0    0    0    0\n",
            "     0    0    0    0    0    0    0    0    0    0    0    0    0    0\n",
            "     0    0    0    0    0    0    0    0    0    0    0    0    0    0\n",
            "     0    0    0    0    0    0    0    0    0    0    0    0    0    0\n",
            "     0    0    0    0    0    0    0    0]]\n"
          ],
          "name": "stdout"
        }
      ]
    },
    {
      "cell_type": "code",
      "metadata": {
        "id": "ypR_Wbk4Bwgq",
        "colab_type": "code",
        "outputId": "e4f39b36-0742-44be-cc89-70a94eae3db4",
        "colab": {
          "base_uri": "https://localhost:8080/",
          "height": 105
        }
      },
      "source": [
        "print(model.predict(xtestdata))"
      ],
      "execution_count": 105,
      "outputs": [
        {
          "output_type": "stream",
          "text": [
            "[[0.9655293  0.9280647  0.81217456 0.01209453 0.02126294]\n",
            " [0.05491185 0.0116969  0.00819385 0.55068177 0.04257163]\n",
            " [0.01926923 0.00867283 0.00547776 0.00718278 0.00238201]\n",
            " [0.01299241 0.00417048 0.01187754 0.01767638 0.97108454]\n",
            " [0.01268855 0.00403506 0.01152331 0.01817462 0.971447  ]]\n"
          ],
          "name": "stdout"
        }
      ]
    },
    {
      "cell_type": "code",
      "metadata": {
        "id": "pbhbGZB2DSlO",
        "colab_type": "code",
        "colab": {}
      },
      "source": [
        "model.save('model_v1.0.3.h5')"
      ],
      "execution_count": 0,
      "outputs": []
    }
  ]
}