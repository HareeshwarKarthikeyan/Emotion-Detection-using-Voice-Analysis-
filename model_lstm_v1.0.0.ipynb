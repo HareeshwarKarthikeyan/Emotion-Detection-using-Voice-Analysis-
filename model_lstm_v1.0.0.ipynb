{
  "nbformat": 4,
  "nbformat_minor": 0,
  "metadata": {
    "colab": {
      "name": "model_lstm.ipynb",
      "provenance": [],
      "collapsed_sections": [],
      "include_colab_link": true
    },
    "kernelspec": {
      "name": "python3",
      "display_name": "Python 3"
    }
  },
  "cells": [
    {
      "cell_type": "markdown",
      "metadata": {
        "id": "view-in-github",
        "colab_type": "text"
      },
      "source": [
        "<a href=\"https://colab.research.google.com/github/HareeshwarKarthikeyan/Strong-Language-Hate-Speech-Filter/blob/Nirav-Agarwal/model_lstm.ipynb\" target=\"_parent\"><img src=\"https://colab.research.google.com/assets/colab-badge.svg\" alt=\"Open In Colab\"/></a>"
      ]
    },
    {
      "cell_type": "code",
      "metadata": {
        "id": "ugOk7GeNzQ9n",
        "colab_type": "code",
        "colab": {
          "base_uri": "https://localhost:8080/",
          "height": 63
        },
        "outputId": "1531672c-7b56-43df-df59-1c1d982051b0"
      },
      "source": [
        "import tensorflow as tf\n",
        "import pandas as pd\n",
        "import numpy as np\n",
        "import csv\n",
        "import tensorflow.keras\n",
        "from tensorflow.keras.preprocessing.text import Tokenizer\n",
        "from tensorflow.keras.preprocessing.sequence import pad_sequences"
      ],
      "execution_count": 2,
      "outputs": [
        {
          "output_type": "display_data",
          "data": {
            "text/html": [
              "<p style=\"color: red;\">\n",
              "The default version of TensorFlow in Colab will soon switch to TensorFlow 2.x.<br>\n",
              "We recommend you <a href=\"https://www.tensorflow.org/guide/migrate\" target=\"_blank\">upgrade</a> now \n",
              "or ensure your notebook will continue to use TensorFlow 1.x via the <code>%tensorflow_version 1.x</code> magic:\n",
              "<a href=\"https://colab.research.google.com/notebooks/tensorflow_version.ipynb\" target=\"_blank\">more info</a>.</p>\n"
            ],
            "text/plain": [
              "<IPython.core.display.HTML object>"
            ]
          },
          "metadata": {
            "tags": []
          }
        }
      ]
    },
    {
      "cell_type": "code",
      "metadata": {
        "id": "9GD4Zbnez6eW",
        "colab_type": "code",
        "colab": {
          "base_uri": "https://localhost:8080/",
          "height": 51
        },
        "outputId": "46b69997-392c-411e-f8cf-cca97390fe4c"
      },
      "source": [
        "!pip install nltk\n",
        "import nltk\n",
        "from nltk.corpus import stopwords"
      ],
      "execution_count": 3,
      "outputs": [
        {
          "output_type": "stream",
          "text": [
            "Requirement already satisfied: nltk in /usr/local/lib/python3.6/dist-packages (3.2.5)\n",
            "Requirement already satisfied: six in /usr/local/lib/python3.6/dist-packages (from nltk) (1.12.0)\n"
          ],
          "name": "stdout"
        }
      ]
    },
    {
      "cell_type": "code",
      "metadata": {
        "id": "VhWM2HcOzbKO",
        "colab_type": "code",
        "colab": {
          "base_uri": "https://localhost:8080/",
          "height": 51
        },
        "outputId": "33314f33-4e5f-4f78-fb9a-5c0d155a5c01"
      },
      "source": [
        "nltk.download('stopwords')\n",
        "STOPWORDS = set(stopwords.words('english'))"
      ],
      "execution_count": 4,
      "outputs": [
        {
          "output_type": "stream",
          "text": [
            "[nltk_data] Downloading package stopwords to /root/nltk_data...\n",
            "[nltk_data]   Package stopwords is already up-to-date!\n"
          ],
          "name": "stdout"
        }
      ]
    },
    {
      "cell_type": "code",
      "metadata": {
        "id": "rI5J50WRzeR9",
        "colab_type": "code",
        "colab": {
          "base_uri": "https://localhost:8080/",
          "height": 204
        },
        "outputId": "149cc6ba-a3a4-4aa3-b877-118ec2d2f189"
      },
      "source": [
        "df = pd.read_csv('finalcleandata.csv')\n",
        "df.head()"
      ],
      "execution_count": 5,
      "outputs": [
        {
          "output_type": "execute_result",
          "data": {
            "text/html": [
              "<div>\n",
              "<style scoped>\n",
              "    .dataframe tbody tr th:only-of-type {\n",
              "        vertical-align: middle;\n",
              "    }\n",
              "\n",
              "    .dataframe tbody tr th {\n",
              "        vertical-align: top;\n",
              "    }\n",
              "\n",
              "    .dataframe thead th {\n",
              "        text-align: right;\n",
              "    }\n",
              "</style>\n",
              "<table border=\"1\" class=\"dataframe\">\n",
              "  <thead>\n",
              "    <tr style=\"text-align: right;\">\n",
              "      <th></th>\n",
              "      <th>message</th>\n",
              "      <th>toxic</th>\n",
              "      <th>obscene</th>\n",
              "      <th>insult</th>\n",
              "      <th>racism</th>\n",
              "      <th>sexism</th>\n",
              "    </tr>\n",
              "  </thead>\n",
              "  <tbody>\n",
              "    <tr>\n",
              "      <th>0</th>\n",
              "      <td>b'fuck you you red scumbag fuck you you red sc...</td>\n",
              "      <td>1</td>\n",
              "      <td>1</td>\n",
              "      <td>1</td>\n",
              "      <td>0</td>\n",
              "      <td>0</td>\n",
              "    </tr>\n",
              "    <tr>\n",
              "      <th>1</th>\n",
              "      <td>odeh is actions in the us proves that she is a...</td>\n",
              "      <td>0</td>\n",
              "      <td>0</td>\n",
              "      <td>0</td>\n",
              "      <td>1</td>\n",
              "      <td>0</td>\n",
              "    </tr>\n",
              "    <tr>\n",
              "      <th>2</th>\n",
              "      <td>b'clifton bristol the clifton ward also includ...</td>\n",
              "      <td>0</td>\n",
              "      <td>0</td>\n",
              "      <td>0</td>\n",
              "      <td>0</td>\n",
              "      <td>0</td>\n",
              "    </tr>\n",
              "    <tr>\n",
              "      <th>3</th>\n",
              "      <td>b' im not sexist but this is one seriously stu...</td>\n",
              "      <td>0</td>\n",
              "      <td>0</td>\n",
              "      <td>0</td>\n",
              "      <td>0</td>\n",
              "      <td>1</td>\n",
              "    </tr>\n",
              "    <tr>\n",
              "      <th>4</th>\n",
              "      <td>b'love a subtle menu sausage spatchcock tart p...</td>\n",
              "      <td>0</td>\n",
              "      <td>0</td>\n",
              "      <td>0</td>\n",
              "      <td>0</td>\n",
              "      <td>1</td>\n",
              "    </tr>\n",
              "  </tbody>\n",
              "</table>\n",
              "</div>"
            ],
            "text/plain": [
              "                                             message  toxic  ...  racism  sexism\n",
              "0  b'fuck you you red scumbag fuck you you red sc...      1  ...       0       0\n",
              "1  odeh is actions in the us proves that she is a...      0  ...       1       0\n",
              "2  b'clifton bristol the clifton ward also includ...      0  ...       0       0\n",
              "3  b' im not sexist but this is one seriously stu...      0  ...       0       1\n",
              "4  b'love a subtle menu sausage spatchcock tart p...      0  ...       0       1\n",
              "\n",
              "[5 rows x 6 columns]"
            ]
          },
          "metadata": {
            "tags": []
          },
          "execution_count": 5
        }
      ]
    },
    {
      "cell_type": "code",
      "metadata": {
        "id": "XMUND7ho07e6",
        "colab_type": "code",
        "colab": {}
      },
      "source": [
        "# Hyper-Parameters\n",
        "\n",
        "MAX_NB_WORDS = 100000    # max no. of words for tokenizer\n",
        "MAX_SEQUENCE_LENGTH = 200 # max length of each entry (sentence), including padding\n",
        "VALIDATION_SPLIT = 0.2   # data for validation (not used in training)\n",
        "EMBEDDING_DIM = 100      # embedding dimensions for word vectors (word2vec/GloVe)\n",
        "\n"
      ],
      "execution_count": 0,
      "outputs": []
    },
    {
      "cell_type": "code",
      "metadata": {
        "id": "-Xr26NcU1KjN",
        "colab_type": "code",
        "colab": {}
      },
      "source": [
        "label = ['toxic','obscene','insult','racism','sexism']"
      ],
      "execution_count": 0,
      "outputs": []
    },
    {
      "cell_type": "code",
      "metadata": {
        "id": "6Fo1Prs02R9J",
        "colab_type": "code",
        "colab": {}
      },
      "source": [
        "message = 'message'"
      ],
      "execution_count": 0,
      "outputs": []
    },
    {
      "cell_type": "code",
      "metadata": {
        "id": "a7CNiwW63bDP",
        "colab_type": "code",
        "colab": {}
      },
      "source": [
        "def get_list(data):\n",
        "    data = data.fillna(\"unknown\")\n",
        "    return data.tolist()"
      ],
      "execution_count": 0,
      "outputs": []
    },
    {
      "cell_type": "code",
      "metadata": {
        "id": "qIIrq4Dc3lxg",
        "colab_type": "code",
        "colab": {}
      },
      "source": [
        "def tokenize_reshape(data):\n",
        "    data = tok.texts_to_matrix(data)\n",
        "    return np.reshape(data, (data.shape[0], 1, data.shape[1]))"
      ],
      "execution_count": 0,
      "outputs": []
    },
    {
      "cell_type": "code",
      "metadata": {
        "id": "hZZF0aj5374h",
        "colab_type": "code",
        "colab": {}
      },
      "source": [
        "x_train = get_list(df[message])\n"
      ],
      "execution_count": 0,
      "outputs": []
    },
    {
      "cell_type": "code",
      "metadata": {
        "id": "H_11dCe_3-63",
        "colab_type": "code",
        "colab": {}
      },
      "source": [
        "tok = Tokenizer(num_words=1000)\n",
        "tok.fit_on_texts(x_train)"
      ],
      "execution_count": 0,
      "outputs": []
    },
    {
      "cell_type": "code",
      "metadata": {
        "id": "SiRTbri34HZ5",
        "colab_type": "code",
        "colab": {}
      },
      "source": [
        "x_train = tokenize_reshape(x_train)"
      ],
      "execution_count": 0,
      "outputs": []
    },
    {
      "cell_type": "code",
      "metadata": {
        "id": "Q9UpDnwo4KDN",
        "colab_type": "code",
        "colab": {
          "base_uri": "https://localhost:8080/",
          "height": 34
        },
        "outputId": "7dece06b-7ac8-4ca0-fd3e-3df77b23b1fd"
      },
      "source": [
        "from keras.models import Sequential\n",
        "from keras.layers import Dense, LSTM, Flatten"
      ],
      "execution_count": 17,
      "outputs": [
        {
          "output_type": "stream",
          "text": [
            "Using TensorFlow backend.\n"
          ],
          "name": "stderr"
        }
      ]
    },
    {
      "cell_type": "code",
      "metadata": {
        "id": "ebs9dmKN4MrS",
        "colab_type": "code",
        "colab": {
          "base_uri": "https://localhost:8080/",
          "height": 258
        },
        "outputId": "9f231907-616e-4c06-d2f2-31c56758bd21"
      },
      "source": [
        "model = Sequential()\n",
        "model.add(LSTM(200, input_shape=(1, x_train.shape[2]), return_sequences=True))\n",
        "model.add(LSTM(200, return_sequences=True))\n",
        "model.add(Flatten())\n",
        "model.add(Dense(1, activation='sigmoid'))\n",
        "model.compile(loss='binary_crossentropy', optimizer='adam', metrics=['accuracy'])"
      ],
      "execution_count": 18,
      "outputs": [
        {
          "output_type": "stream",
          "text": [
            "WARNING:tensorflow:From /usr/local/lib/python3.6/dist-packages/keras/backend/tensorflow_backend.py:66: The name tf.get_default_graph is deprecated. Please use tf.compat.v1.get_default_graph instead.\n",
            "\n",
            "WARNING:tensorflow:From /usr/local/lib/python3.6/dist-packages/keras/backend/tensorflow_backend.py:541: The name tf.placeholder is deprecated. Please use tf.compat.v1.placeholder instead.\n",
            "\n",
            "WARNING:tensorflow:From /usr/local/lib/python3.6/dist-packages/keras/backend/tensorflow_backend.py:4432: The name tf.random_uniform is deprecated. Please use tf.random.uniform instead.\n",
            "\n",
            "WARNING:tensorflow:From /usr/local/lib/python3.6/dist-packages/keras/optimizers.py:793: The name tf.train.Optimizer is deprecated. Please use tf.compat.v1.train.Optimizer instead.\n",
            "\n",
            "WARNING:tensorflow:From /usr/local/lib/python3.6/dist-packages/keras/backend/tensorflow_backend.py:3657: The name tf.log is deprecated. Please use tf.math.log instead.\n",
            "\n",
            "WARNING:tensorflow:From /usr/local/lib/python3.6/dist-packages/tensorflow_core/python/ops/nn_impl.py:183: where (from tensorflow.python.ops.array_ops) is deprecated and will be removed in a future version.\n",
            "Instructions for updating:\n",
            "Use tf.where in 2.0, which has the same broadcast rule as np.where\n"
          ],
          "name": "stdout"
        }
      ]
    },
    {
      "cell_type": "code",
      "metadata": {
        "id": "3IcwY8rQ4PYi",
        "colab_type": "code",
        "colab": {
          "base_uri": "https://localhost:8080/",
          "height": 289
        },
        "outputId": "dc5b48f0-907b-44e8-c7af-fb785e65b8d0"
      },
      "source": [
        "model.summary()"
      ],
      "execution_count": 19,
      "outputs": [
        {
          "output_type": "stream",
          "text": [
            "Model: \"sequential_1\"\n",
            "_________________________________________________________________\n",
            "Layer (type)                 Output Shape              Param #   \n",
            "=================================================================\n",
            "lstm_1 (LSTM)                (None, 1, 200)            960800    \n",
            "_________________________________________________________________\n",
            "lstm_2 (LSTM)                (None, 1, 200)            320800    \n",
            "_________________________________________________________________\n",
            "flatten_1 (Flatten)          (None, 200)               0         \n",
            "_________________________________________________________________\n",
            "dense_1 (Dense)              (None, 1)                 201       \n",
            "=================================================================\n",
            "Total params: 1,281,801\n",
            "Trainable params: 1,281,801\n",
            "Non-trainable params: 0\n",
            "_________________________________________________________________\n"
          ],
          "name": "stdout"
        }
      ]
    },
    {
      "cell_type": "code",
      "metadata": {
        "id": "9GfjBNrD4TCC",
        "colab_type": "code",
        "colab": {
          "base_uri": "https://localhost:8080/",
          "height": 466
        },
        "outputId": "28f14dfb-02f0-48b6-9514-9b71c4e08fd3"
      },
      "source": [
        "from keras.utils import plot_model\n",
        "plot_model(model, to_file='model.png')"
      ],
      "execution_count": 20,
      "outputs": [
        {
          "output_type": "execute_result",
          "data": {
            "image/png": "[encoded data removed]",
            "text/plain": [
              "<IPython.core.display.Image object>"
            ]
          },
          "metadata": {
            "tags": []
          },
          "execution_count": 20
        }
      ]
    },
    {
      "cell_type": "code",
      "metadata": {
        "id": "rq1hnylG4z6O",
        "colab_type": "code",
        "colab": {
          "base_uri": "https://localhost:8080/",
          "height": 1000
        },
        "outputId": "9a3eade5-46bb-4388-b4b6-f9310513e477"
      },
      "source": [
        "for i, j in enumerate(label):\n",
        "    print(\"Train \",j)\n",
        "    y_train = df[j].values\n",
        "    model.fit(x_train, y_train, epochs=10)"
      ],
      "execution_count": 40,
      "outputs": [
        {
          "output_type": "stream",
          "text": [
            "Train  toxic\n",
            "Epoch 1/10\n",
            "14046/14046 [==============================] - 21s 2ms/step - loss: 0.0500 - acc: 0.9779\n",
            "Epoch 2/10\n",
            "14046/14046 [==============================] - 21s 1ms/step - loss: 0.0448 - acc: 0.9803\n",
            "Epoch 3/10\n",
            "14046/14046 [==============================] - 21s 2ms/step - loss: 0.0413 - acc: 0.9826\n",
            "Epoch 4/10\n",
            "14046/14046 [==============================] - 20s 1ms/step - loss: 0.0337 - acc: 0.9843\n",
            "Epoch 5/10\n",
            "14046/14046 [==============================] - 20s 1ms/step - loss: 0.0272 - acc: 0.9888\n",
            "Epoch 6/10\n",
            "14046/14046 [==============================] - 20s 1ms/step - loss: 0.0270 - acc: 0.9882\n",
            "Epoch 7/10\n",
            "14046/14046 [==============================] - 20s 1ms/step - loss: 0.0284 - acc: 0.9900\n",
            "Epoch 8/10\n",
            "14046/14046 [==============================] - 20s 1ms/step - loss: 0.0235 - acc: 0.9907\n",
            "Epoch 9/10\n",
            "14046/14046 [==============================] - 21s 1ms/step - loss: 0.0203 - acc: 0.9917\n",
            "Epoch 10/10\n",
            "14046/14046 [==============================] - 20s 1ms/step - loss: 0.0179 - acc: 0.9932\n",
            "Train  obscene\n",
            "Epoch 1/10\n",
            "14046/14046 [==============================] - 20s 1ms/step - loss: 0.3399 - acc: 0.8875\n",
            "Epoch 2/10\n",
            "14046/14046 [==============================] - 20s 1ms/step - loss: 0.1619 - acc: 0.9331\n",
            "Epoch 3/10\n",
            "14046/14046 [==============================] - 20s 1ms/step - loss: 0.1092 - acc: 0.9559\n",
            "Epoch 4/10\n",
            "14046/14046 [==============================] - 20s 1ms/step - loss: 0.0677 - acc: 0.9721\n",
            "Epoch 5/10\n",
            "14046/14046 [==============================] - 20s 1ms/step - loss: 0.0458 - acc: 0.9821\n",
            "Epoch 6/10\n",
            "14046/14046 [==============================] - 20s 1ms/step - loss: 0.0369 - acc: 0.9850\n",
            "Epoch 7/10\n",
            "14046/14046 [==============================] - 20s 1ms/step - loss: 0.0293 - acc: 0.9883\n",
            "Epoch 8/10\n",
            "14046/14046 [==============================] - 20s 1ms/step - loss: 0.0260 - acc: 0.9897\n",
            "Epoch 9/10\n",
            "14046/14046 [==============================] - 20s 1ms/step - loss: 0.0217 - acc: 0.9912\n",
            "Epoch 10/10\n",
            "14046/14046 [==============================] - 20s 1ms/step - loss: 0.0203 - acc: 0.9909\n",
            "Train  insult\n",
            "Epoch 1/10\n",
            "14046/14046 [==============================] - 20s 1ms/step - loss: 0.2749 - acc: 0.9025\n",
            "Epoch 2/10\n",
            "14046/14046 [==============================] - 20s 1ms/step - loss: 0.1494 - acc: 0.9402\n",
            "Epoch 3/10\n",
            "14046/14046 [==============================] - 20s 1ms/step - loss: 0.0913 - acc: 0.9650\n",
            "Epoch 4/10\n",
            "14046/14046 [==============================] - 21s 1ms/step - loss: 0.0537 - acc: 0.9788\n",
            "Epoch 5/10\n",
            "14046/14046 [==============================] - 20s 1ms/step - loss: 0.0386 - acc: 0.9843\n",
            "Epoch 6/10\n",
            "14046/14046 [==============================] - 20s 1ms/step - loss: 0.0306 - acc: 0.9874\n",
            "Epoch 7/10\n",
            "14046/14046 [==============================] - 20s 1ms/step - loss: 0.0268 - acc: 0.9900\n",
            "Epoch 8/10\n",
            "14046/14046 [==============================] - 20s 1ms/step - loss: 0.0239 - acc: 0.9910\n",
            "Epoch 9/10\n",
            "14046/14046 [==============================] - 20s 1ms/step - loss: 0.0215 - acc: 0.9915\n",
            "Epoch 10/10\n",
            "14046/14046 [==============================] - 20s 1ms/step - loss: 0.0193 - acc: 0.9924\n",
            "Train  racism\n",
            "Epoch 1/10\n",
            "14046/14046 [==============================] - 20s 1ms/step - loss: 0.3823 - acc: 0.9475\n",
            "Epoch 2/10\n",
            "14046/14046 [==============================] - 20s 1ms/step - loss: 0.0426 - acc: 0.9850\n",
            "Epoch 3/10\n",
            "14046/14046 [==============================] - 20s 1ms/step - loss: 0.0210 - acc: 0.9935\n",
            "Epoch 4/10\n",
            "14046/14046 [==============================] - 20s 1ms/step - loss: 0.0107 - acc: 0.9974\n",
            "Epoch 5/10\n",
            "14046/14046 [==============================] - 20s 1ms/step - loss: 0.0060 - acc: 0.9988\n",
            "Epoch 6/10\n",
            "14046/14046 [==============================] - 20s 1ms/step - loss: 0.0039 - acc: 0.9993\n",
            "Epoch 7/10\n",
            "14046/14046 [==============================] - 20s 1ms/step - loss: 0.0027 - acc: 0.9996\n",
            "Epoch 8/10\n",
            "14046/14046 [==============================] - 20s 1ms/step - loss: 0.0021 - acc: 0.9996\n",
            "Epoch 9/10\n",
            "14046/14046 [==============================] - 20s 1ms/step - loss: 0.0016 - acc: 0.9996\n",
            "Epoch 10/10\n",
            "14046/14046 [==============================] - 20s 1ms/step - loss: 0.0011 - acc: 0.9998\n",
            "Train  sexism\n",
            "Epoch 1/10\n",
            "14046/14046 [==============================] - 20s 1ms/step - loss: 0.2636 - acc: 0.9297\n",
            "Epoch 2/10\n",
            "14046/14046 [==============================] - 20s 1ms/step - loss: 0.0646 - acc: 0.9743\n",
            "Epoch 3/10\n",
            "14046/14046 [==============================] - 20s 1ms/step - loss: 0.0383 - acc: 0.9860\n",
            "Epoch 4/10\n",
            "14046/14046 [==============================] - 19s 1ms/step - loss: 0.0250 - acc: 0.9907\n",
            "Epoch 5/10\n",
            "14046/14046 [==============================] - 23s 2ms/step - loss: 0.0185 - acc: 0.9937\n",
            "Epoch 6/10\n",
            "14046/14046 [==============================] - 20s 1ms/step - loss: 0.0150 - acc: 0.9947\n",
            "Epoch 7/10\n",
            "14046/14046 [==============================] - 21s 1ms/step - loss: 0.0132 - acc: 0.9949\n",
            "Epoch 8/10\n",
            "14046/14046 [==============================] - 21s 1ms/step - loss: 0.0119 - acc: 0.9957\n",
            "Epoch 9/10\n",
            "14046/14046 [==============================] - 21s 1ms/step - loss: 0.0112 - acc: 0.9952\n",
            "Epoch 10/10\n",
            "14046/14046 [==============================] - 20s 1ms/step - loss: 0.0104 - acc: 0.9959\n"
          ],
          "name": "stdout"
        }
      ]
    },
    {
      "cell_type": "code",
      "metadata": {
        "id": "QvvHjzrz5Mjm",
        "colab_type": "code",
        "colab": {}
      },
      "source": [
        "model1 = Sequential()\n",
        "model1.add(LSTM(200, input_shape=(1, x_train.shape[2]), return_sequences=True))\n",
        "model1.add(LSTM(200, return_sequences=True))\n",
        "model1.add(Flatten())\n",
        "model1.add(Dense(5, activation='softmax'))\n",
        "model1.compile(loss='sparse_categorical_crossentropy', optimizer='adam', metrics=['accuracy'])"
      ],
      "execution_count": 0,
      "outputs": []
    },
    {
      "cell_type": "code",
      "metadata": {
        "id": "3ngr6tmu-FtD",
        "colab_type": "code",
        "colab": {
          "base_uri": "https://localhost:8080/",
          "height": 769
        },
        "outputId": "15eb3a9a-f153-42b1-b2bd-1fa2bd6850af"
      },
      "source": [
        "# for i, j in enumerate(label):\n",
        "#     print(\"Train \",j)\n",
        "#     y_train = df[j].values\n",
        "#     model1.fit(x_train, y_train, epochs=2)"
      ],
      "execution_count": 23,
      "outputs": [
        {
          "output_type": "stream",
          "text": [
            "Train  toxic\n",
            "WARNING:tensorflow:From /usr/local/lib/python3.6/dist-packages/keras/backend/tensorflow_backend.py:1033: The name tf.assign_add is deprecated. Please use tf.compat.v1.assign_add instead.\n",
            "\n",
            "WARNING:tensorflow:From /usr/local/lib/python3.6/dist-packages/keras/backend/tensorflow_backend.py:1020: The name tf.assign is deprecated. Please use tf.compat.v1.assign instead.\n",
            "\n",
            "WARNING:tensorflow:From /usr/local/lib/python3.6/dist-packages/keras/backend/tensorflow_backend.py:3005: The name tf.Session is deprecated. Please use tf.compat.v1.Session instead.\n",
            "\n",
            "Epoch 1/2\n",
            "WARNING:tensorflow:From /usr/local/lib/python3.6/dist-packages/keras/backend/tensorflow_backend.py:190: The name tf.get_default_session is deprecated. Please use tf.compat.v1.get_default_session instead.\n",
            "\n",
            "WARNING:tensorflow:From /usr/local/lib/python3.6/dist-packages/keras/backend/tensorflow_backend.py:197: The name tf.ConfigProto is deprecated. Please use tf.compat.v1.ConfigProto instead.\n",
            "\n",
            "WARNING:tensorflow:From /usr/local/lib/python3.6/dist-packages/keras/backend/tensorflow_backend.py:207: The name tf.global_variables is deprecated. Please use tf.compat.v1.global_variables instead.\n",
            "\n",
            "WARNING:tensorflow:From /usr/local/lib/python3.6/dist-packages/keras/backend/tensorflow_backend.py:216: The name tf.is_variable_initialized is deprecated. Please use tf.compat.v1.is_variable_initialized instead.\n",
            "\n",
            "WARNING:tensorflow:From /usr/local/lib/python3.6/dist-packages/keras/backend/tensorflow_backend.py:223: The name tf.variables_initializer is deprecated. Please use tf.compat.v1.variables_initializer instead.\n",
            "\n",
            "14046/14046 [==============================] - 21s 1ms/step - loss: 0.4272 - acc: 0.8246\n",
            "Epoch 2/2\n",
            "14046/14046 [==============================] - 20s 1ms/step - loss: 0.2808 - acc: 0.8764\n",
            "Train  obscene\n",
            "Epoch 1/2\n",
            " 5408/14046 [==========>...................] - ETA: 12s - loss: 0.2352 - acc: 0.9038"
          ],
          "name": "stdout"
        },
        {
          "output_type": "error",
          "ename": "KeyboardInterrupt",
          "evalue": "ignored",
          "traceback": [
            "\u001b[0;31m---------------------------------------------------------------------------\u001b[0m",
            "\u001b[0;31mKeyboardInterrupt\u001b[0m                         Traceback (most recent call last)",
            "\u001b[0;32m<ipython-input-23-f3d3ef6a5b53>\u001b[0m in \u001b[0;36m<module>\u001b[0;34m()\u001b[0m\n\u001b[1;32m      2\u001b[0m     \u001b[0mprint\u001b[0m\u001b[0;34m(\u001b[0m\u001b[0;34m\"Train \"\u001b[0m\u001b[0;34m,\u001b[0m\u001b[0mj\u001b[0m\u001b[0;34m)\u001b[0m\u001b[0;34m\u001b[0m\u001b[0;34m\u001b[0m\u001b[0m\n\u001b[1;32m      3\u001b[0m     \u001b[0my_train\u001b[0m \u001b[0;34m=\u001b[0m \u001b[0mdf\u001b[0m\u001b[0;34m[\u001b[0m\u001b[0mj\u001b[0m\u001b[0;34m]\u001b[0m\u001b[0;34m.\u001b[0m\u001b[0mvalues\u001b[0m\u001b[0;34m\u001b[0m\u001b[0;34m\u001b[0m\u001b[0m\n\u001b[0;32m----> 4\u001b[0;31m     \u001b[0mmodel1\u001b[0m\u001b[0;34m.\u001b[0m\u001b[0mfit\u001b[0m\u001b[0;34m(\u001b[0m\u001b[0mx_train\u001b[0m\u001b[0;34m,\u001b[0m \u001b[0my_train\u001b[0m\u001b[0;34m,\u001b[0m \u001b[0mepochs\u001b[0m\u001b[0;34m=\u001b[0m\u001b[0;36m2\u001b[0m\u001b[0;34m)\u001b[0m\u001b[0;34m\u001b[0m\u001b[0;34m\u001b[0m\u001b[0m\n\u001b[0m",
            "\u001b[0;32m/usr/local/lib/python3.6/dist-packages/keras/engine/training.py\u001b[0m in \u001b[0;36mfit\u001b[0;34m(self, x, y, batch_size, epochs, verbose, callbacks, validation_split, validation_data, shuffle, class_weight, sample_weight, initial_epoch, steps_per_epoch, validation_steps, validation_freq, max_queue_size, workers, use_multiprocessing, **kwargs)\u001b[0m\n\u001b[1;32m   1176\u001b[0m                                         \u001b[0msteps_per_epoch\u001b[0m\u001b[0;34m=\u001b[0m\u001b[0msteps_per_epoch\u001b[0m\u001b[0;34m,\u001b[0m\u001b[0;34m\u001b[0m\u001b[0;34m\u001b[0m\u001b[0m\n\u001b[1;32m   1177\u001b[0m                                         \u001b[0mvalidation_steps\u001b[0m\u001b[0;34m=\u001b[0m\u001b[0mvalidation_steps\u001b[0m\u001b[0;34m,\u001b[0m\u001b[0;34m\u001b[0m\u001b[0;34m\u001b[0m\u001b[0m\n\u001b[0;32m-> 1178\u001b[0;31m                                         validation_freq=validation_freq)\n\u001b[0m\u001b[1;32m   1179\u001b[0m \u001b[0;34m\u001b[0m\u001b[0m\n\u001b[1;32m   1180\u001b[0m     def evaluate(self,\n",
            "\u001b[0;32m/usr/local/lib/python3.6/dist-packages/keras/engine/training_arrays.py\u001b[0m in \u001b[0;36mfit_loop\u001b[0;34m(model, fit_function, fit_inputs, out_labels, batch_size, epochs, verbose, callbacks, val_function, val_inputs, shuffle, callback_metrics, initial_epoch, steps_per_epoch, validation_steps, validation_freq)\u001b[0m\n\u001b[1;32m    202\u001b[0m                     \u001b[0mins_batch\u001b[0m\u001b[0;34m[\u001b[0m\u001b[0mi\u001b[0m\u001b[0;34m]\u001b[0m \u001b[0;34m=\u001b[0m \u001b[0mins_batch\u001b[0m\u001b[0;34m[\u001b[0m\u001b[0mi\u001b[0m\u001b[0;34m]\u001b[0m\u001b[0;34m.\u001b[0m\u001b[0mtoarray\u001b[0m\u001b[0;34m(\u001b[0m\u001b[0;34m)\u001b[0m\u001b[0;34m\u001b[0m\u001b[0;34m\u001b[0m\u001b[0m\n\u001b[1;32m    203\u001b[0m \u001b[0;34m\u001b[0m\u001b[0m\n\u001b[0;32m--> 204\u001b[0;31m                 \u001b[0mouts\u001b[0m \u001b[0;34m=\u001b[0m \u001b[0mfit_function\u001b[0m\u001b[0;34m(\u001b[0m\u001b[0mins_batch\u001b[0m\u001b[0;34m)\u001b[0m\u001b[0;34m\u001b[0m\u001b[0;34m\u001b[0m\u001b[0m\n\u001b[0m\u001b[1;32m    205\u001b[0m                 \u001b[0mouts\u001b[0m \u001b[0;34m=\u001b[0m \u001b[0mto_list\u001b[0m\u001b[0;34m(\u001b[0m\u001b[0mouts\u001b[0m\u001b[0;34m)\u001b[0m\u001b[0;34m\u001b[0m\u001b[0;34m\u001b[0m\u001b[0m\n\u001b[1;32m    206\u001b[0m                 \u001b[0;32mfor\u001b[0m \u001b[0ml\u001b[0m\u001b[0;34m,\u001b[0m \u001b[0mo\u001b[0m \u001b[0;32min\u001b[0m \u001b[0mzip\u001b[0m\u001b[0;34m(\u001b[0m\u001b[0mout_labels\u001b[0m\u001b[0;34m,\u001b[0m \u001b[0mouts\u001b[0m\u001b[0;34m)\u001b[0m\u001b[0;34m:\u001b[0m\u001b[0;34m\u001b[0m\u001b[0;34m\u001b[0m\u001b[0m\n",
            "\u001b[0;32m/usr/local/lib/python3.6/dist-packages/keras/backend/tensorflow_backend.py\u001b[0m in \u001b[0;36m__call__\u001b[0;34m(self, inputs)\u001b[0m\n\u001b[1;32m   2977\u001b[0m                     \u001b[0;32mreturn\u001b[0m \u001b[0mself\u001b[0m\u001b[0;34m.\u001b[0m\u001b[0m_legacy_call\u001b[0m\u001b[0;34m(\u001b[0m\u001b[0minputs\u001b[0m\u001b[0;34m)\u001b[0m\u001b[0;34m\u001b[0m\u001b[0;34m\u001b[0m\u001b[0m\n\u001b[1;32m   2978\u001b[0m \u001b[0;34m\u001b[0m\u001b[0m\n\u001b[0;32m-> 2979\u001b[0;31m             \u001b[0;32mreturn\u001b[0m \u001b[0mself\u001b[0m\u001b[0;34m.\u001b[0m\u001b[0m_call\u001b[0m\u001b[0;34m(\u001b[0m\u001b[0minputs\u001b[0m\u001b[0;34m)\u001b[0m\u001b[0;34m\u001b[0m\u001b[0;34m\u001b[0m\u001b[0m\n\u001b[0m\u001b[1;32m   2980\u001b[0m         \u001b[0;32melse\u001b[0m\u001b[0;34m:\u001b[0m\u001b[0;34m\u001b[0m\u001b[0;34m\u001b[0m\u001b[0m\n\u001b[1;32m   2981\u001b[0m             \u001b[0;32mif\u001b[0m \u001b[0mpy_any\u001b[0m\u001b[0;34m(\u001b[0m\u001b[0mis_tensor\u001b[0m\u001b[0;34m(\u001b[0m\u001b[0mx\u001b[0m\u001b[0;34m)\u001b[0m \u001b[0;32mfor\u001b[0m \u001b[0mx\u001b[0m \u001b[0;32min\u001b[0m \u001b[0minputs\u001b[0m\u001b[0;34m)\u001b[0m\u001b[0;34m:\u001b[0m\u001b[0;34m\u001b[0m\u001b[0;34m\u001b[0m\u001b[0m\n",
            "\u001b[0;32m/usr/local/lib/python3.6/dist-packages/keras/backend/tensorflow_backend.py\u001b[0m in \u001b[0;36m_call\u001b[0;34m(self, inputs)\u001b[0m\n\u001b[1;32m   2935\u001b[0m             \u001b[0mfetched\u001b[0m \u001b[0;34m=\u001b[0m \u001b[0mself\u001b[0m\u001b[0;34m.\u001b[0m\u001b[0m_callable_fn\u001b[0m\u001b[0;34m(\u001b[0m\u001b[0;34m*\u001b[0m\u001b[0marray_vals\u001b[0m\u001b[0;34m,\u001b[0m \u001b[0mrun_metadata\u001b[0m\u001b[0;34m=\u001b[0m\u001b[0mself\u001b[0m\u001b[0;34m.\u001b[0m\u001b[0mrun_metadata\u001b[0m\u001b[0;34m)\u001b[0m\u001b[0;34m\u001b[0m\u001b[0;34m\u001b[0m\u001b[0m\n\u001b[1;32m   2936\u001b[0m         \u001b[0;32melse\u001b[0m\u001b[0;34m:\u001b[0m\u001b[0;34m\u001b[0m\u001b[0;34m\u001b[0m\u001b[0m\n\u001b[0;32m-> 2937\u001b[0;31m             \u001b[0mfetched\u001b[0m \u001b[0;34m=\u001b[0m \u001b[0mself\u001b[0m\u001b[0;34m.\u001b[0m\u001b[0m_callable_fn\u001b[0m\u001b[0;34m(\u001b[0m\u001b[0;34m*\u001b[0m\u001b[0marray_vals\u001b[0m\u001b[0;34m)\u001b[0m\u001b[0;34m\u001b[0m\u001b[0;34m\u001b[0m\u001b[0m\n\u001b[0m\u001b[1;32m   2938\u001b[0m         \u001b[0;32mreturn\u001b[0m \u001b[0mfetched\u001b[0m\u001b[0;34m[\u001b[0m\u001b[0;34m:\u001b[0m\u001b[0mlen\u001b[0m\u001b[0;34m(\u001b[0m\u001b[0mself\u001b[0m\u001b[0;34m.\u001b[0m\u001b[0moutputs\u001b[0m\u001b[0;34m)\u001b[0m\u001b[0;34m]\u001b[0m\u001b[0;34m\u001b[0m\u001b[0;34m\u001b[0m\u001b[0m\n\u001b[1;32m   2939\u001b[0m \u001b[0;34m\u001b[0m\u001b[0m\n",
            "\u001b[0;32m/usr/local/lib/python3.6/dist-packages/tensorflow_core/python/client/session.py\u001b[0m in \u001b[0;36m__call__\u001b[0;34m(self, *args, **kwargs)\u001b[0m\n\u001b[1;32m   1470\u001b[0m         ret = tf_session.TF_SessionRunCallable(self._session._session,\n\u001b[1;32m   1471\u001b[0m                                                \u001b[0mself\u001b[0m\u001b[0;34m.\u001b[0m\u001b[0m_handle\u001b[0m\u001b[0;34m,\u001b[0m \u001b[0margs\u001b[0m\u001b[0;34m,\u001b[0m\u001b[0;34m\u001b[0m\u001b[0;34m\u001b[0m\u001b[0m\n\u001b[0;32m-> 1472\u001b[0;31m                                                run_metadata_ptr)\n\u001b[0m\u001b[1;32m   1473\u001b[0m         \u001b[0;32mif\u001b[0m \u001b[0mrun_metadata\u001b[0m\u001b[0;34m:\u001b[0m\u001b[0;34m\u001b[0m\u001b[0;34m\u001b[0m\u001b[0m\n\u001b[1;32m   1474\u001b[0m           \u001b[0mproto_data\u001b[0m \u001b[0;34m=\u001b[0m \u001b[0mtf_session\u001b[0m\u001b[0;34m.\u001b[0m\u001b[0mTF_GetBuffer\u001b[0m\u001b[0;34m(\u001b[0m\u001b[0mrun_metadata_ptr\u001b[0m\u001b[0;34m)\u001b[0m\u001b[0;34m\u001b[0m\u001b[0;34m\u001b[0m\u001b[0m\n",
            "\u001b[0;31mKeyboardInterrupt\u001b[0m: "
          ]
        }
      ]
    },
    {
      "cell_type": "code",
      "metadata": {
        "id": "Tlj2hxuk-Ioq",
        "colab_type": "code",
        "colab": {
          "base_uri": "https://localhost:8080/",
          "height": 1000
        },
        "outputId": "72f3c2fb-0a17-41ab-b77d-f467de16035f"
      },
      "source": [
        "for i, j in enumerate(label):\n",
        "    print(\"Train \",j)\n",
        "    y_train = df[j].values\n",
        "    model.fit(x_train, y_train, epochs=10, batch_size = 512)"
      ],
      "execution_count": 25,
      "outputs": [
        {
          "output_type": "stream",
          "text": [
            "Train  toxic\n",
            "Epoch 1/10\n",
            "14046/14046 [==============================] - 3s 220us/step - loss: 0.7425 - acc: 0.6484\n",
            "Epoch 2/10\n",
            "14046/14046 [==============================] - 3s 220us/step - loss: 0.5844 - acc: 0.7083\n",
            "Epoch 3/10\n",
            "14046/14046 [==============================] - 3s 223us/step - loss: 0.5048 - acc: 0.7347\n",
            "Epoch 4/10\n",
            "14046/14046 [==============================] - 3s 218us/step - loss: 0.3792 - acc: 0.8392\n",
            "Epoch 5/10\n",
            "14046/14046 [==============================] - 3s 224us/step - loss: 0.3097 - acc: 0.8655\n",
            "Epoch 6/10\n",
            "14046/14046 [==============================] - 3s 216us/step - loss: 0.2740 - acc: 0.8850\n",
            "Epoch 7/10\n",
            "14046/14046 [==============================] - 3s 220us/step - loss: 0.2533 - acc: 0.8925\n",
            "Epoch 8/10\n",
            "14046/14046 [==============================] - 3s 219us/step - loss: 0.2384 - acc: 0.9003\n",
            "Epoch 9/10\n",
            "14046/14046 [==============================] - 3s 221us/step - loss: 0.2253 - acc: 0.9062\n",
            "Epoch 10/10\n",
            "14046/14046 [==============================] - 3s 218us/step - loss: 0.2143 - acc: 0.9119\n",
            "Train  obscene\n",
            "Epoch 1/10\n",
            "14046/14046 [==============================] - 3s 218us/step - loss: 0.2770 - acc: 0.8904\n",
            "Epoch 2/10\n",
            "14046/14046 [==============================] - 3s 218us/step - loss: 0.2095 - acc: 0.9179\n",
            "Epoch 3/10\n",
            "14046/14046 [==============================] - 3s 221us/step - loss: 0.1885 - acc: 0.9247\n",
            "Epoch 4/10\n",
            "14046/14046 [==============================] - 3s 221us/step - loss: 0.1742 - acc: 0.9303\n",
            "Epoch 5/10\n",
            "14046/14046 [==============================] - 3s 222us/step - loss: 0.1623 - acc: 0.9363\n",
            "Epoch 6/10\n",
            "14046/14046 [==============================] - 3s 220us/step - loss: 0.1526 - acc: 0.9413\n",
            "Epoch 7/10\n",
            "14046/14046 [==============================] - 3s 221us/step - loss: 0.1440 - acc: 0.9442\n",
            "Epoch 8/10\n",
            "14046/14046 [==============================] - 3s 219us/step - loss: 0.1354 - acc: 0.9479\n",
            "Epoch 9/10\n",
            "14046/14046 [==============================] - 3s 222us/step - loss: 0.1274 - acc: 0.9518\n",
            "Epoch 10/10\n",
            "14046/14046 [==============================] - 3s 221us/step - loss: 0.1201 - acc: 0.9549\n",
            "Train  insult\n",
            "Epoch 1/10\n",
            "14046/14046 [==============================] - 3s 219us/step - loss: 0.2899 - acc: 0.8956\n",
            "Epoch 2/10\n",
            "14046/14046 [==============================] - 3s 218us/step - loss: 0.2108 - acc: 0.9116\n",
            "Epoch 3/10\n",
            "14046/14046 [==============================] - 3s 216us/step - loss: 0.1952 - acc: 0.9178\n",
            "Epoch 4/10\n",
            "14046/14046 [==============================] - 3s 228us/step - loss: 0.1843 - acc: 0.9241\n",
            "Epoch 5/10\n",
            "14046/14046 [==============================] - 3s 234us/step - loss: 0.1728 - acc: 0.9294\n",
            "Epoch 6/10\n",
            "14046/14046 [==============================] - 3s 223us/step - loss: 0.1633 - acc: 0.9333\n",
            "Epoch 7/10\n",
            "14046/14046 [==============================] - 3s 220us/step - loss: 0.1527 - acc: 0.9386\n",
            "Epoch 8/10\n",
            "14046/14046 [==============================] - 3s 223us/step - loss: 0.1439 - acc: 0.9420\n",
            "Epoch 9/10\n",
            "14046/14046 [==============================] - 3s 220us/step - loss: 0.1337 - acc: 0.9464\n",
            "Epoch 10/10\n",
            "14046/14046 [==============================] - 3s 216us/step - loss: 0.1234 - acc: 0.9509\n",
            "Train  racism\n",
            "Epoch 1/10\n",
            "14046/14046 [==============================] - 3s 218us/step - loss: 0.6364 - acc: 0.8514\n",
            "Epoch 2/10\n",
            "14046/14046 [==============================] - 3s 220us/step - loss: 0.1208 - acc: 0.9574\n",
            "Epoch 3/10\n",
            "14046/14046 [==============================] - 3s 217us/step - loss: 0.0850 - acc: 0.9710\n",
            "Epoch 4/10\n",
            "14046/14046 [==============================] - 3s 223us/step - loss: 0.0660 - acc: 0.9789\n",
            "Epoch 5/10\n",
            "14046/14046 [==============================] - 3s 220us/step - loss: 0.0548 - acc: 0.9818\n",
            "Epoch 6/10\n",
            "14046/14046 [==============================] - 3s 220us/step - loss: 0.0463 - acc: 0.9846\n",
            "Epoch 7/10\n",
            "14046/14046 [==============================] - 3s 219us/step - loss: 0.0399 - acc: 0.9877\n",
            "Epoch 8/10\n",
            "14046/14046 [==============================] - 3s 221us/step - loss: 0.0347 - acc: 0.9892\n",
            "Epoch 9/10\n",
            "14046/14046 [==============================] - 3s 217us/step - loss: 0.0305 - acc: 0.9907\n",
            "Epoch 10/10\n",
            "14046/14046 [==============================] - 3s 221us/step - loss: 0.0273 - acc: 0.9921\n",
            "Train  sexism\n",
            "Epoch 1/10\n",
            "14046/14046 [==============================] - 3s 220us/step - loss: 0.8748 - acc: 0.7270\n",
            "Epoch 2/10\n",
            "14046/14046 [==============================] - 3s 222us/step - loss: 0.3075 - acc: 0.8395\n",
            "Epoch 3/10\n",
            "14046/14046 [==============================] - 3s 220us/step - loss: 0.2140 - acc: 0.9302\n",
            "Epoch 4/10\n",
            "14046/14046 [==============================] - 3s 219us/step - loss: 0.1476 - acc: 0.9555\n",
            "Epoch 5/10\n",
            "14046/14046 [==============================] - 3s 217us/step - loss: 0.1146 - acc: 0.9621\n",
            "Epoch 6/10\n",
            "14046/14046 [==============================] - 3s 218us/step - loss: 0.0966 - acc: 0.9663\n",
            "Epoch 7/10\n",
            "14046/14046 [==============================] - 3s 217us/step - loss: 0.0852 - acc: 0.9696\n",
            "Epoch 8/10\n",
            "14046/14046 [==============================] - 3s 218us/step - loss: 0.0766 - acc: 0.9715\n",
            "Epoch 9/10\n",
            "14046/14046 [==============================] - 3s 215us/step - loss: 0.0701 - acc: 0.9745\n",
            "Epoch 10/10\n",
            "14046/14046 [==============================] - 3s 217us/step - loss: 0.0644 - acc: 0.9769\n"
          ],
          "name": "stdout"
        }
      ]
    },
    {
      "cell_type": "code",
      "metadata": {
        "id": "par1JLGk_A3G",
        "colab_type": "code",
        "colab": {}
      },
      "source": [
        "# Time to test\n",
        "# Fingers crossed\n",
        "test = pd.read_csv('data_test_clean.csv')\n",
        "test.head()\n",
        "\n",
        "test = test.drop(['Unnamed: 0', 'id'], axis=1)\n",
        "test = test.rename(columns={\"clean_comment\": \"message\", \"\":\"racism\", \"\":\"sexism\"})"
      ],
      "execution_count": 0,
      "outputs": []
    },
    {
      "cell_type": "code",
      "metadata": {
        "id": "peFTscBkBZ5z",
        "colab_type": "code",
        "colab": {}
      },
      "source": [
        "xtest = get_list(test[message])\n",
        "\n",
        "xtest = tokenize_reshape(xtest)\n",
        "\n",
        "# tk = Tokenizer()\n",
        "# tk.fit_on_texts(test[message])\n",
        "# index_list = tk.texts_to_sequences(test[message])\n",
        "# xtest = pad_sequences(index_list, maxlen=maxlen)"
      ],
      "execution_count": 0,
      "outputs": []
    },
    {
      "cell_type": "code",
      "metadata": {
        "id": "ypR_Wbk4Bwgq",
        "colab_type": "code",
        "colab": {
          "base_uri": "https://localhost:8080/",
          "height": 817
        },
        "outputId": "73a7fa8a-00e8-4b62-8bd3-45905157a84b"
      },
      "source": [
        "result = np.zeros((len(xtest), len(label)))\n",
        "for i, j in enumerate(label):\n",
        "    print(\"Train \",j)\n",
        "    y_train = df[j].values\n",
        "    ytest = test[j].values\n",
        "    history = model.fit(x_train, y_train, epochs=10, batch_size = 512, verbose=0)\n",
        "    model.evaluate(xtest, ytest, batch_size=512)\n",
        "    model.predict(xtest, batch_size=512)"
      ],
      "execution_count": 51,
      "outputs": [
        {
          "output_type": "stream",
          "text": [
            "Train  toxic\n",
            "47872/47872 [==============================] - 3s 66us/step\n",
            "Train  obscene\n",
            "47872/47872 [==============================] - 3s 67us/step\n",
            "Train  insult\n",
            "47872/47872 [==============================] - 3s 67us/step\n",
            "Train  racism\n"
          ],
          "name": "stdout"
        },
        {
          "output_type": "error",
          "ename": "KeyError",
          "evalue": "ignored",
          "traceback": [
            "\u001b[0;31m---------------------------------------------------------------------------\u001b[0m",
            "\u001b[0;31mKeyError\u001b[0m                                  Traceback (most recent call last)",
            "\u001b[0;32m/usr/local/lib/python3.6/dist-packages/pandas/core/indexes/base.py\u001b[0m in \u001b[0;36mget_loc\u001b[0;34m(self, key, method, tolerance)\u001b[0m\n\u001b[1;32m   2896\u001b[0m             \u001b[0;32mtry\u001b[0m\u001b[0;34m:\u001b[0m\u001b[0;34m\u001b[0m\u001b[0;34m\u001b[0m\u001b[0m\n\u001b[0;32m-> 2897\u001b[0;31m                 \u001b[0;32mreturn\u001b[0m \u001b[0mself\u001b[0m\u001b[0;34m.\u001b[0m\u001b[0m_engine\u001b[0m\u001b[0;34m.\u001b[0m\u001b[0mget_loc\u001b[0m\u001b[0;34m(\u001b[0m\u001b[0mkey\u001b[0m\u001b[0;34m)\u001b[0m\u001b[0;34m\u001b[0m\u001b[0;34m\u001b[0m\u001b[0m\n\u001b[0m\u001b[1;32m   2898\u001b[0m             \u001b[0;32mexcept\u001b[0m \u001b[0mKeyError\u001b[0m\u001b[0;34m:\u001b[0m\u001b[0;34m\u001b[0m\u001b[0;34m\u001b[0m\u001b[0m\n",
            "\u001b[0;32mpandas/_libs/index.pyx\u001b[0m in \u001b[0;36mpandas._libs.index.IndexEngine.get_loc\u001b[0;34m()\u001b[0m\n",
            "\u001b[0;32mpandas/_libs/index.pyx\u001b[0m in \u001b[0;36mpandas._libs.index.IndexEngine.get_loc\u001b[0;34m()\u001b[0m\n",
            "\u001b[0;32mpandas/_libs/hashtable_class_helper.pxi\u001b[0m in \u001b[0;36mpandas._libs.hashtable.PyObjectHashTable.get_item\u001b[0;34m()\u001b[0m\n",
            "\u001b[0;32mpandas/_libs/hashtable_class_helper.pxi\u001b[0m in \u001b[0;36mpandas._libs.hashtable.PyObjectHashTable.get_item\u001b[0;34m()\u001b[0m\n",
            "\u001b[0;31mKeyError\u001b[0m: 'racism'",
            "\nDuring handling of the above exception, another exception occurred:\n",
            "\u001b[0;31mKeyError\u001b[0m                                  Traceback (most recent call last)",
            "\u001b[0;32m<ipython-input-51-20ad8784cecb>\u001b[0m in \u001b[0;36m<module>\u001b[0;34m()\u001b[0m\n\u001b[1;32m      3\u001b[0m     \u001b[0mprint\u001b[0m\u001b[0;34m(\u001b[0m\u001b[0;34m\"Train \"\u001b[0m\u001b[0;34m,\u001b[0m\u001b[0mj\u001b[0m\u001b[0;34m)\u001b[0m\u001b[0;34m\u001b[0m\u001b[0;34m\u001b[0m\u001b[0m\n\u001b[1;32m      4\u001b[0m     \u001b[0my_train\u001b[0m \u001b[0;34m=\u001b[0m \u001b[0mdf\u001b[0m\u001b[0;34m[\u001b[0m\u001b[0mj\u001b[0m\u001b[0;34m]\u001b[0m\u001b[0;34m.\u001b[0m\u001b[0mvalues\u001b[0m\u001b[0;34m\u001b[0m\u001b[0;34m\u001b[0m\u001b[0m\n\u001b[0;32m----> 5\u001b[0;31m     \u001b[0mytest\u001b[0m \u001b[0;34m=\u001b[0m \u001b[0mtest\u001b[0m\u001b[0;34m[\u001b[0m\u001b[0mj\u001b[0m\u001b[0;34m]\u001b[0m\u001b[0;34m.\u001b[0m\u001b[0mvalues\u001b[0m\u001b[0;34m\u001b[0m\u001b[0;34m\u001b[0m\u001b[0m\n\u001b[0m\u001b[1;32m      6\u001b[0m     \u001b[0mmodel\u001b[0m\u001b[0;34m.\u001b[0m\u001b[0mfit\u001b[0m\u001b[0;34m(\u001b[0m\u001b[0mx_train\u001b[0m\u001b[0;34m,\u001b[0m \u001b[0my_train\u001b[0m\u001b[0;34m,\u001b[0m \u001b[0mepochs\u001b[0m\u001b[0;34m=\u001b[0m\u001b[0;36m10\u001b[0m\u001b[0;34m,\u001b[0m \u001b[0mbatch_size\u001b[0m \u001b[0;34m=\u001b[0m \u001b[0;36m512\u001b[0m\u001b[0;34m,\u001b[0m \u001b[0mverbose\u001b[0m\u001b[0;34m=\u001b[0m\u001b[0;36m0\u001b[0m\u001b[0;34m)\u001b[0m\u001b[0;34m\u001b[0m\u001b[0;34m\u001b[0m\u001b[0m\n\u001b[1;32m      7\u001b[0m     \u001b[0mmodel\u001b[0m\u001b[0;34m.\u001b[0m\u001b[0mevaluate\u001b[0m\u001b[0;34m(\u001b[0m\u001b[0mxtest\u001b[0m\u001b[0;34m,\u001b[0m \u001b[0mytest\u001b[0m\u001b[0;34m,\u001b[0m \u001b[0mbatch_size\u001b[0m\u001b[0;34m=\u001b[0m\u001b[0;36m512\u001b[0m\u001b[0;34m)\u001b[0m\u001b[0;34m\u001b[0m\u001b[0;34m\u001b[0m\u001b[0m\n",
            "\u001b[0;32m/usr/local/lib/python3.6/dist-packages/pandas/core/frame.py\u001b[0m in \u001b[0;36m__getitem__\u001b[0;34m(self, key)\u001b[0m\n\u001b[1;32m   2993\u001b[0m             \u001b[0;32mif\u001b[0m \u001b[0mself\u001b[0m\u001b[0;34m.\u001b[0m\u001b[0mcolumns\u001b[0m\u001b[0;34m.\u001b[0m\u001b[0mnlevels\u001b[0m \u001b[0;34m>\u001b[0m \u001b[0;36m1\u001b[0m\u001b[0;34m:\u001b[0m\u001b[0;34m\u001b[0m\u001b[0;34m\u001b[0m\u001b[0m\n\u001b[1;32m   2994\u001b[0m                 \u001b[0;32mreturn\u001b[0m \u001b[0mself\u001b[0m\u001b[0;34m.\u001b[0m\u001b[0m_getitem_multilevel\u001b[0m\u001b[0;34m(\u001b[0m\u001b[0mkey\u001b[0m\u001b[0;34m)\u001b[0m\u001b[0;34m\u001b[0m\u001b[0;34m\u001b[0m\u001b[0m\n\u001b[0;32m-> 2995\u001b[0;31m             \u001b[0mindexer\u001b[0m \u001b[0;34m=\u001b[0m \u001b[0mself\u001b[0m\u001b[0;34m.\u001b[0m\u001b[0mcolumns\u001b[0m\u001b[0;34m.\u001b[0m\u001b[0mget_loc\u001b[0m\u001b[0;34m(\u001b[0m\u001b[0mkey\u001b[0m\u001b[0;34m)\u001b[0m\u001b[0;34m\u001b[0m\u001b[0;34m\u001b[0m\u001b[0m\n\u001b[0m\u001b[1;32m   2996\u001b[0m             \u001b[0;32mif\u001b[0m \u001b[0mis_integer\u001b[0m\u001b[0;34m(\u001b[0m\u001b[0mindexer\u001b[0m\u001b[0;34m)\u001b[0m\u001b[0;34m:\u001b[0m\u001b[0;34m\u001b[0m\u001b[0;34m\u001b[0m\u001b[0m\n\u001b[1;32m   2997\u001b[0m                 \u001b[0mindexer\u001b[0m \u001b[0;34m=\u001b[0m \u001b[0;34m[\u001b[0m\u001b[0mindexer\u001b[0m\u001b[0;34m]\u001b[0m\u001b[0;34m\u001b[0m\u001b[0;34m\u001b[0m\u001b[0m\n",
            "\u001b[0;32m/usr/local/lib/python3.6/dist-packages/pandas/core/indexes/base.py\u001b[0m in \u001b[0;36mget_loc\u001b[0;34m(self, key, method, tolerance)\u001b[0m\n\u001b[1;32m   2897\u001b[0m                 \u001b[0;32mreturn\u001b[0m \u001b[0mself\u001b[0m\u001b[0;34m.\u001b[0m\u001b[0m_engine\u001b[0m\u001b[0;34m.\u001b[0m\u001b[0mget_loc\u001b[0m\u001b[0;34m(\u001b[0m\u001b[0mkey\u001b[0m\u001b[0;34m)\u001b[0m\u001b[0;34m\u001b[0m\u001b[0;34m\u001b[0m\u001b[0m\n\u001b[1;32m   2898\u001b[0m             \u001b[0;32mexcept\u001b[0m \u001b[0mKeyError\u001b[0m\u001b[0;34m:\u001b[0m\u001b[0;34m\u001b[0m\u001b[0;34m\u001b[0m\u001b[0m\n\u001b[0;32m-> 2899\u001b[0;31m                 \u001b[0;32mreturn\u001b[0m \u001b[0mself\u001b[0m\u001b[0;34m.\u001b[0m\u001b[0m_engine\u001b[0m\u001b[0;34m.\u001b[0m\u001b[0mget_loc\u001b[0m\u001b[0;34m(\u001b[0m\u001b[0mself\u001b[0m\u001b[0;34m.\u001b[0m\u001b[0m_maybe_cast_indexer\u001b[0m\u001b[0;34m(\u001b[0m\u001b[0mkey\u001b[0m\u001b[0;34m)\u001b[0m\u001b[0;34m)\u001b[0m\u001b[0;34m\u001b[0m\u001b[0;34m\u001b[0m\u001b[0m\n\u001b[0m\u001b[1;32m   2900\u001b[0m         \u001b[0mindexer\u001b[0m \u001b[0;34m=\u001b[0m \u001b[0mself\u001b[0m\u001b[0;34m.\u001b[0m\u001b[0mget_indexer\u001b[0m\u001b[0;34m(\u001b[0m\u001b[0;34m[\u001b[0m\u001b[0mkey\u001b[0m\u001b[0;34m]\u001b[0m\u001b[0;34m,\u001b[0m \u001b[0mmethod\u001b[0m\u001b[0;34m=\u001b[0m\u001b[0mmethod\u001b[0m\u001b[0;34m,\u001b[0m \u001b[0mtolerance\u001b[0m\u001b[0;34m=\u001b[0m\u001b[0mtolerance\u001b[0m\u001b[0;34m)\u001b[0m\u001b[0;34m\u001b[0m\u001b[0;34m\u001b[0m\u001b[0m\n\u001b[1;32m   2901\u001b[0m         \u001b[0;32mif\u001b[0m \u001b[0mindexer\u001b[0m\u001b[0;34m.\u001b[0m\u001b[0mndim\u001b[0m \u001b[0;34m>\u001b[0m \u001b[0;36m1\u001b[0m \u001b[0;32mor\u001b[0m \u001b[0mindexer\u001b[0m\u001b[0;34m.\u001b[0m\u001b[0msize\u001b[0m \u001b[0;34m>\u001b[0m \u001b[0;36m1\u001b[0m\u001b[0;34m:\u001b[0m\u001b[0;34m\u001b[0m\u001b[0;34m\u001b[0m\u001b[0m\n",
            "\u001b[0;32mpandas/_libs/index.pyx\u001b[0m in \u001b[0;36mpandas._libs.index.IndexEngine.get_loc\u001b[0;34m()\u001b[0m\n",
            "\u001b[0;32mpandas/_libs/index.pyx\u001b[0m in \u001b[0;36mpandas._libs.index.IndexEngine.get_loc\u001b[0;34m()\u001b[0m\n",
            "\u001b[0;32mpandas/_libs/hashtable_class_helper.pxi\u001b[0m in \u001b[0;36mpandas._libs.hashtable.PyObjectHashTable.get_item\u001b[0;34m()\u001b[0m\n",
            "\u001b[0;32mpandas/_libs/hashtable_class_helper.pxi\u001b[0m in \u001b[0;36mpandas._libs.hashtable.PyObjectHashTable.get_item\u001b[0;34m()\u001b[0m\n",
            "\u001b[0;31mKeyError\u001b[0m: 'racism'"
          ]
        }
      ]
    },
    {
      "cell_type": "code",
      "metadata": {
        "id": "pbhbGZB2DSlO",
        "colab_type": "code",
        "colab": {}
      },
      "source": [
        "# result = pd.DataFrame(result, columns=label)    \n",
        "# submission = pd.concat([ result], axis=1)\n",
        "# submission.to_csv(r'final.csv', index=False)"
      ],
      "execution_count": 0,
      "outputs": []
    },
    {
      "cell_type": "code",
      "metadata": {
        "id": "sgfMVwMmIssL",
        "colab_type": "code",
        "colab": {}
      },
      "source": [
        ""
      ],
      "execution_count": 0,
      "outputs": []
    }
  ]
}
