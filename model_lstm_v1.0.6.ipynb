{
  "nbformat": 4,
  "nbformat_minor": 0,
  "metadata": {
    "kernelspec": {
      "name": "python3",
      "display_name": "Python 3"
    },
    "language_info": {
      "codemirror_mode": {
        "name": "ipython",
        "version": 3
      },
      "file_extension": ".py",
      "mimetype": "text/x-python",
      "name": "python",
      "nbconvert_exporter": "python",
      "pygments_lexer": "ipython3",
      "version": "3.7.0"
    },
    "colab": {
      "name": "model_lstm_v1.0.4.ipynb",
      "provenance": [],
      "toc_visible": true
    },
    "accelerator": "GPU"
  },
  "cells": [
    {
      "cell_type": "markdown",
      "metadata": {
        "id": "bAY0e6kiRq7A",
        "colab_type": "text"
      },
      "source": [
        "### Importing the requried libraries"
      ]
    },
    {
      "cell_type": "code",
      "metadata": {
        "id": "AZXvezxHRq7C",
        "colab_type": "code",
        "colab": {}
      },
      "source": [
        "import tensorflow as tf\n",
        "import pandas as pd\n",
        "import numpy as np\n",
        "import csv\n",
        "import tensorflow.keras\n",
        "from tensorflow.keras.preprocessing.text import Tokenizer\n",
        "from tensorflow.keras.preprocessing.sequence import pad_sequences\n",
        "from keras.models import Model\n",
        "from keras.models import Sequential\n",
        "from keras.layers import Input\n",
        "from keras.layers import LSTM\n",
        "from keras.layers import Dense\n",
        "from keras.utils import plot_model\n",
        "from sklearn.model_selection import train_test_split\n",
        "from numpy import array\n",
        "from numpy import asarray\n",
        "from numpy import zeros\n",
        "from keras.layers.embeddings import Embedding\n",
        "from keras.layers import Dropout\n"
      ],
      "execution_count": 0,
      "outputs": []
    },
    {
      "cell_type": "markdown",
      "metadata": {
        "id": "h0MqYZFARq7G",
        "colab_type": "text"
      },
      "source": [
        "### Mounting the Google Drive"
      ]
    },
    {
      "cell_type": "code",
      "metadata": {
        "id": "EPsOLnCKRq7G",
        "colab_type": "code",
        "outputId": "b8a50ba9-44a2-4f24-a0e2-0b3765c8a10a",
        "colab": {
          "base_uri": "https://localhost:8080/",
          "height": 34
        }
      },
      "source": [
        "from google.colab import drive\n",
        "drive.mount('/content/drive')"
      ],
      "execution_count": 6,
      "outputs": [
        {
          "output_type": "stream",
          "text": [
            "Drive already mounted at /content/drive; to attempt to forcibly remount, call drive.mount(\"/content/drive\", force_remount=True).\n"
          ],
          "name": "stdout"
        }
      ]
    },
    {
      "cell_type": "markdown",
      "metadata": {
        "id": "wqtyfivnRq7J",
        "colab_type": "text"
      },
      "source": [
        "### Reading the data from csv file"
      ]
    },
    {
      "cell_type": "code",
      "metadata": {
        "id": "VpGZze3mRq7J",
        "colab_type": "code",
        "colab": {}
      },
      "source": [
        "df = pd.read_csv('/content/drive/My Drive/finalcleandataTraining.csv')\n",
        "#print(df.head())\n",
        "xdata = df['message']\n",
        "y_label = df[[\"toxic\", \"obscene\", \"insult\", \"racism\", \"sexism\"]]\n",
        "ydata = y_label.values"
      ],
      "execution_count": 0,
      "outputs": []
    },
    {
      "cell_type": "markdown",
      "metadata": {
        "id": "jq5HRSmQRq7M",
        "colab_type": "text"
      },
      "source": [
        "### Splitting the data into Training & Testing"
      ]
    },
    {
      "cell_type": "code",
      "metadata": {
        "id": "lRWTmBWjRq7M",
        "colab_type": "code",
        "colab": {}
      },
      "source": [
        "xtrain,xtest,y_train,ytest = train_test_split(xdata,ydata,test_size=0.2) "
      ],
      "execution_count": 0,
      "outputs": []
    },
    {
      "cell_type": "markdown",
      "metadata": {
        "id": "OxNBmboQRq7O",
        "colab_type": "text"
      },
      "source": [
        "### Creating the embedding dictionary"
      ]
    },
    {
      "cell_type": "code",
      "metadata": {
        "id": "ixMiYEtlRq7P",
        "colab_type": "code",
        "colab": {}
      },
      "source": [
        "maxlen = 64\n",
        "tokenizer = Tokenizer(num_words=10000)\n",
        "tokenizer.fit_on_texts(xtrain)\n",
        "vocab_size = len(tokenizer.word_index) + 1\n",
        "\n",
        "embeddings_dictionary = dict()\n",
        "glove_file = open('/content/drive/My Drive/Prj/glove.twitter.27B.200d.txt', encoding=\"utf8\")\n",
        "for line in glove_file:\n",
        "    records = line.split()\n",
        "    word = records[0]\n",
        "    vector_dimensions = asarray(records[1:])\n",
        "    embeddings_dictionary[word] = vector_dimensions\n",
        "glove_file.close()"
      ],
      "execution_count": 0,
      "outputs": []
    },
    {
      "cell_type": "markdown",
      "metadata": {
        "id": "PoTpHVTnRq7R",
        "colab_type": "text"
      },
      "source": [
        "### Creating the embedding matrix from embedding dictionary"
      ]
    },
    {
      "cell_type": "code",
      "metadata": {
        "id": "ozrQAxvORq7S",
        "colab_type": "code",
        "colab": {}
      },
      "source": [
        "embedding_matrix = zeros((vocab_size, 200))\n",
        "for word, index in tokenizer.word_index.items():\n",
        "    embedding_vector = embeddings_dictionary.get(word)\n",
        "    if embedding_vector is not None:\n",
        "        embedding_matrix[index] = embedding_vector"
      ],
      "execution_count": 0,
      "outputs": []
    },
    {
      "cell_type": "markdown",
      "metadata": {
        "id": "y4yQjPQmRq7V",
        "colab_type": "text"
      },
      "source": [
        "### Creating the model"
      ]
    },
    {
      "cell_type": "code",
      "metadata": {
        "id": "EChTozUwRq7V",
        "colab_type": "code",
        "outputId": "53ef0aaa-e1b8-4668-ab5d-67c290a36c66",
        "colab": {
          "base_uri": "https://localhost:8080/",
          "height": 570
        }
      },
      "source": [
        "deep_inputs = Input(shape=(maxlen,))\n",
        "embedding_layer = Embedding(vocab_size, 200, weights=[embedding_matrix], trainable=False)(deep_inputs)\n",
        "LSTM_Layer_1 = LSTM(32, return_sequences=True)(embedding_layer)\n",
        "LSTM_Layer_2 = LSTM(32, return_sequences=True)(LSTM_Layer_1)\n",
        "Dropout_Layer = Dropout(0.5)(LSTM_Layer_2)\n",
        "LSTM_Layer_3 = LSTM(32)(Dropout_Layer)\n",
        "dense_layer_1 = Dense(5, activation='sigmoid')(LSTM_Layer_3)\n",
        "model = Model(inputs=deep_inputs, outputs=dense_layer_1)\n",
        "model.compile(loss='binary_crossentropy', optimizer='adam', metrics=['acc'])"
      ],
      "execution_count": 11,
      "outputs": [
        {
          "output_type": "stream",
          "text": [
            "WARNING:tensorflow:From /usr/local/lib/python3.6/dist-packages/keras/backend/tensorflow_backend.py:66: The name tf.get_default_graph is deprecated. Please use tf.compat.v1.get_default_graph instead.\n",
            "\n",
            "WARNING:tensorflow:From /usr/local/lib/python3.6/dist-packages/keras/backend/tensorflow_backend.py:541: The name tf.placeholder is deprecated. Please use tf.compat.v1.placeholder instead.\n",
            "\n",
            "WARNING:tensorflow:From /usr/local/lib/python3.6/dist-packages/keras/backend/tensorflow_backend.py:4432: The name tf.random_uniform is deprecated. Please use tf.random.uniform instead.\n",
            "\n",
            "WARNING:tensorflow:From /usr/local/lib/python3.6/dist-packages/keras/backend/tensorflow_backend.py:190: The name tf.get_default_session is deprecated. Please use tf.compat.v1.get_default_session instead.\n",
            "\n",
            "WARNING:tensorflow:From /usr/local/lib/python3.6/dist-packages/keras/backend/tensorflow_backend.py:197: The name tf.ConfigProto is deprecated. Please use tf.compat.v1.ConfigProto instead.\n",
            "\n",
            "WARNING:tensorflow:From /usr/local/lib/python3.6/dist-packages/keras/backend/tensorflow_backend.py:203: The name tf.Session is deprecated. Please use tf.compat.v1.Session instead.\n",
            "\n",
            "WARNING:tensorflow:From /usr/local/lib/python3.6/dist-packages/keras/backend/tensorflow_backend.py:207: The name tf.global_variables is deprecated. Please use tf.compat.v1.global_variables instead.\n",
            "\n",
            "WARNING:tensorflow:From /usr/local/lib/python3.6/dist-packages/keras/backend/tensorflow_backend.py:216: The name tf.is_variable_initialized is deprecated. Please use tf.compat.v1.is_variable_initialized instead.\n",
            "\n",
            "WARNING:tensorflow:From /usr/local/lib/python3.6/dist-packages/keras/backend/tensorflow_backend.py:223: The name tf.variables_initializer is deprecated. Please use tf.compat.v1.variables_initializer instead.\n",
            "\n",
            "WARNING:tensorflow:From /usr/local/lib/python3.6/dist-packages/keras/backend/tensorflow_backend.py:148: The name tf.placeholder_with_default is deprecated. Please use tf.compat.v1.placeholder_with_default instead.\n",
            "\n",
            "WARNING:tensorflow:From /usr/local/lib/python3.6/dist-packages/keras/backend/tensorflow_backend.py:3733: calling dropout (from tensorflow.python.ops.nn_ops) with keep_prob is deprecated and will be removed in a future version.\n",
            "Instructions for updating:\n",
            "Please use `rate` instead of `keep_prob`. Rate should be set to `rate = 1 - keep_prob`.\n",
            "WARNING:tensorflow:From /usr/local/lib/python3.6/dist-packages/keras/optimizers.py:793: The name tf.train.Optimizer is deprecated. Please use tf.compat.v1.train.Optimizer instead.\n",
            "\n",
            "WARNING:tensorflow:From /usr/local/lib/python3.6/dist-packages/keras/backend/tensorflow_backend.py:3657: The name tf.log is deprecated. Please use tf.math.log instead.\n",
            "\n",
            "WARNING:tensorflow:From /usr/local/lib/python3.6/dist-packages/tensorflow_core/python/ops/nn_impl.py:183: where (from tensorflow.python.ops.array_ops) is deprecated and will be removed in a future version.\n",
            "Instructions for updating:\n",
            "Use tf.where in 2.0, which has the same broadcast rule as np.where\n"
          ],
          "name": "stdout"
        }
      ]
    },
    {
      "cell_type": "code",
      "metadata": {
        "id": "FXwONio1URjg",
        "colab_type": "code",
        "outputId": "303b95ad-566e-4648-ff16-04b46fabf0af",
        "colab": {
          "base_uri": "https://localhost:8080/",
          "height": 1000
        }
      },
      "source": [
        "model.summary()\n",
        "plot_model(model, to_file='model.png')"
      ],
      "execution_count": 12,
      "outputs": [
        {
          "output_type": "stream",
          "text": [
            "Model: \"model_1\"\n",
            "_________________________________________________________________\n",
            "Layer (type)                 Output Shape              Param #   \n",
            "=================================================================\n",
            "input_1 (InputLayer)         (None, 64)                0         \n",
            "_________________________________________________________________\n",
            "embedding_1 (Embedding)      (None, 64, 200)           7391000   \n",
            "_________________________________________________________________\n",
            "lstm_1 (LSTM)                (None, 64, 32)            29824     \n",
            "_________________________________________________________________\n",
            "lstm_2 (LSTM)                (None, 64, 32)            8320      \n",
            "_________________________________________________________________\n",
            "dropout_1 (Dropout)          (None, 64, 32)            0         \n",
            "_________________________________________________________________\n",
            "lstm_3 (LSTM)                (None, 32)                8320      \n",
            "_________________________________________________________________\n",
            "dense_1 (Dense)              (None, 5)                 165       \n",
            "=================================================================\n",
            "Total params: 7,437,629\n",
            "Trainable params: 46,629\n",
            "Non-trainable params: 7,391,000\n",
            "_________________________________________________________________\n"
          ],
          "name": "stdout"
        },
        {
          "output_type": "execute_result",
          "data": {
            "image/png": "[encoded data removed]",
            "text/plain": [
              "<IPython.core.display.Image object>"
            ]
          },
          "metadata": {
            "tags": []
          },
          "execution_count": 12
        }
      ]
    },
    {
      "cell_type": "markdown",
      "metadata": {
        "id": "dV2qJspCRq7X",
        "colab_type": "text"
      },
      "source": [
        "### Training the model"
      ]
    },
    {
      "cell_type": "code",
      "metadata": {
        "id": "RQAIBSTbRq7Y",
        "colab_type": "code",
        "outputId": "a1a4c748-40bd-47f8-9ca7-5e093705526d",
        "colab": {
          "base_uri": "https://localhost:8080/",
          "height": 816
        }
      },
      "source": [
        "X_train = tokenizer.texts_to_sequences(xtrain)\n",
        "X_train = pad_sequences(X_train, padding='post', maxlen=maxlen)\n",
        "history = model.fit(X_train, y_train, batch_size=256, epochs=20, validation_split=0.2)"
      ],
      "execution_count": 13,
      "outputs": [
        {
          "output_type": "stream",
          "text": [
            "WARNING:tensorflow:From /usr/local/lib/python3.6/dist-packages/keras/backend/tensorflow_backend.py:1033: The name tf.assign_add is deprecated. Please use tf.compat.v1.assign_add instead.\n",
            "\n",
            "WARNING:tensorflow:From /usr/local/lib/python3.6/dist-packages/keras/backend/tensorflow_backend.py:1020: The name tf.assign is deprecated. Please use tf.compat.v1.assign instead.\n",
            "\n",
            "Train on 8988 samples, validate on 2248 samples\n",
            "Epoch 1/20\n",
            "8988/8988 [==============================] - 15s 2ms/step - loss: 0.5662 - acc: 0.7979 - val_loss: 0.4692 - val_acc: 0.8136\n",
            "Epoch 2/20\n",
            "8988/8988 [==============================] - 11s 1ms/step - loss: 0.4652 - acc: 0.8128 - val_loss: 0.4530 - val_acc: 0.8136\n",
            "Epoch 3/20\n",
            "8988/8988 [==============================] - 11s 1ms/step - loss: 0.4485 - acc: 0.8128 - val_loss: 0.4352 - val_acc: 0.8136\n",
            "Epoch 4/20\n",
            "8988/8988 [==============================] - 11s 1ms/step - loss: 0.4259 - acc: 0.8129 - val_loss: 0.3873 - val_acc: 0.8136\n",
            "Epoch 5/20\n",
            "8988/8988 [==============================] - 11s 1ms/step - loss: 0.3686 - acc: 0.8298 - val_loss: 0.3969 - val_acc: 0.8419\n",
            "Epoch 6/20\n",
            "8988/8988 [==============================] - 11s 1ms/step - loss: 0.3475 - acc: 0.8449 - val_loss: 0.3338 - val_acc: 0.8513\n",
            "Epoch 7/20\n",
            "8988/8988 [==============================] - 11s 1ms/step - loss: 0.3446 - acc: 0.8464 - val_loss: 0.3287 - val_acc: 0.8550\n",
            "Epoch 8/20\n",
            "8988/8988 [==============================] - 11s 1ms/step - loss: 0.3160 - acc: 0.8647 - val_loss: 0.3062 - val_acc: 0.8684\n",
            "Epoch 9/20\n",
            "8988/8988 [==============================] - 11s 1ms/step - loss: 0.2961 - acc: 0.8724 - val_loss: 0.2902 - val_acc: 0.8794\n",
            "Epoch 10/20\n",
            "8988/8988 [==============================] - 11s 1ms/step - loss: 0.2803 - acc: 0.8869 - val_loss: 0.2722 - val_acc: 0.8915\n",
            "Epoch 11/20\n",
            "8988/8988 [==============================] - 11s 1ms/step - loss: 0.2597 - acc: 0.8974 - val_loss: 0.2604 - val_acc: 0.8948\n",
            "Epoch 12/20\n",
            "8988/8988 [==============================] - 11s 1ms/step - loss: 0.2545 - acc: 0.9028 - val_loss: 0.2516 - val_acc: 0.8990\n",
            "Epoch 13/20\n",
            "8988/8988 [==============================] - 11s 1ms/step - loss: 0.2321 - acc: 0.9106 - val_loss: 0.2315 - val_acc: 0.9081\n",
            "Epoch 14/20\n",
            "8988/8988 [==============================] - 11s 1ms/step - loss: 0.2181 - acc: 0.9160 - val_loss: 0.2222 - val_acc: 0.9117\n",
            "Epoch 15/20\n",
            "8988/8988 [==============================] - 11s 1ms/step - loss: 0.2121 - acc: 0.9181 - val_loss: 0.2177 - val_acc: 0.9119\n",
            "Epoch 16/20\n",
            "8988/8988 [==============================] - 11s 1ms/step - loss: 0.2060 - acc: 0.9200 - val_loss: 0.2175 - val_acc: 0.9137\n",
            "Epoch 17/20\n",
            "8988/8988 [==============================] - 11s 1ms/step - loss: 0.2013 - acc: 0.9219 - val_loss: 0.2243 - val_acc: 0.9075\n",
            "Epoch 18/20\n",
            "8988/8988 [==============================] - 11s 1ms/step - loss: 0.1992 - acc: 0.9210 - val_loss: 0.2170 - val_acc: 0.9146\n",
            "Epoch 19/20\n",
            "8988/8988 [==============================] - 11s 1ms/step - loss: 0.1891 - acc: 0.9254 - val_loss: 0.2115 - val_acc: 0.9156\n",
            "Epoch 20/20\n",
            "8988/8988 [==============================] - 11s 1ms/step - loss: 0.1874 - acc: 0.9259 - val_loss: 0.2115 - val_acc: 0.9161\n"
          ],
          "name": "stdout"
        }
      ]
    },
    {
      "cell_type": "markdown",
      "metadata": {
        "id": "hrgBJ5KAW0nb",
        "colab_type": "text"
      },
      "source": [
        "Saving the Model"
      ]
    },
    {
      "cell_type": "code",
      "metadata": {
        "id": "rXcaOHPxW0PI",
        "colab_type": "code",
        "colab": {}
      },
      "source": [
        "model.save('Model3.h5')"
      ],
      "execution_count": 0,
      "outputs": []
    },
    {
      "cell_type": "markdown",
      "metadata": {
        "id": "EC_bJQA4Rq7a",
        "colab_type": "text"
      },
      "source": [
        "### Testing and evaluating the model"
      ]
    },
    {
      "cell_type": "code",
      "metadata": {
        "id": "TSjUMhMwRq7b",
        "colab_type": "code",
        "outputId": "aa40bb30-ba88-432b-c187-e236e19d5c78",
        "colab": {
          "base_uri": "https://localhost:8080/",
          "height": 194
        }
      },
      "source": [
        "X_test = tokenizer.texts_to_sequences(xtest)\n",
        "X_test = pad_sequences(X_test, padding='post', maxlen=maxlen)\n",
        "print(X_test)\n",
        "print(model.metrics_names)\n",
        "model.evaluate(X_test,ytest, batch_size=128)"
      ],
      "execution_count": 15,
      "outputs": [
        {
          "output_type": "stream",
          "text": [
            "[[  97   15 2802 ...    0    0    0]\n",
            " [  63    8  304 ...    0    0    0]\n",
            " [ 110  175  155 ...    0    0    0]\n",
            " ...\n",
            " [ 664   95    9 ...    0    0    0]\n",
            " [ 312 7857 2954 ...    0    0    0]\n",
            " [  79   19    9 ...    0    0    0]]\n",
            "['loss', 'acc']\n",
            "2810/2810 [==============================] - 2s 853us/step\n"
          ],
          "name": "stdout"
        },
        {
          "output_type": "execute_result",
          "data": {
            "text/plain": [
              "[0.20809779976398496, 0.9188612055948197]"
            ]
          },
          "metadata": {
            "tags": []
          },
          "execution_count": 15
        }
      ]
    },
    {
      "cell_type": "code",
      "metadata": {
        "id": "PRM6WcsfjYEK",
        "colab_type": "code",
        "colab": {
          "base_uri": "https://localhost:8080/",
          "height": 674
        },
        "outputId": "b7badc74-d5d8-4f32-da74-37b5dff7364b"
      },
      "source": [
        "testdata = pd.read_csv('/content/Testing6.csv')\n",
        "print(testdata['message'])\n",
        "testdata = tokenizer.texts_to_sequences(testdata['message'])\n",
        "testdata = pad_sequences(testdata, padding='post', maxlen=maxlen)\n",
        "print(testdata)\n",
        "model.predict(testdata)"
      ],
      "execution_count": 17,
      "outputs": [
        {
          "output_type": "stream",
          "text": [
            "0      Hello Good Morning\n",
            "1              i hate you\n",
            "2              i love you\n",
            "3    I will eat you bitch\n",
            "4         Muslims are gay\n",
            "Name: message, dtype: object\n",
            "[[ 548  114 2387    0    0    0    0    0    0    0    0    0    0    0\n",
            "     0    0    0    0    0    0    0    0    0    0    0    0    0    0\n",
            "     0    0    0    0    0    0    0    0    0    0    0    0    0    0\n",
            "     0    0    0    0    0    0    0    0    0    0    0    0    0    0\n",
            "     0    0    0    0    0    0    0    0]\n",
            " [   6  284    2    0    0    0    0    0    0    0    0    0    0    0\n",
            "     0    0    0    0    0    0    0    0    0    0    0    0    0    0\n",
            "     0    0    0    0    0    0    0    0    0    0    0    0    0    0\n",
            "     0    0    0    0    0    0    0    0    0    0    0    0    0    0\n",
            "     0    0    0    0    0    0    0    0]\n",
            " [   6  435    2    0    0    0    0    0    0    0    0    0    0    0\n",
            "     0    0    0    0    0    0    0    0    0    0    0    0    0    0\n",
            "     0    0    0    0    0    0    0    0    0    0    0    0    0    0\n",
            "     0    0    0    0    0    0    0    0    0    0    0    0    0    0\n",
            "     0    0    0    0    0    0    0    0]\n",
            " [   6   34  339    2  177    0    0    0    0    0    0    0    0    0\n",
            "     0    0    0    0    0    0    0    0    0    0    0    0    0    0\n",
            "     0    0    0    0    0    0    0    0    0    0    0    0    0    0\n",
            "     0    0    0    0    0    0    0    0    0    0    0    0    0    0\n",
            "     0    0    0    0    0    0    0    0]\n",
            " [ 225   13  483    0    0    0    0    0    0    0    0    0    0    0\n",
            "     0    0    0    0    0    0    0    0    0    0    0    0    0    0\n",
            "     0    0    0    0    0    0    0    0    0    0    0    0    0    0\n",
            "     0    0    0    0    0    0    0    0    0    0    0    0    0    0\n",
            "     0    0    0    0    0    0    0    0]]\n"
          ],
          "name": "stdout"
        },
        {
          "output_type": "execute_result",
          "data": {
            "text/plain": [
              "array([[0.0704461 , 0.01042864, 0.00777665, 0.04885197, 0.13487756],\n",
              "       [0.87609506, 0.624993  , 0.5030818 , 0.01678118, 0.01514062],\n",
              "       [0.6648596 , 0.29387894, 0.3334275 , 0.03355342, 0.05476388],\n",
              "       [0.8979062 , 0.6807133 , 0.53786105, 0.01619595, 0.01250312],\n",
              "       [0.01251346, 0.00679821, 0.00322828, 0.55548716, 0.09825001]],\n",
              "      dtype=float32)"
            ]
          },
          "metadata": {
            "tags": []
          },
          "execution_count": 17
        }
      ]
    },
    {
      "cell_type": "code",
      "metadata": {
        "id": "qeyqbSg51WAd",
        "colab_type": "code",
        "colab": {}
      },
      "source": [
        "y_pred = model.predict(X_test)"
      ],
      "execution_count": 0,
      "outputs": []
    },
    {
      "cell_type": "markdown",
      "metadata": {
        "id": "1uEiUKGb-KnO",
        "colab_type": "text"
      },
      "source": [
        "### Results"
      ]
    },
    {
      "cell_type": "code",
      "metadata": {
        "id": "IzneUZ4u5a9Q",
        "colab_type": "code",
        "colab": {
          "base_uri": "https://localhost:8080/",
          "height": 34
        },
        "outputId": "43c2214a-6782-46f1-b36c-6af755e35f6c"
      },
      "source": [
        "from sklearn.metrics import roc_auc_score, multilabel_confusion_matrix\n",
        "roc_auc_score(ytest,y_pred)\n"
      ],
      "execution_count": 20,
      "outputs": [
        {
          "output_type": "execute_result",
          "data": {
            "text/plain": [
              "0.9433302831805165"
            ]
          },
          "metadata": {
            "tags": []
          },
          "execution_count": 20
        }
      ]
    },
    {
      "cell_type": "code",
      "metadata": {
        "id": "DzVbUou1AssF",
        "colab_type": "code",
        "colab": {
          "base_uri": "https://localhost:8080/",
          "height": 316
        },
        "outputId": "7b4744c9-7110-4a0d-de24-aa5df765b0ae"
      },
      "source": [
        "import matplotlib.pyplot as plt\n",
        "\n",
        "plt.style.use(\"ggplot\")\n",
        "plt.figure()\n",
        "N = 20\n",
        "plt.plot(np.arange(0, N), history.history[\"loss\"], label=\"train_loss\")\n",
        "plt.plot(np.arange(0, N), history.history[\"val_loss\"], label=\"val_loss\")\n",
        "plt.plot(np.arange(0, N), history.history[\"acc\"], label=\"train_acc\")\n",
        "plt.plot(np.arange(0, N), history.history[\"val_acc\"], label=\"val_acc\")\n",
        "plt.title(\"Training Loss and Accuracy\")\n",
        "plt.xlabel(\"Epoch #\")\n",
        "plt.ylabel(\"Loss/Accuracy\")\n",
        "plt.legend(loc=\"upper left\")\n",
        "#plt.savefig(args[\"plot\"])"
      ],
      "execution_count": 23,
      "outputs": [
        {
          "output_type": "execute_result",
          "data": {
            "text/plain": [
              "<matplotlib.legend.Legend at 0x7f3118a777b8>"
            ]
          },
          "metadata": {
            "tags": []
          },
          "execution_count": 23
        },
        {
          "output_type": "display_data",
          "data": {
            "image/png": "[encoded data removed]",
            "text/plain": [
              "<Figure size 432x288 with 1 Axes>"
            ]
          },
          "metadata": {
            "tags": []
          }
        }
      ]
    },
    {
      "cell_type": "code",
      "metadata": {
        "id": "ohNfVuoREVYo",
        "colab_type": "code",
        "colab": {
          "base_uri": "https://localhost:8080/",
          "height": 282
        },
        "outputId": "9f272c87-04be-47b2-cb9f-b36413e0b96a"
      },
      "source": [
        "plt.title('Loss')\n",
        "plt.plot(history.history['loss'], label='train')\n",
        "plt.plot(history.history['val_loss'], label='Validation')\n",
        "plt.legend()\n",
        "plt.show()"
      ],
      "execution_count": 24,
      "outputs": [
        {
          "output_type": "display_data",
          "data": {
            "image/png": "[encoded data removed]",
            "text/plain": [
              "<Figure size 432x288 with 1 Axes>"
            ]
          },
          "metadata": {
            "tags": []
          }
        }
      ]
    },
    {
      "cell_type": "code",
      "metadata": {
        "id": "GWQsMCFvEtGS",
        "colab_type": "code",
        "colab": {
          "base_uri": "https://localhost:8080/",
          "height": 282
        },
        "outputId": "d05fa1fd-2fa8-4754-fddf-7f1674402e8c"
      },
      "source": [
        "plt.title('Accuracy')\n",
        "plt.plot(history.history['acc'], label='train')\n",
        "plt.plot(history.history['val_acc'], label='Validation')\n",
        "plt.legend()\n",
        "plt.show();"
      ],
      "execution_count": 25,
      "outputs": [
        {
          "output_type": "display_data",
          "data": {
            "image/png": "[encoded data removed]",
            "text/plain": [
              "<Figure size 432x288 with 1 Axes>"
            ]
          },
          "metadata": {
            "tags": []
          }
        }
      ]
    }
  ]
}