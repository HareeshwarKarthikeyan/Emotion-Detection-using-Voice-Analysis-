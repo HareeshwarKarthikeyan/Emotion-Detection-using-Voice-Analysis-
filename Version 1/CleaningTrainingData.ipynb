{
  "nbformat": 4,
  "nbformat_minor": 0,
  "metadata": {
    "colab": {
      "name": "finalDataCleaning.ipynb",
      "provenance": [],
      "collapsed_sections": []
    },
    "kernelspec": {
      "name": "python3",
      "display_name": "Python 3"
    }
  },
  "cells": [
    {
      "cell_type": "code",
      "metadata": {
        "id": "1AwCqbbq8Bh2",
        "colab_type": "code",
        "outputId": "f416e80f-fe4c-451c-a9e1-0dda3862832e",
        "colab": {
          "base_uri": "https://localhost:8080/",
          "height": 34
        }
      },
      "source": [
        "from google.colab import drive\n",
        "drive.mount('/content/drive')"
      ],
      "execution_count": 0,
      "outputs": [
        {
          "output_type": "stream",
          "text": [
            "Drive already mounted at /content/drive; to attempt to forcibly remount, call drive.mount(\"/content/drive\", force_remount=True).\n"
          ],
          "name": "stdout"
        }
      ]
    },
    {
      "cell_type": "code",
      "metadata": {
        "id": "PJ_DAOYB8WXf",
        "colab_type": "code",
        "colab": {}
      },
      "source": [
        "import pandas as pd\n",
        "from google.colab import files\n"
      ],
      "execution_count": 0,
      "outputs": []
    },
    {
      "cell_type": "code",
      "metadata": {
        "id": "4URmj0xj-YvN",
        "colab_type": "code",
        "colab": {}
      },
      "source": [
        "df = pd.read_csv('/content/drive/My Drive/data_train_clean.csv')\n",
        "\n",
        "print(df.columns)\n",
        "\n",
        "df = df.drop('Unnamed: 0',axis = 1)\n"
      ],
      "execution_count": 0,
      "outputs": []
    },
    {
      "cell_type": "code",
      "metadata": {
        "id": "nBXbtlkoQL9c",
        "colab_type": "code",
        "colab": {}
      },
      "source": [
        "df = df.rename(columns={'clean_comment': 'message'})\n"
      ],
      "execution_count": 0,
      "outputs": []
    },
    {
      "cell_type": "code",
      "metadata": {
        "id": "lst2frJvQdZO",
        "colab_type": "code",
        "outputId": "a01e5719-9a75-463b-af08-58cd45949b41",
        "colab": {
          "base_uri": "https://localhost:8080/",
          "height": 68
        }
      },
      "source": [
        "df = df.drop('id',axis = 1)\n",
        "print(df.columns)"
      ],
      "execution_count": 0,
      "outputs": [
        {
          "output_type": "stream",
          "text": [
            "Index(['message', 'toxic', 'severe_toxic', 'obscene', 'threat', 'insult',\n",
            "       'identity_hate'],\n",
            "      dtype='object')\n"
          ],
          "name": "stdout"
        }
      ]
    },
    {
      "cell_type": "code",
      "metadata": {
        "id": "ODdLwcxqQj7_",
        "colab_type": "code",
        "outputId": "337c0407-2117-46f9-a68c-a59e7ed3314f",
        "colab": {
          "base_uri": "https://localhost:8080/",
          "height": 153
        }
      },
      "source": [
        "print(df.tail())"
      ],
      "execution_count": 0,
      "outputs": [
        {
          "output_type": "stream",
          "text": [
            "                                                  message  ...  identity_hate\n",
            "111694  b'redirect talkjohn loveday experimental physi...  ...              0\n",
            "111695  b'back it up post the line here with the refer...  ...              0\n",
            "111696  b'i will not stop that sometimes germanic equa...  ...              0\n",
            "111697  b' british bands i think you have mistaken sco...  ...              0\n",
            "111698  b'you are wrong justin thompson is mentioned i...  ...              0\n",
            "\n",
            "[5 rows x 7 columns]\n"
          ],
          "name": "stdout"
        }
      ]
    },
    {
      "cell_type": "code",
      "metadata": {
        "id": "hVQ-b2fWQnJ5",
        "colab_type": "code",
        "colab": {}
      },
      "source": [
        "df1 = df.sort_values(['toxic','severe_toxic'],ascending=[False,True]) \n",
        "df1 = df1[6000:]"
      ],
      "execution_count": 0,
      "outputs": []
    },
    {
      "cell_type": "code",
      "metadata": {
        "id": "GqRqWqu7Rtac",
        "colab_type": "code",
        "outputId": "a0250eea-be7c-4290-b0cb-de636e023481",
        "colab": {
          "base_uri": "https://localhost:8080/",
          "height": 255
        }
      },
      "source": [
        "print(df1.describe())\n",
        "print(df1.columns)\n"
      ],
      "execution_count": 0,
      "outputs": [
        {
          "output_type": "stream",
          "text": [
            "               toxic   severe_toxic  ...         insult  identity_hate\n",
            "count  105699.000000  105699.000000  ...  105699.000000  105699.000000\n",
            "mean        0.044579       0.010492  ...       0.027134       0.005222\n",
            "std         0.206379       0.101892  ...       0.162474       0.072077\n",
            "min         0.000000       0.000000  ...       0.000000       0.000000\n",
            "25%         0.000000       0.000000  ...       0.000000       0.000000\n",
            "50%         0.000000       0.000000  ...       0.000000       0.000000\n",
            "75%         0.000000       0.000000  ...       0.000000       0.000000\n",
            "max         1.000000       1.000000  ...       1.000000       1.000000\n",
            "\n",
            "[8 rows x 6 columns]\n",
            "Index(['message', 'toxic', 'severe_toxic', 'obscene', 'threat', 'insult',\n",
            "       'identity_hate'],\n",
            "      dtype='object')\n"
          ],
          "name": "stdout"
        }
      ]
    },
    {
      "cell_type": "code",
      "metadata": {
        "id": "XZIvVjxIVErz",
        "colab_type": "code",
        "outputId": "da58aca1-7761-40b0-8bd2-1af656f4a9ac",
        "colab": {
          "base_uri": "https://localhost:8080/",
          "height": 119
        }
      },
      "source": [
        "print(df1['toxic'].value_counts())\n",
        "print(df1['severe_toxic'].value_counts())"
      ],
      "execution_count": 0,
      "outputs": [
        {
          "output_type": "stream",
          "text": [
            "0    100987\n",
            "1      4712\n",
            "Name: toxic, dtype: int64\n",
            "0    104590\n",
            "1      1109\n",
            "Name: severe_toxic, dtype: int64\n"
          ],
          "name": "stdout"
        }
      ]
    },
    {
      "cell_type": "code",
      "metadata": {
        "id": "cOi1deHRVBTy",
        "colab_type": "code",
        "outputId": "7c7ae616-ce4f-44db-ddf0-4bccc3352f68",
        "colab": {
          "base_uri": "https://localhost:8080/",
          "height": 297
        }
      },
      "source": [
        "df1 = df1.drop('severe_toxic',axis = 1)\n",
        "df1.describe()"
      ],
      "execution_count": 0,
      "outputs": [
        {
          "output_type": "execute_result",
          "data": {
            "text/html": [
              "<div>\n",
              "<style scoped>\n",
              "    .dataframe tbody tr th:only-of-type {\n",
              "        vertical-align: middle;\n",
              "    }\n",
              "\n",
              "    .dataframe tbody tr th {\n",
              "        vertical-align: top;\n",
              "    }\n",
              "\n",
              "    .dataframe thead th {\n",
              "        text-align: right;\n",
              "    }\n",
              "</style>\n",
              "<table border=\"1\" class=\"dataframe\">\n",
              "  <thead>\n",
              "    <tr style=\"text-align: right;\">\n",
              "      <th></th>\n",
              "      <th>toxic</th>\n",
              "      <th>obscene</th>\n",
              "      <th>threat</th>\n",
              "      <th>insult</th>\n",
              "      <th>identity_hate</th>\n",
              "    </tr>\n",
              "  </thead>\n",
              "  <tbody>\n",
              "    <tr>\n",
              "      <th>count</th>\n",
              "      <td>105699.000000</td>\n",
              "      <td>105699.000000</td>\n",
              "      <td>105699.000000</td>\n",
              "      <td>105699.000000</td>\n",
              "      <td>105699.000000</td>\n",
              "    </tr>\n",
              "    <tr>\n",
              "      <th>mean</th>\n",
              "      <td>0.044579</td>\n",
              "      <td>0.029452</td>\n",
              "      <td>0.001949</td>\n",
              "      <td>0.027134</td>\n",
              "      <td>0.005222</td>\n",
              "    </tr>\n",
              "    <tr>\n",
              "      <th>std</th>\n",
              "      <td>0.206379</td>\n",
              "      <td>0.169069</td>\n",
              "      <td>0.044104</td>\n",
              "      <td>0.162474</td>\n",
              "      <td>0.072077</td>\n",
              "    </tr>\n",
              "    <tr>\n",
              "      <th>min</th>\n",
              "      <td>0.000000</td>\n",
              "      <td>0.000000</td>\n",
              "      <td>0.000000</td>\n",
              "      <td>0.000000</td>\n",
              "      <td>0.000000</td>\n",
              "    </tr>\n",
              "    <tr>\n",
              "      <th>25%</th>\n",
              "      <td>0.000000</td>\n",
              "      <td>0.000000</td>\n",
              "      <td>0.000000</td>\n",
              "      <td>0.000000</td>\n",
              "      <td>0.000000</td>\n",
              "    </tr>\n",
              "    <tr>\n",
              "      <th>50%</th>\n",
              "      <td>0.000000</td>\n",
              "      <td>0.000000</td>\n",
              "      <td>0.000000</td>\n",
              "      <td>0.000000</td>\n",
              "      <td>0.000000</td>\n",
              "    </tr>\n",
              "    <tr>\n",
              "      <th>75%</th>\n",
              "      <td>0.000000</td>\n",
              "      <td>0.000000</td>\n",
              "      <td>0.000000</td>\n",
              "      <td>0.000000</td>\n",
              "      <td>0.000000</td>\n",
              "    </tr>\n",
              "    <tr>\n",
              "      <th>max</th>\n",
              "      <td>1.000000</td>\n",
              "      <td>1.000000</td>\n",
              "      <td>1.000000</td>\n",
              "      <td>1.000000</td>\n",
              "      <td>1.000000</td>\n",
              "    </tr>\n",
              "  </tbody>\n",
              "</table>\n",
              "</div>"
            ],
            "text/plain": [
              "               toxic        obscene  ...         insult  identity_hate\n",
              "count  105699.000000  105699.000000  ...  105699.000000  105699.000000\n",
              "mean        0.044579       0.029452  ...       0.027134       0.005222\n",
              "std         0.206379       0.169069  ...       0.162474       0.072077\n",
              "min         0.000000       0.000000  ...       0.000000       0.000000\n",
              "25%         0.000000       0.000000  ...       0.000000       0.000000\n",
              "50%         0.000000       0.000000  ...       0.000000       0.000000\n",
              "75%         0.000000       0.000000  ...       0.000000       0.000000\n",
              "max         1.000000       1.000000  ...       1.000000       1.000000\n",
              "\n",
              "[8 rows x 5 columns]"
            ]
          },
          "metadata": {
            "tags": []
          },
          "execution_count": 229
        }
      ]
    },
    {
      "cell_type": "code",
      "metadata": {
        "id": "FX_wOmpajvs0",
        "colab_type": "code",
        "outputId": "b7891c89-be1d-414d-b3a2-ce0c37052ba5",
        "colab": {
          "base_uri": "https://localhost:8080/",
          "height": 297
        }
      },
      "source": [
        "df2 = df1.drop(df1[df1.threat == 1].index)\n",
        "df2 = df2.drop('threat',axis = 1)\n",
        "df2.describe()"
      ],
      "execution_count": 0,
      "outputs": [
        {
          "output_type": "execute_result",
          "data": {
            "text/html": [
              "<div>\n",
              "<style scoped>\n",
              "    .dataframe tbody tr th:only-of-type {\n",
              "        vertical-align: middle;\n",
              "    }\n",
              "\n",
              "    .dataframe tbody tr th {\n",
              "        vertical-align: top;\n",
              "    }\n",
              "\n",
              "    .dataframe thead th {\n",
              "        text-align: right;\n",
              "    }\n",
              "</style>\n",
              "<table border=\"1\" class=\"dataframe\">\n",
              "  <thead>\n",
              "    <tr style=\"text-align: right;\">\n",
              "      <th></th>\n",
              "      <th>toxic</th>\n",
              "      <th>obscene</th>\n",
              "      <th>insult</th>\n",
              "      <th>identity_hate</th>\n",
              "    </tr>\n",
              "  </thead>\n",
              "  <tbody>\n",
              "    <tr>\n",
              "      <th>count</th>\n",
              "      <td>105493.000000</td>\n",
              "      <td>105493.000000</td>\n",
              "      <td>105493.000000</td>\n",
              "      <td>105493.000000</td>\n",
              "    </tr>\n",
              "    <tr>\n",
              "      <th>mean</th>\n",
              "      <td>0.042922</td>\n",
              "      <td>0.028201</td>\n",
              "      <td>0.025897</td>\n",
              "      <td>0.004749</td>\n",
              "    </tr>\n",
              "    <tr>\n",
              "      <th>std</th>\n",
              "      <td>0.202683</td>\n",
              "      <td>0.165547</td>\n",
              "      <td>0.158830</td>\n",
              "      <td>0.068750</td>\n",
              "    </tr>\n",
              "    <tr>\n",
              "      <th>min</th>\n",
              "      <td>0.000000</td>\n",
              "      <td>0.000000</td>\n",
              "      <td>0.000000</td>\n",
              "      <td>0.000000</td>\n",
              "    </tr>\n",
              "    <tr>\n",
              "      <th>25%</th>\n",
              "      <td>0.000000</td>\n",
              "      <td>0.000000</td>\n",
              "      <td>0.000000</td>\n",
              "      <td>0.000000</td>\n",
              "    </tr>\n",
              "    <tr>\n",
              "      <th>50%</th>\n",
              "      <td>0.000000</td>\n",
              "      <td>0.000000</td>\n",
              "      <td>0.000000</td>\n",
              "      <td>0.000000</td>\n",
              "    </tr>\n",
              "    <tr>\n",
              "      <th>75%</th>\n",
              "      <td>0.000000</td>\n",
              "      <td>0.000000</td>\n",
              "      <td>0.000000</td>\n",
              "      <td>0.000000</td>\n",
              "    </tr>\n",
              "    <tr>\n",
              "      <th>max</th>\n",
              "      <td>1.000000</td>\n",
              "      <td>1.000000</td>\n",
              "      <td>1.000000</td>\n",
              "      <td>1.000000</td>\n",
              "    </tr>\n",
              "  </tbody>\n",
              "</table>\n",
              "</div>"
            ],
            "text/plain": [
              "               toxic        obscene         insult  identity_hate\n",
              "count  105493.000000  105493.000000  105493.000000  105493.000000\n",
              "mean        0.042922       0.028201       0.025897       0.004749\n",
              "std         0.202683       0.165547       0.158830       0.068750\n",
              "min         0.000000       0.000000       0.000000       0.000000\n",
              "25%         0.000000       0.000000       0.000000       0.000000\n",
              "50%         0.000000       0.000000       0.000000       0.000000\n",
              "75%         0.000000       0.000000       0.000000       0.000000\n",
              "max         1.000000       1.000000       1.000000       1.000000"
            ]
          },
          "metadata": {
            "tags": []
          },
          "execution_count": 230
        }
      ]
    },
    {
      "cell_type": "code",
      "metadata": {
        "id": "kn8kM_JgkKo0",
        "colab_type": "code",
        "outputId": "d4403056-ac78-4ce1-dd27-5329ca81434f",
        "colab": {
          "base_uri": "https://localhost:8080/",
          "height": 170
        }
      },
      "source": [
        "df3 = df2.drop(df2[df2.identity_hate == 1].index)\n",
        "df3 = df3.drop('identity_hate',axis = 1)\n",
        "print(df3['toxic'].value_counts())\n",
        "print(df3['obscene'].value_counts())\n",
        "print(df3['insult'].value_counts())\n"
      ],
      "execution_count": 0,
      "outputs": [
        {
          "output_type": "stream",
          "text": [
            "0    100895\n",
            "1      4097\n",
            "Name: toxic, dtype: int64\n",
            "0    102375\n",
            "1      2617\n",
            "Name: obscene, dtype: int64\n",
            "0    102673\n",
            "1      2319\n",
            "Name: insult, dtype: int64\n"
          ],
          "name": "stdout"
        }
      ]
    },
    {
      "cell_type": "code",
      "metadata": {
        "id": "xXvSGAW6lp0c",
        "colab_type": "code",
        "outputId": "fb8f4ffb-fbb3-4885-e428-c74a05aaf236",
        "colab": {
          "base_uri": "https://localhost:8080/",
          "height": 297
        }
      },
      "source": [
        "df3.describe()"
      ],
      "execution_count": 0,
      "outputs": [
        {
          "output_type": "execute_result",
          "data": {
            "text/html": [
              "<div>\n",
              "<style scoped>\n",
              "    .dataframe tbody tr th:only-of-type {\n",
              "        vertical-align: middle;\n",
              "    }\n",
              "\n",
              "    .dataframe tbody tr th {\n",
              "        vertical-align: top;\n",
              "    }\n",
              "\n",
              "    .dataframe thead th {\n",
              "        text-align: right;\n",
              "    }\n",
              "</style>\n",
              "<table border=\"1\" class=\"dataframe\">\n",
              "  <thead>\n",
              "    <tr style=\"text-align: right;\">\n",
              "      <th></th>\n",
              "      <th>toxic</th>\n",
              "      <th>obscene</th>\n",
              "      <th>insult</th>\n",
              "    </tr>\n",
              "  </thead>\n",
              "  <tbody>\n",
              "    <tr>\n",
              "      <th>count</th>\n",
              "      <td>104992.000000</td>\n",
              "      <td>104992.000000</td>\n",
              "      <td>104992.000000</td>\n",
              "    </tr>\n",
              "    <tr>\n",
              "      <th>mean</th>\n",
              "      <td>0.039022</td>\n",
              "      <td>0.024926</td>\n",
              "      <td>0.022087</td>\n",
              "    </tr>\n",
              "    <tr>\n",
              "      <th>std</th>\n",
              "      <td>0.193648</td>\n",
              "      <td>0.155899</td>\n",
              "      <td>0.146969</td>\n",
              "    </tr>\n",
              "    <tr>\n",
              "      <th>min</th>\n",
              "      <td>0.000000</td>\n",
              "      <td>0.000000</td>\n",
              "      <td>0.000000</td>\n",
              "    </tr>\n",
              "    <tr>\n",
              "      <th>25%</th>\n",
              "      <td>0.000000</td>\n",
              "      <td>0.000000</td>\n",
              "      <td>0.000000</td>\n",
              "    </tr>\n",
              "    <tr>\n",
              "      <th>50%</th>\n",
              "      <td>0.000000</td>\n",
              "      <td>0.000000</td>\n",
              "      <td>0.000000</td>\n",
              "    </tr>\n",
              "    <tr>\n",
              "      <th>75%</th>\n",
              "      <td>0.000000</td>\n",
              "      <td>0.000000</td>\n",
              "      <td>0.000000</td>\n",
              "    </tr>\n",
              "    <tr>\n",
              "      <th>max</th>\n",
              "      <td>1.000000</td>\n",
              "      <td>1.000000</td>\n",
              "      <td>1.000000</td>\n",
              "    </tr>\n",
              "  </tbody>\n",
              "</table>\n",
              "</div>"
            ],
            "text/plain": [
              "               toxic        obscene         insult\n",
              "count  104992.000000  104992.000000  104992.000000\n",
              "mean        0.039022       0.024926       0.022087\n",
              "std         0.193648       0.155899       0.146969\n",
              "min         0.000000       0.000000       0.000000\n",
              "25%         0.000000       0.000000       0.000000\n",
              "50%         0.000000       0.000000       0.000000\n",
              "75%         0.000000       0.000000       0.000000\n",
              "max         1.000000       1.000000       1.000000"
            ]
          },
          "metadata": {
            "tags": []
          },
          "execution_count": 233
        }
      ]
    },
    {
      "cell_type": "code",
      "metadata": {
        "id": "V-V3LnFfl04n",
        "colab_type": "code",
        "colab": {}
      },
      "source": [
        "df3 = df3.sort_values(['toxic','obscene','insult'],ascending=[True,True,True]) \n",
        "df4 = df3[95000:]\n",
        "from sklearn.utils import shuffle\n",
        "df4 = shuffle(df4)\n"
      ],
      "execution_count": 0,
      "outputs": []
    },
    {
      "cell_type": "code",
      "metadata": {
        "id": "A0Yd2EMZpFe0",
        "colab_type": "code",
        "outputId": "4a67d684-0474-4de7-bdf8-107d60b51526",
        "colab": {
          "base_uri": "https://localhost:8080/",
          "height": 340
        }
      },
      "source": [
        "print(df4.tail())\n",
        "rc = pd.read_csv('/content/drive/My Drive/racismsexism.csv')\n",
        "rc.tail()"
      ],
      "execution_count": 0,
      "outputs": [
        {
          "output_type": "stream",
          "text": [
            "                                                  message  ...  insult\n",
            "1769    b'ps im a fucking cunt rag and enjoy the taste...  ...       0\n",
            "109892  b'jakew funny how it is always the circumcisio...  ...       0\n",
            "87000   b'october utc you really are a stupid person a...  ...       0\n",
            "32974   b'maybe you dont understand the heirachy you f...  ...       1\n",
            "109203       b'just to make it clear i reworded it a bit'  ...       0\n",
            "\n",
            "[5 rows x 4 columns]\n"
          ],
          "name": "stdout"
        },
        {
          "output_type": "execute_result",
          "data": {
            "text/html": [
              "<div>\n",
              "<style scoped>\n",
              "    .dataframe tbody tr th:only-of-type {\n",
              "        vertical-align: middle;\n",
              "    }\n",
              "\n",
              "    .dataframe tbody tr th {\n",
              "        vertical-align: top;\n",
              "    }\n",
              "\n",
              "    .dataframe thead th {\n",
              "        text-align: right;\n",
              "    }\n",
              "</style>\n",
              "<table border=\"1\" class=\"dataframe\">\n",
              "  <thead>\n",
              "    <tr style=\"text-align: right;\">\n",
              "      <th></th>\n",
              "      <th>Unnamed: 0</th>\n",
              "      <th>Message</th>\n",
              "      <th>Racism</th>\n",
              "      <th>Sexism</th>\n",
              "    </tr>\n",
              "  </thead>\n",
              "  <tbody>\n",
              "    <tr>\n",
              "      <th>5049</th>\n",
              "      <td>16077</td>\n",
              "      <td>b'mkr mkr i think kat thinks she is the best c...</td>\n",
              "      <td>0</td>\n",
              "      <td>1</td>\n",
              "    </tr>\n",
              "    <tr>\n",
              "      <th>5050</th>\n",
              "      <td>16082</td>\n",
              "      <td>b'remind me when i said fiction reality do not...</td>\n",
              "      <td>0</td>\n",
              "      <td>1</td>\n",
              "    </tr>\n",
              "    <tr>\n",
              "      <th>5051</th>\n",
              "      <td>16084</td>\n",
              "      <td>b'lmfao lmfao who cares about the women ufc ti...</td>\n",
              "      <td>0</td>\n",
              "      <td>1</td>\n",
              "    </tr>\n",
              "    <tr>\n",
              "      <th>5052</th>\n",
              "      <td>16085</td>\n",
              "      <td>b' i want equal rights but i still want your s...</td>\n",
              "      <td>0</td>\n",
              "      <td>1</td>\n",
              "    </tr>\n",
              "    <tr>\n",
              "      <th>5053</th>\n",
              "      <td>16086</td>\n",
              "      <td>b' go ahead and call me sexist but scandalous ...</td>\n",
              "      <td>0</td>\n",
              "      <td>1</td>\n",
              "    </tr>\n",
              "  </tbody>\n",
              "</table>\n",
              "</div>"
            ],
            "text/plain": [
              "      Unnamed: 0  ... Sexism\n",
              "5049       16077  ...      1\n",
              "5050       16082  ...      1\n",
              "5051       16084  ...      1\n",
              "5052       16085  ...      1\n",
              "5053       16086  ...      1\n",
              "\n",
              "[5 rows x 4 columns]"
            ]
          },
          "metadata": {
            "tags": []
          },
          "execution_count": 304
        }
      ]
    },
    {
      "cell_type": "code",
      "metadata": {
        "id": "JjpMG85YrMM_",
        "colab_type": "code",
        "outputId": "51214cf5-800c-4cd9-cfa6-d0c7f12f6fa0",
        "colab": {
          "base_uri": "https://localhost:8080/",
          "height": 204
        }
      },
      "source": [
        "rc = rc.drop('Unnamed: 0',axis = 1)\n",
        "rc.tail()"
      ],
      "execution_count": 0,
      "outputs": [
        {
          "output_type": "execute_result",
          "data": {
            "text/html": [
              "<div>\n",
              "<style scoped>\n",
              "    .dataframe tbody tr th:only-of-type {\n",
              "        vertical-align: middle;\n",
              "    }\n",
              "\n",
              "    .dataframe tbody tr th {\n",
              "        vertical-align: top;\n",
              "    }\n",
              "\n",
              "    .dataframe thead th {\n",
              "        text-align: right;\n",
              "    }\n",
              "</style>\n",
              "<table border=\"1\" class=\"dataframe\">\n",
              "  <thead>\n",
              "    <tr style=\"text-align: right;\">\n",
              "      <th></th>\n",
              "      <th>Message</th>\n",
              "      <th>Racism</th>\n",
              "      <th>Sexism</th>\n",
              "    </tr>\n",
              "  </thead>\n",
              "  <tbody>\n",
              "    <tr>\n",
              "      <th>5049</th>\n",
              "      <td>b'mkr mkr i think kat thinks she is the best c...</td>\n",
              "      <td>0</td>\n",
              "      <td>1</td>\n",
              "    </tr>\n",
              "    <tr>\n",
              "      <th>5050</th>\n",
              "      <td>b'remind me when i said fiction reality do not...</td>\n",
              "      <td>0</td>\n",
              "      <td>1</td>\n",
              "    </tr>\n",
              "    <tr>\n",
              "      <th>5051</th>\n",
              "      <td>b'lmfao lmfao who cares about the women ufc ti...</td>\n",
              "      <td>0</td>\n",
              "      <td>1</td>\n",
              "    </tr>\n",
              "    <tr>\n",
              "      <th>5052</th>\n",
              "      <td>b' i want equal rights but i still want your s...</td>\n",
              "      <td>0</td>\n",
              "      <td>1</td>\n",
              "    </tr>\n",
              "    <tr>\n",
              "      <th>5053</th>\n",
              "      <td>b' go ahead and call me sexist but scandalous ...</td>\n",
              "      <td>0</td>\n",
              "      <td>1</td>\n",
              "    </tr>\n",
              "  </tbody>\n",
              "</table>\n",
              "</div>"
            ],
            "text/plain": [
              "                                                Message  Racism  Sexism\n",
              "5049  b'mkr mkr i think kat thinks she is the best c...       0       1\n",
              "5050  b'remind me when i said fiction reality do not...       0       1\n",
              "5051  b'lmfao lmfao who cares about the women ufc ti...       0       1\n",
              "5052  b' i want equal rights but i still want your s...       0       1\n",
              "5053  b' go ahead and call me sexist but scandalous ...       0       1"
            ]
          },
          "metadata": {
            "tags": []
          },
          "execution_count": 305
        }
      ]
    },
    {
      "cell_type": "code",
      "metadata": {
        "id": "_ptzbT_kriWE",
        "colab_type": "code",
        "outputId": "c55046f0-d810-49f8-b321-8c0db8b4c6df",
        "colab": {
          "base_uri": "https://localhost:8080/",
          "height": 204
        }
      },
      "source": [
        "df4['racism'] = 0\n",
        "df4['sexism'] = 0\n",
        "df4.tail()"
      ],
      "execution_count": 0,
      "outputs": [
        {
          "output_type": "execute_result",
          "data": {
            "text/html": [
              "<div>\n",
              "<style scoped>\n",
              "    .dataframe tbody tr th:only-of-type {\n",
              "        vertical-align: middle;\n",
              "    }\n",
              "\n",
              "    .dataframe tbody tr th {\n",
              "        vertical-align: top;\n",
              "    }\n",
              "\n",
              "    .dataframe thead th {\n",
              "        text-align: right;\n",
              "    }\n",
              "</style>\n",
              "<table border=\"1\" class=\"dataframe\">\n",
              "  <thead>\n",
              "    <tr style=\"text-align: right;\">\n",
              "      <th></th>\n",
              "      <th>message</th>\n",
              "      <th>toxic</th>\n",
              "      <th>obscene</th>\n",
              "      <th>insult</th>\n",
              "      <th>racism</th>\n",
              "      <th>sexism</th>\n",
              "    </tr>\n",
              "  </thead>\n",
              "  <tbody>\n",
              "    <tr>\n",
              "      <th>1769</th>\n",
              "      <td>b'ps im a fucking cunt rag and enjoy the taste...</td>\n",
              "      <td>1</td>\n",
              "      <td>1</td>\n",
              "      <td>0</td>\n",
              "      <td>0</td>\n",
              "      <td>0</td>\n",
              "    </tr>\n",
              "    <tr>\n",
              "      <th>109892</th>\n",
              "      <td>b'jakew funny how it is always the circumcisio...</td>\n",
              "      <td>0</td>\n",
              "      <td>0</td>\n",
              "      <td>0</td>\n",
              "      <td>0</td>\n",
              "      <td>0</td>\n",
              "    </tr>\n",
              "    <tr>\n",
              "      <th>87000</th>\n",
              "      <td>b'october utc you really are a stupid person a...</td>\n",
              "      <td>1</td>\n",
              "      <td>1</td>\n",
              "      <td>0</td>\n",
              "      <td>0</td>\n",
              "      <td>0</td>\n",
              "    </tr>\n",
              "    <tr>\n",
              "      <th>32974</th>\n",
              "      <td>b'maybe you dont understand the heirachy you f...</td>\n",
              "      <td>1</td>\n",
              "      <td>1</td>\n",
              "      <td>1</td>\n",
              "      <td>0</td>\n",
              "      <td>0</td>\n",
              "    </tr>\n",
              "    <tr>\n",
              "      <th>109203</th>\n",
              "      <td>b'just to make it clear i reworded it a bit'</td>\n",
              "      <td>0</td>\n",
              "      <td>0</td>\n",
              "      <td>0</td>\n",
              "      <td>0</td>\n",
              "      <td>0</td>\n",
              "    </tr>\n",
              "  </tbody>\n",
              "</table>\n",
              "</div>"
            ],
            "text/plain": [
              "                                                  message  ...  sexism\n",
              "1769    b'ps im a fucking cunt rag and enjoy the taste...  ...       0\n",
              "109892  b'jakew funny how it is always the circumcisio...  ...       0\n",
              "87000   b'october utc you really are a stupid person a...  ...       0\n",
              "32974   b'maybe you dont understand the heirachy you f...  ...       0\n",
              "109203       b'just to make it clear i reworded it a bit'  ...       0\n",
              "\n",
              "[5 rows x 6 columns]"
            ]
          },
          "metadata": {
            "tags": []
          },
          "execution_count": 306
        }
      ]
    },
    {
      "cell_type": "code",
      "metadata": {
        "id": "uFUOsXkxrqLw",
        "colab_type": "code",
        "outputId": "b3deb760-6909-4593-d837-b501d4c3c8f9",
        "colab": {
          "base_uri": "https://localhost:8080/",
          "height": 170
        }
      },
      "source": [
        "rc['toxic'] =0\n",
        "rc['obscene'] =0\n",
        "rc['insult'] =0\n",
        "rc = rc.rename(columns={'Message': 'message', 'Racism': 'racism','Sexism': 'sexism'})\n",
        "rc = rc[['message', 'toxic', 'obscene', 'insult', 'racism','sexism']]\n",
        "rcs = rc[:1938]\n",
        "scm = rc[2938:]\n",
        "rcs = rcs.append(scm)\n",
        "# print(rcs.describe())\n",
        "# print(scm.describe())\n",
        "rc = rcs\n",
        "print(rc.describe())\n"
      ],
      "execution_count": 0,
      "outputs": [
        {
          "output_type": "stream",
          "text": [
            "        toxic  obscene  insult       racism       sexism\n",
            "count  4054.0   4054.0  4054.0  4054.000000  4054.000000\n",
            "mean      0.0      0.0     0.0     0.477800     0.522200\n",
            "std       0.0      0.0     0.0     0.499569     0.499569\n",
            "min       0.0      0.0     0.0     0.000000     0.000000\n",
            "25%       0.0      0.0     0.0     0.000000     0.000000\n",
            "50%       0.0      0.0     0.0     0.000000     1.000000\n",
            "75%       0.0      0.0     0.0     1.000000     1.000000\n",
            "max       0.0      0.0     0.0     1.000000     1.000000\n"
          ],
          "name": "stdout"
        }
      ]
    },
    {
      "cell_type": "code",
      "metadata": {
        "id": "JzU4qIpwu7eN",
        "colab_type": "code",
        "outputId": "974900e4-dac2-49cd-f68b-6133a41eb55e",
        "colab": {
          "base_uri": "https://localhost:8080/",
          "height": 68
        }
      },
      "source": [
        "rc['racism'].value_counts()"
      ],
      "execution_count": 0,
      "outputs": [
        {
          "output_type": "execute_result",
          "data": {
            "text/plain": [
              "0    2117\n",
              "1    1937\n",
              "Name: racism, dtype: int64"
            ]
          },
          "metadata": {
            "tags": []
          },
          "execution_count": 308
        }
      ]
    },
    {
      "cell_type": "code",
      "metadata": {
        "id": "fKntPmFQtWw4",
        "colab_type": "code",
        "colab": {}
      },
      "source": [
        "df5 = df4.append(rc)"
      ],
      "execution_count": 0,
      "outputs": []
    },
    {
      "cell_type": "code",
      "metadata": {
        "id": "H1sIVvq1thmo",
        "colab_type": "code",
        "outputId": "01b51f20-7ae3-4947-dc8a-c953b2ddb1b7",
        "colab": {
          "base_uri": "https://localhost:8080/",
          "height": 289
        }
      },
      "source": [
        "print(df5.head())\n",
        "print(df5.tail())\n",
        "# print(df4.describe())\n",
        "# print(rc.describe())\n",
        "# print(df5.describe())"
      ],
      "execution_count": 0,
      "outputs": [
        {
          "output_type": "stream",
          "text": [
            "                                                  message  ...  sexism\n",
            "107776  b'please do not add nonsense to wikipedia it i...  ...       0\n",
            "109640  b'deletion discussion about perfect world depr...  ...       0\n",
            "86546   b' douchebag it appears you have a fan of your...  ...       0\n",
            "108435  b' thank you now please desist from threatenin...  ...       0\n",
            "15059   b' funny usage there used to be a very amusing...  ...       0\n",
            "\n",
            "[5 rows x 6 columns]\n",
            "                                                message  toxic  ...  racism  sexism\n",
            "5049  b'mkr mkr i think kat thinks she is the best c...      0  ...       0       1\n",
            "5050  b'remind me when i said fiction reality do not...      0  ...       0       1\n",
            "5051  b'lmfao lmfao who cares about the women ufc ti...      0  ...       0       1\n",
            "5052  b' i want equal rights but i still want your s...      0  ...       0       1\n",
            "5053  b' go ahead and call me sexist but scandalous ...      0  ...       0       1\n",
            "\n",
            "[5 rows x 6 columns]\n"
          ],
          "name": "stdout"
        }
      ]
    },
    {
      "cell_type": "code",
      "metadata": {
        "id": "9hsxTPkYnQms",
        "colab_type": "code",
        "colab": {}
      },
      "source": [
        "df5 = shuffle(df5)\n",
        "df5 = shuffle(df5)\n",
        "df5 = shuffle(df5)\n",
        "df5.to_csv('finalcleandata.csv',index=False)\n",
        "files.download('finalcleandata.csv')\n"
      ],
      "execution_count": 0,
      "outputs": []
    },
    {
      "cell_type": "code",
      "metadata": {
        "id": "B-elw9uwvKsX",
        "colab_type": "code",
        "outputId": "f23088ee-beb8-444b-96c9-32b587615faf",
        "colab": {
          "base_uri": "https://localhost:8080/",
          "height": 299
        }
      },
      "source": [
        "import matplotlib.pyplot as plt\n",
        "fig = plt.figure()\n",
        "\n",
        "insult = df5[df5.insult==1]\n",
        "toxic = df5[df5.toxic==1]\n",
        "obscene = df5[df5.obscene==1]\n",
        "racism = df5[df5.racism==1]\n",
        "sexism = df5[df5.sexism==1]\n",
        "neutral = df5[(df5.insult==0) & (df5.toxic==0) & (df5.obscene==0) & (df5.racism==0) & (df5.sexism==0)]\n",
        "\n",
        "x = ['toxic', 'obscene','insult', 'racism','sexism','neutral']\n",
        "height=[len(toxic), len(obscene), len(insult), len(racism),len(sexism),len(neutral)]\n",
        "plt.bar(x, height, width=0.8)\n",
        "plt.show()\n",
        "print(height)\n",
        "print(sum(height))"
      ],
      "execution_count": 0,
      "outputs": [
        {
          "output_type": "display_data",
          "data": {
            "image/png": "[encoded data removed]",
            "text/plain": [
              "<Figure size 432x288 with 1 Axes>"
            ]
          },
          "metadata": {
            "tags": []
          }
        },
        {
          "output_type": "stream",
          "text": [
            "[4097, 2617, 2319, 1937, 2117, 5341]\n",
            "18428\n"
          ],
          "name": "stdout"
        }
      ]
    }
  ]
}