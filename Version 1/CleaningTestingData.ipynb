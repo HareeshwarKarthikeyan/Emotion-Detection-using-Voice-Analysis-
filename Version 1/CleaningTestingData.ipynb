{
  "nbformat": 4,
  "nbformat_minor": 0,
  "metadata": {
    "colab": {
      "name": "Untitled4.ipynb",
      "provenance": []
    },
    "kernelspec": {
      "name": "python3",
      "display_name": "Python 3"
    }
  },
  "cells": [
    {
      "cell_type": "code",
      "metadata": {
        "id": "ZQemVFswrO8d",
        "colab_type": "code",
        "colab": {}
      },
      "source": [
        "import pandas as pd\n",
        "from google.colab import files"
      ],
      "execution_count": 0,
      "outputs": []
    },
    {
      "cell_type": "code",
      "metadata": {
        "id": "E1FNKjV_sQDD",
        "colab_type": "code",
        "outputId": "5ceac679-0bd8-420f-9801-90ec12eb38e1",
        "colab": {
          "base_uri": "https://localhost:8080/",
          "height": 306
        }
      },
      "source": [
        "df = pd.read_csv('data_test_clean.csv')\n",
        "df.head()"
      ],
      "execution_count": 0,
      "outputs": [
        {
          "output_type": "execute_result",
          "data": {
            "text/html": [
              "<div>\n",
              "<style scoped>\n",
              "    .dataframe tbody tr th:only-of-type {\n",
              "        vertical-align: middle;\n",
              "    }\n",
              "\n",
              "    .dataframe tbody tr th {\n",
              "        vertical-align: top;\n",
              "    }\n",
              "\n",
              "    .dataframe thead th {\n",
              "        text-align: right;\n",
              "    }\n",
              "</style>\n",
              "<table border=\"1\" class=\"dataframe\">\n",
              "  <thead>\n",
              "    <tr style=\"text-align: right;\">\n",
              "      <th></th>\n",
              "      <th>Unnamed: 0</th>\n",
              "      <th>id</th>\n",
              "      <th>clean_comment</th>\n",
              "      <th>toxic</th>\n",
              "      <th>severe_toxic</th>\n",
              "      <th>obscene</th>\n",
              "      <th>threat</th>\n",
              "      <th>insult</th>\n",
              "      <th>identity_hate</th>\n",
              "    </tr>\n",
              "  </thead>\n",
              "  <tbody>\n",
              "    <tr>\n",
              "      <th>0</th>\n",
              "      <td>119105</td>\n",
              "      <td>7ca72b5b9c688e9e</td>\n",
              "      <td>b'geez are you forgetful we have already discu...</td>\n",
              "      <td>0.0</td>\n",
              "      <td>0.0</td>\n",
              "      <td>0.0</td>\n",
              "      <td>0.0</td>\n",
              "      <td>0.0</td>\n",
              "      <td>0.0</td>\n",
              "    </tr>\n",
              "    <tr>\n",
              "      <th>1</th>\n",
              "      <td>131631</td>\n",
              "      <td>c03f72fd8f8bf54f</td>\n",
              "      <td>b'carioca rfa thanks for your support on my re...</td>\n",
              "      <td>0.0</td>\n",
              "      <td>0.0</td>\n",
              "      <td>0.0</td>\n",
              "      <td>0.0</td>\n",
              "      <td>0.0</td>\n",
              "      <td>0.0</td>\n",
              "    </tr>\n",
              "    <tr>\n",
              "      <th>2</th>\n",
              "      <td>125326</td>\n",
              "      <td>9e5b8e8fc1ff2e84</td>\n",
              "      <td>b' birthday no worries it is what i do enjoy u...</td>\n",
              "      <td>0.0</td>\n",
              "      <td>0.0</td>\n",
              "      <td>0.0</td>\n",
              "      <td>0.0</td>\n",
              "      <td>0.0</td>\n",
              "      <td>0.0</td>\n",
              "    </tr>\n",
              "    <tr>\n",
              "      <th>3</th>\n",
              "      <td>111256</td>\n",
              "      <td>5332799e706665a6</td>\n",
              "      <td>b'pseudoscience category i am assuming that th...</td>\n",
              "      <td>0.0</td>\n",
              "      <td>0.0</td>\n",
              "      <td>0.0</td>\n",
              "      <td>0.0</td>\n",
              "      <td>0.0</td>\n",
              "      <td>0.0</td>\n",
              "    </tr>\n",
              "    <tr>\n",
              "      <th>4</th>\n",
              "      <td>83590</td>\n",
              "      <td>dfa7d8f0b4366680</td>\n",
              "      <td>b'and if such phrase exists it would be provid...</td>\n",
              "      <td>0.0</td>\n",
              "      <td>0.0</td>\n",
              "      <td>0.0</td>\n",
              "      <td>0.0</td>\n",
              "      <td>0.0</td>\n",
              "      <td>0.0</td>\n",
              "    </tr>\n",
              "  </tbody>\n",
              "</table>\n",
              "</div>"
            ],
            "text/plain": [
              "   Unnamed: 0                id  ... insult  identity_hate\n",
              "0      119105  7ca72b5b9c688e9e  ...    0.0            0.0\n",
              "1      131631  c03f72fd8f8bf54f  ...    0.0            0.0\n",
              "2      125326  9e5b8e8fc1ff2e84  ...    0.0            0.0\n",
              "3      111256  5332799e706665a6  ...    0.0            0.0\n",
              "4       83590  dfa7d8f0b4366680  ...    0.0            0.0\n",
              "\n",
              "[5 rows x 9 columns]"
            ]
          },
          "metadata": {
            "tags": []
          },
          "execution_count": 2
        }
      ]
    },
    {
      "cell_type": "code",
      "metadata": {
        "id": "EWLsIEjSsU16",
        "colab_type": "code",
        "colab": {}
      },
      "source": [
        "df = df.rename(columns={'clean_comment': 'message'})\n",
        "df = df.drop('id',axis = 1)\n",
        "df = df.drop('Unnamed: 0',axis = 1)\n"
      ],
      "execution_count": 0,
      "outputs": []
    },
    {
      "cell_type": "code",
      "metadata": {
        "id": "Looi4aAxskPx",
        "colab_type": "code",
        "colab": {}
      },
      "source": [
        "df = df.drop('severe_toxic',axis = 1)\n",
        "df = df.drop(df[df.threat == 1].index)\n",
        "df = df.drop('threat',axis = 1)\n",
        "df = df.drop(df[df.identity_hate == 1].index)\n",
        "df = df.drop('identity_hate',axis = 1)\n",
        "from sklearn.utils import shuffle\n",
        "df = shuffle(df)\n",
        "df['racism'] = 0\n",
        "df['sexism'] = 0"
      ],
      "execution_count": 0,
      "outputs": []
    },
    {
      "cell_type": "code",
      "metadata": {
        "id": "ahjEEk9AtYDA",
        "colab_type": "code",
        "outputId": "7d7f2530-1d0b-4660-8f21-c90968f51bea",
        "colab": {
          "base_uri": "https://localhost:8080/",
          "height": 204
        }
      },
      "source": [
        "df.head()"
      ],
      "execution_count": 0,
      "outputs": [
        {
          "output_type": "execute_result",
          "data": {
            "text/html": [
              "<div>\n",
              "<style scoped>\n",
              "    .dataframe tbody tr th:only-of-type {\n",
              "        vertical-align: middle;\n",
              "    }\n",
              "\n",
              "    .dataframe tbody tr th {\n",
              "        vertical-align: top;\n",
              "    }\n",
              "\n",
              "    .dataframe thead th {\n",
              "        text-align: right;\n",
              "    }\n",
              "</style>\n",
              "<table border=\"1\" class=\"dataframe\">\n",
              "  <thead>\n",
              "    <tr style=\"text-align: right;\">\n",
              "      <th></th>\n",
              "      <th>message</th>\n",
              "      <th>toxic</th>\n",
              "      <th>obscene</th>\n",
              "      <th>insult</th>\n",
              "      <th>racism</th>\n",
              "      <th>sexism</th>\n",
              "    </tr>\n",
              "  </thead>\n",
              "  <tbody>\n",
              "    <tr>\n",
              "      <th>8249</th>\n",
              "      <td>b'please see wpagf and wpnpa the declining rea...</td>\n",
              "      <td>0.0</td>\n",
              "      <td>0.0</td>\n",
              "      <td>0.0</td>\n",
              "      <td>0</td>\n",
              "      <td>0</td>\n",
              "    </tr>\n",
              "    <tr>\n",
              "      <th>23040</th>\n",
              "      <td>b' stockpuppet hazardsj who is andreas balart ...</td>\n",
              "      <td>0.0</td>\n",
              "      <td>0.0</td>\n",
              "      <td>0.0</td>\n",
              "      <td>0</td>\n",
              "      <td>0</td>\n",
              "    </tr>\n",
              "    <tr>\n",
              "      <th>23282</th>\n",
              "      <td>b'central europe please look at the map of eur...</td>\n",
              "      <td>0.0</td>\n",
              "      <td>0.0</td>\n",
              "      <td>0.0</td>\n",
              "      <td>0</td>\n",
              "      <td>0</td>\n",
              "    </tr>\n",
              "    <tr>\n",
              "      <th>30335</th>\n",
              "      <td>b'well now that i look at the article more clo...</td>\n",
              "      <td>0.0</td>\n",
              "      <td>0.0</td>\n",
              "      <td>0.0</td>\n",
              "      <td>0</td>\n",
              "      <td>0</td>\n",
              "    </tr>\n",
              "    <tr>\n",
              "      <th>6908</th>\n",
              "      <td>b' i am afraid that you are right \\xe2\\x80\\x94...</td>\n",
              "      <td>0.0</td>\n",
              "      <td>0.0</td>\n",
              "      <td>0.0</td>\n",
              "      <td>0</td>\n",
              "      <td>0</td>\n",
              "    </tr>\n",
              "  </tbody>\n",
              "</table>\n",
              "</div>"
            ],
            "text/plain": [
              "                                                 message  toxic  ...  racism  sexism\n",
              "8249   b'please see wpagf and wpnpa the declining rea...    0.0  ...       0       0\n",
              "23040  b' stockpuppet hazardsj who is andreas balart ...    0.0  ...       0       0\n",
              "23282  b'central europe please look at the map of eur...    0.0  ...       0       0\n",
              "30335  b'well now that i look at the article more clo...    0.0  ...       0       0\n",
              "6908   b' i am afraid that you are right \\xe2\\x80\\x94...    0.0  ...       0       0\n",
              "\n",
              "[5 rows x 6 columns]"
            ]
          },
          "metadata": {
            "tags": []
          },
          "execution_count": 5
        }
      ]
    },
    {
      "cell_type": "code",
      "metadata": {
        "id": "_E-AWbHXtrz2",
        "colab_type": "code",
        "colab": {}
      },
      "source": [
        "df.to_csv('cleanTestingFinal.csv')\n",
        "files.download('cleanTestingFinal.csv')"
      ],
      "execution_count": 0,
      "outputs": []
    }
  ]
}