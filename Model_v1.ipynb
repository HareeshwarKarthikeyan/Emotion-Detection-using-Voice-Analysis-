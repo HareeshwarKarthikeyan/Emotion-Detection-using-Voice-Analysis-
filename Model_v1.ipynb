{
 "cells": [
  {
   "cell_type": "code",
   "execution_count": 0,
   "metadata": {},
   "outputs": [],
   "source": [
    "import numpy as np\n",
    "import pandas as pd\n",
    "from keras.preprocessing.text import Tokenizer\n",
    "from tensorflow import keras\n",
    "import tensorflow as tf\n",
    "\n",
    "df = pd.read_csv('DataSet/data_train_clean.csv')\n",
    "\n",
    "tokenizer = Tokenizer(num_words=10000, lower=True)\n",
    "xtrain = df['clean_comment']\n",
    "\n",
    "df.head()\n",
    "ytrain = df[['toxic','severe_toxic','obscene','threat','insult','identity_hate']]"
   ]
  },
  {
   "cell_type": "code",
   "execution_count": 0,
   "metadata": {},
   "outputs": [],
   "source": [
    "tokenizer.fit_on_texts(xtrain)\n",
    "tokenizer.texts_to_sequences(xtrain)"
   ]
  },
  {
   "cell_type": "code",
   "execution_count": 0,
   "metadata": {},
   "outputs": [],
   "source": [
    "dictionary = dict()\n",
    "data = open(\"Dictionary/glove.twitter.27B.200d.txt\",encoding='utf8')\n",
    "for line in data:\n",
    "    values = line.split()\n",
    "    word = values[0]\n",
    "    try:\n",
    "        coefs = np.asarray(values[1:],dtype='float32')\n",
    "    except Exception as e:\n",
    "        pass\n",
    "    dictionary[word] = coefs\n",
    "data.close()\n",
    "\n",
    "#embedding_matrix = np.zeros((10000, 200))\n",
    "#for word, index in tokenizer.word_index.items():\n",
    " #   if index >= 10000:\n",
    "  #      continue\n",
    " #   else:\n",
    "  #      embedding_vector = dictionary.get(word)\n",
    "   #     if embedding_vector is not None:\n",
    "    #        embedding_matrix[index] = embedding_vector\n",
    "            \n",
    "\n"
   ]
  },
  {
   "cell_type": "code",
   "execution_count": 0,
   "metadata": {},
   "outputs": [],
   "source": [
    "def model_hate():\n",
    "  model = keras.Sequential()\n",
    "  \n",
    "  #embed_init = Constant(embedding_matrix)\n",
    "  model.add(keras.layers.Embedding(10000, 200))\n",
    "  \n",
    "  #lstm= LSTM(units=10,return_seq=False)(embed)\n",
    "\n",
    "  #model.add(Dropout(0.2))\n",
    "  model.add(keras.layers.GlobalAveragePooling1D())\n",
    "  model.add(keras.layers.Dense(16, activation=tf.nn.relu))\n",
    "  model.add(keras.layers.Dense(6, activation=tf.nn.softmax))\n",
    "  return model\n",
    "\n",
    "model=model_hate()\n",
    "model.compile(optimizer='adam',loss='sparse_categorical_crossentropy',metrics=['accuracy'])\n",
    "model.summary()\n",
    "\n",
    "#class_wt_dict={0:1.5,1:1}"
   ]
  },
  {
   "cell_type": "code",
   "execution_count": 0,
   "metadata": {},
   "outputs": [],
   "source": [
    "history = model.fit(xtrain,ytrain,epochs=20, batch_size=500)"
   ]
  },
  {
   "cell_type": "code",
   "execution_count": null,
   "metadata": {},
   "outputs": [],
   "source": []
  }
 ],
 "metadata": {
  "kernelspec": {
   "display_name": "Python 3",
   "language": "python",
   "name": "python3"
  },
  "language_info": {
   "codemirror_mode": {
    "name": "ipython",
    "version": 3
   },
   "file_extension": ".py",
   "mimetype": "text/x-python",
   "name": "python",
   "nbconvert_exporter": "python",
   "pygments_lexer": "ipython3",
   "version": "3.7.4"
  }
 },
 "nbformat": 4,
 "nbformat_minor": 2
}